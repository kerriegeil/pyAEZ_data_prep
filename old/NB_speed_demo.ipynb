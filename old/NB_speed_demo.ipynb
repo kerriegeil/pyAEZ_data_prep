{
 "cells": [
  {
   "cell_type": "markdown",
   "metadata": {},
   "source": [
    "# Computation Speed Demo\n"
   ]
  },
  {
   "cell_type": "markdown",
   "metadata": {},
   "source": [
    "Comparing compute time for:\n",
    "\n",
    "compute type | data structure | packages\n",
    "---|---|---\n",
    "fortran-style looping | numpy array | numpy \n",
    "fortran-style looping sped up with numba | numpy array | numpy+numba \n",
    "vectorized computation | numpy array | numpy \n",
    "vectorized parallelized computation | dask array | numpy, dask, dask.distributed"
   ]
  },
  {
   "cell_type": "markdown",
   "metadata": {},
   "source": [
    "## Set up"
   ]
  },
  {
   "cell_type": "code",
   "execution_count": 1,
   "metadata": {},
   "outputs": [],
   "source": [
    "import numpy as np\n",
    "import numba as nb\n",
    "import dask.array as da\n",
    "from dask.distributed import Client\n",
    "\n",
    "from time import time as timer\n",
    "import matplotlib.pyplot as plt\n",
    "\n",
    "# xr just for creating dummy data \n",
    "import xarray as xr"
   ]
  },
  {
   "cell_type": "code",
   "execution_count": 2,
   "metadata": {},
   "outputs": [],
   "source": [
    "data_dir = 'C://Users/kerrie.WIN/Documents/data/pyAEZ_data_inputs_china_03272023/'"
   ]
  },
  {
   "cell_type": "markdown",
   "metadata": {},
   "source": [
    "## Dummy Data Creation"
   ]
  },
  {
   "cell_type": "code",
   "execution_count": 12,
   "metadata": {},
   "outputs": [],
   "source": [
    "# define the spatial resolution of the data\n",
    "# e.g. grids_per_degree=4 means 4 grid boxes per degree lat or lon (1/4 degree x 1/4 degree gridsize)\n",
    "# enter dtype int here\n",
    "grids_per_degree=8\n",
    "\n",
    "# define number of chunks\n",
    "# e.g. chunk_scale**2 total chunks, chunk_scale of 4 yield 16 chunks\n",
    "# enter dtype int here, preferably in a multiple of the number of cores in your processor\n",
    "chunk_scale=4"
   ]
  },
  {
   "cell_type": "code",
   "execution_count": 13,
   "metadata": {},
   "outputs": [],
   "source": [
    "# grid and array \n",
    "gx=360\n",
    "gy=180\n",
    "nx=gx*grids_per_degree\n",
    "ny=gy*grids_per_degree\n",
    "nt=365"
   ]
  },
  {
   "cell_type": "code",
   "execution_count": 14,
   "metadata": {},
   "outputs": [],
   "source": [
    "# function to create dummy data\n",
    "def meanT_global_daily_dummy_data(nx,ny,nt,grids_per_degree,chunk_scale,tmax_xr,tmin_xr):\n",
    "    # create lat lon grid centers based on dims\n",
    "    lat=np.linspace(-90,90,ny+1).astype('float32') # location of grid box edges\n",
    "    lat=(lat+abs((lat[-1]-lat[-2])/2))[:-1] # grid centers\n",
    "    lon=np.linspace(-180,180,nx,endpoint=False).astype('float32') # grid edges\n",
    "    lon=(lon+abs((lon[-1]-lon[-2])/2)) # grid centers  \n",
    "\n",
    "    # create mean temperature \n",
    "    meanT=(tmax_xr+tmin_xr)/2    \n",
    "\n",
    "    # expand onto a grid\n",
    "    meanT_xr=meanT.expand_dims({'lon':lon,'lat':lat})\n",
    "\n",
    "    # now create a numpy array with dims (x,y,t) as in pyaez tutorial notebooks\n",
    "    meanT_np=meanT_xr.data\n",
    "\n",
    "    # last create dask array (chunked numpy array)\n",
    "    meanT_npda=da.from_array(meanT_np,chunks=(int(nx/chunk_scale),int(ny/chunk_scale),nt))\n",
    "\n",
    "    return meanT_np, meanT_npda"
   ]
  },
  {
   "cell_type": "code",
   "execution_count": 15,
   "metadata": {},
   "outputs": [],
   "source": [
    "# pull a single temperature timeseries from some local data files\n",
    "# read data in as xarray dataArrays\n",
    "tmax = xr.open_dataset(data_dir+'tmax_daily_8110.nc')['tmax'].isel(lat=300,lon=500).squeeze().reset_coords(['lat','lon'],drop=True)\n",
    "tmin = xr.open_dataset(data_dir+'tmin_daily_8110.nc')['tmin'].isel(lat=300,lon=500).squeeze().reset_coords(['lat','lon'],drop=True)\n"
   ]
  },
  {
   "cell_type": "code",
   "execution_count": 16,
   "metadata": {},
   "outputs": [
    {
     "data": {
      "text/html": [
       "<table>\n",
       "    <tr>\n",
       "        <td>\n",
       "            <table style=\"border-collapse: collapse;\">\n",
       "                <thead>\n",
       "                    <tr>\n",
       "                        <td> </td>\n",
       "                        <th> Array </th>\n",
       "                        <th> Chunk </th>\n",
       "                    </tr>\n",
       "                </thead>\n",
       "                <tbody>\n",
       "                    \n",
       "                    <tr>\n",
       "                        <th> Bytes </th>\n",
       "                        <td> 5.64 GiB </td>\n",
       "                        <td> 360.90 MiB </td>\n",
       "                    </tr>\n",
       "                    \n",
       "                    <tr>\n",
       "                        <th> Shape </th>\n",
       "                        <td> (2880, 1440, 365) </td>\n",
       "                        <td> (720, 360, 365) </td>\n",
       "                    </tr>\n",
       "                    <tr>\n",
       "                        <th> Dask graph </th>\n",
       "                        <td colspan=\"2\"> 16 chunks in 1 graph layer </td>\n",
       "                    </tr>\n",
       "                    <tr>\n",
       "                        <th> Data type </th>\n",
       "                        <td colspan=\"2\"> float32 numpy.ndarray </td>\n",
       "                    </tr>\n",
       "                </tbody>\n",
       "            </table>\n",
       "        </td>\n",
       "        <td>\n",
       "        <svg width=\"170\" height=\"180\" style=\"stroke:rgb(0,0,0);stroke-width:1\" >\n",
       "\n",
       "  <!-- Horizontal lines -->\n",
       "  <line x1=\"10\" y1=\"0\" x2=\"80\" y2=\"70\" style=\"stroke-width:2\" />\n",
       "  <line x1=\"10\" y1=\"15\" x2=\"80\" y2=\"85\" />\n",
       "  <line x1=\"10\" y1=\"30\" x2=\"80\" y2=\"100\" />\n",
       "  <line x1=\"10\" y1=\"45\" x2=\"80\" y2=\"115\" />\n",
       "  <line x1=\"10\" y1=\"60\" x2=\"80\" y2=\"130\" style=\"stroke-width:2\" />\n",
       "\n",
       "  <!-- Vertical lines -->\n",
       "  <line x1=\"10\" y1=\"0\" x2=\"10\" y2=\"60\" style=\"stroke-width:2\" />\n",
       "  <line x1=\"27\" y1=\"17\" x2=\"27\" y2=\"77\" />\n",
       "  <line x1=\"45\" y1=\"35\" x2=\"45\" y2=\"95\" />\n",
       "  <line x1=\"62\" y1=\"52\" x2=\"62\" y2=\"112\" />\n",
       "  <line x1=\"80\" y1=\"70\" x2=\"80\" y2=\"130\" style=\"stroke-width:2\" />\n",
       "\n",
       "  <!-- Colored Rectangle -->\n",
       "  <polygon points=\"10.0,0.0 80.58823529411765,70.58823529411765 80.58823529411765,130.58823529411765 10.0,60.0\" style=\"fill:#ECB172A0;stroke-width:0\"/>\n",
       "\n",
       "  <!-- Horizontal lines -->\n",
       "  <line x1=\"10\" y1=\"0\" x2=\"49\" y2=\"0\" style=\"stroke-width:2\" />\n",
       "  <line x1=\"27\" y1=\"17\" x2=\"67\" y2=\"17\" />\n",
       "  <line x1=\"45\" y1=\"35\" x2=\"85\" y2=\"35\" />\n",
       "  <line x1=\"62\" y1=\"52\" x2=\"102\" y2=\"52\" />\n",
       "  <line x1=\"80\" y1=\"70\" x2=\"120\" y2=\"70\" style=\"stroke-width:2\" />\n",
       "\n",
       "  <!-- Vertical lines -->\n",
       "  <line x1=\"10\" y1=\"0\" x2=\"80\" y2=\"70\" style=\"stroke-width:2\" />\n",
       "  <line x1=\"49\" y1=\"0\" x2=\"120\" y2=\"70\" style=\"stroke-width:2\" />\n",
       "\n",
       "  <!-- Colored Rectangle -->\n",
       "  <polygon points=\"10.0,0.0 49.865144085727295,0.0 120.45337937984495,70.58823529411765 80.58823529411765,70.58823529411765\" style=\"fill:#ECB172A0;stroke-width:0\"/>\n",
       "\n",
       "  <!-- Horizontal lines -->\n",
       "  <line x1=\"80\" y1=\"70\" x2=\"120\" y2=\"70\" style=\"stroke-width:2\" />\n",
       "  <line x1=\"80\" y1=\"85\" x2=\"120\" y2=\"85\" />\n",
       "  <line x1=\"80\" y1=\"100\" x2=\"120\" y2=\"100\" />\n",
       "  <line x1=\"80\" y1=\"115\" x2=\"120\" y2=\"115\" />\n",
       "  <line x1=\"80\" y1=\"130\" x2=\"120\" y2=\"130\" style=\"stroke-width:2\" />\n",
       "\n",
       "  <!-- Vertical lines -->\n",
       "  <line x1=\"80\" y1=\"70\" x2=\"80\" y2=\"130\" style=\"stroke-width:2\" />\n",
       "  <line x1=\"120\" y1=\"70\" x2=\"120\" y2=\"130\" style=\"stroke-width:2\" />\n",
       "\n",
       "  <!-- Colored Rectangle -->\n",
       "  <polygon points=\"80.58823529411765,70.58823529411765 120.45337937984495,70.58823529411765 120.45337937984495,130.58823529411765 80.58823529411765,130.58823529411765\" style=\"fill:#ECB172A0;stroke-width:0\"/>\n",
       "\n",
       "  <!-- Text -->\n",
       "  <text x=\"100.520807\" y=\"150.588235\" font-size=\"1.0rem\" font-weight=\"100\" text-anchor=\"middle\" >365</text>\n",
       "  <text x=\"140.453379\" y=\"100.588235\" font-size=\"1.0rem\" font-weight=\"100\" text-anchor=\"middle\" transform=\"rotate(-90,140.453379,100.588235)\">1440</text>\n",
       "  <text x=\"35.294118\" y=\"115.294118\" font-size=\"1.0rem\" font-weight=\"100\" text-anchor=\"middle\" transform=\"rotate(45,35.294118,115.294118)\">2880</text>\n",
       "</svg>\n",
       "        </td>\n",
       "    </tr>\n",
       "</table>"
      ],
      "text/plain": [
       "dask.array<array, shape=(2880, 1440, 365), dtype=float32, chunksize=(720, 360, 365), chunktype=numpy.ndarray>"
      ]
     },
     "execution_count": 16,
     "metadata": {},
     "output_type": "execute_result"
    }
   ],
   "source": [
    "# create data stored in 2 different ways\n",
    "# the function outputs:\n",
    "# numpy array with dims (nx,ny,nt)\n",
    "# dask array (numpy array broken into chunk) with dims (nx,ny,nt)\n",
    "\n",
    "meanT_np, meanT_npda = meanT_global_daily_dummy_data(nx,ny,nt,grids_per_degree,chunk_scale,tmax,tmin)\n",
    "\n",
    "# look at the size in GB\n",
    "meanT_npda"
   ]
  },
  {
   "cell_type": "code",
   "execution_count": 17,
   "metadata": {},
   "outputs": [
    {
     "data": {
      "text/plain": [
       "[<matplotlib.lines.Line2D at 0x19403946470>]"
      ]
     },
     "execution_count": 17,
     "metadata": {},
     "output_type": "execute_result"
    },
    {
     "data": {
      "image/png": "[encoded data removed]",
      "text/plain": [
       "<Figure size 300x300 with 1 Axes>"
      ]
     },
     "metadata": {},
     "output_type": "display_data"
    }
   ],
   "source": [
    "# plot a single grid cell timeseries\n",
    "fig = plt.figure(figsize=(3,3))\n",
    "plt.plot(meanT_np[0,0,:],marker='o',markersize=1,linewidth=0)"
   ]
  },
  {
   "cell_type": "markdown",
   "metadata": {},
   "source": [
    "We've got daily mean temperature dummy data stored 2 different ways now:\n",
    "\n",
    "- in a numpy array, dims (nx,ny,nt)\n",
    "- in a dask array (numpy array broken into chunks), dims (nx,ny,nt)  "
   ]
  },
  {
   "cell_type": "markdown",
   "metadata": {},
   "source": [
    "## Computations\n",
    "\n",
    "Here we use a 4 different approaches for computing the following at each gridbox \n",
    "- annual mean T\n",
    "- annual accumulated T\n",
    "- warmest day\n",
    "- coolest day\n",
    "\n",
    "We'll demonstrate how vectorization and parallelization affect computation speed. \n",
    "\n",
    "Note: I purposefully picked simple calculations and functions supported by all packages so none of the demos error"
   ]
  },
  {
   "cell_type": "markdown",
   "metadata": {},
   "source": [
    "### Fortran-style looping from numpy array"
   ]
  },
  {
   "cell_type": "code",
   "execution_count": 18,
   "metadata": {},
   "outputs": [
    {
     "data": {
      "text/plain": [
       "54.04194498062134"
      ]
     },
     "execution_count": 18,
     "metadata": {},
     "output_type": "execute_result"
    }
   ],
   "source": [
    "start=timer()\n",
    "\n",
    "# pre-allocate arrays to store results\n",
    "ann_meanT = np.empty((nx,ny)) \n",
    "ann_accT = np.empty((nx,ny))\n",
    "day_warmest = np.empty((nx,ny))\n",
    "day_coldest = np.empty((nx,ny)) \n",
    "\n",
    "# loop through each gridbox\n",
    "for ix in range(nx): \n",
    "    for iy in range(ny):\n",
    "        # single gridbox timeseries from numpy array \n",
    "        data_1D = meanT_np[ix,iy,:] \n",
    "        ann_meanT[ix,iy]=data_1D.mean()\n",
    "        ann_accT[ix,iy]=data_1D.sum()\n",
    "        day_warmest[ix,iy]=data_1D.argmax()+1\n",
    "        day_coldest[ix,iy]=data_1D.argmin()+1       \n",
    "\n",
    "tasktime = timer()-start\n",
    "tasktime"
   ]
  },
  {
   "cell_type": "code",
   "execution_count": 19,
   "metadata": {},
   "outputs": [],
   "source": [
    "del ann_meanT, ann_accT, day_warmest, day_coldest"
   ]
  },
  {
   "cell_type": "markdown",
   "metadata": {},
   "source": [
    "on kerrie's windows desktop, grids_per_degree=8, (array size = 5.64GB):\n",
    "\n",
    "the above takes ~51.5 seconds"
   ]
  },
  {
   "cell_type": "markdown",
   "metadata": {},
   "source": [
    "### Fortran-style looping from numpy array sped up with numba\n",
    "\n",
    "note: numba only works with a subset of numpy functions. Something as simple as np.median can cause errors and more complicated numpy functions like polynomial fitting aren't supported"
   ]
  },
  {
   "cell_type": "code",
   "execution_count": 20,
   "metadata": {},
   "outputs": [
    {
     "data": {
      "text/plain": [
       "6.739246129989624"
      ]
     },
     "execution_count": 20,
     "metadata": {},
     "output_type": "execute_result"
    }
   ],
   "source": [
    "# put everything inside a function \n",
    "start=timer()\n",
    "\n",
    "@nb.jit(nopython=True)\n",
    "def compute_stuff(nx,ny,data3D):\n",
    "    # pre-allocate arrays to store results\n",
    "    ann_meanT = np.empty((nx,ny)) \n",
    "    ann_accT = np.empty((nx,ny)) \n",
    "    day_warmest = np.empty((nx,ny)) \n",
    "    day_coldest = np.empty((nx,ny)) \n",
    "\n",
    "    for ix in range(nx): \n",
    "        for iy in range(ny):\n",
    "            # single gridbox timeseries from numpy array \n",
    "            data_1D = data3D[ix,iy,:] \n",
    "            ann_meanT[ix,iy]=data_1D.mean()\n",
    "            ann_accT[ix,iy]=data_1D.sum()\n",
    "            day_warmest[ix,iy]=data_1D.argmax()+1\n",
    "            day_coldest[ix,iy]=data_1D.argmin()+1 \n",
    "            \n",
    "    return ann_meanT, ann_accT, day_warmest, day_coldest       \n",
    "\n",
    "ann_meanT, ann_accT, day_warmest, day_coldest = compute_stuff(nx,ny,meanT_np)\n",
    "\n",
    "tasktime = timer()-start\n",
    "tasktime"
   ]
  },
  {
   "cell_type": "code",
   "execution_count": 21,
   "metadata": {},
   "outputs": [],
   "source": [
    "del ann_meanT, ann_accT, day_warmest, day_coldest"
   ]
  },
  {
   "cell_type": "markdown",
   "metadata": {},
   "source": [
    "on kerrie's Windows desktop, grids_per_degree=8, (array size = 5.64GB):\n",
    "\n",
    "Numba appears to be lightning fast, reducing a 51.5s fortran-style looped computation to ~6.5 seconds\n",
    "\n",
    "BUT this still won't be faster than simply using vectorized numpy functions, as we will see next\n",
    "\n",
    "Also, problems arise with numba for more complicated computations or use of functions that aren't supported by numba. In these cases, which is often, you can get no speed ups or even slow downs vs the fortran-style looping."
   ]
  },
  {
   "cell_type": "markdown",
   "metadata": {},
   "source": [
    "### Vectorized Computation with numpy"
   ]
  },
  {
   "cell_type": "code",
   "execution_count": 22,
   "metadata": {},
   "outputs": [
    {
     "data": {
      "text/plain": [
       "4.933847188949585"
      ]
     },
     "execution_count": 22,
     "metadata": {},
     "output_type": "execute_result"
    }
   ],
   "source": [
    "start=timer()\n",
    "\n",
    "# no need to pre-allocate\n",
    "# no loops, vectorize instead\n",
    "# indicate computation on the time dimension by passing axis=2\n",
    "\n",
    "ann_meanT=meanT_np.mean(axis=2)\n",
    "ann_accT=meanT_np.sum(axis=2)\n",
    "day_warmest=meanT_np.argmax(axis=2)+1\n",
    "day_coldest=meanT_np.argmin(axis=2)+1       \n",
    "\n",
    "tasktime = timer()-start\n",
    "tasktime"
   ]
  },
  {
   "cell_type": "code",
   "execution_count": 23,
   "metadata": {},
   "outputs": [],
   "source": [
    "del ann_meanT, ann_accT, day_warmest, day_coldest"
   ]
  },
  {
   "cell_type": "markdown",
   "metadata": {},
   "source": [
    "on kerrie's Windows desktop, grids_per_degree=8, (array size = 5.64GB):\n",
    "\n",
    "at ~5s, numpy vectorization results in slightly faster computation than fortran-style looping with numba\n",
    "\n",
    "it also reduces the amount of code to 4 simple lines\n",
    "\n",
    "additionally, numpy vectorization can apply to the entirety of the code, whereas numba loops can only speed up sections of simple code that is looped"
   ]
  },
  {
   "cell_type": "markdown",
   "metadata": {},
   "source": [
    "### Vectorized Parallelized Computation with dask"
   ]
  },
  {
   "cell_type": "code",
   "execution_count": 24,
   "metadata": {},
   "outputs": [
    {
     "data": {
      "text/html": [
       "<div>\n",
       "    <div style=\"width: 24px; height: 24px; background-color: #e1e1e1; border: 3px solid #9D9D9D; border-radius: 5px; position: absolute;\"> </div>\n",
       "    <div style=\"margin-left: 48px;\">\n",
       "        <h3 style=\"margin-bottom: 0px;\">Client</h3>\n",
       "        <p style=\"color: #9D9D9D; margin-bottom: 0px;\">Client-9b902adf-da56-11ed-87e4-a4bb6db2e80f</p>\n",
       "        <table style=\"width: 100%; text-align: left;\">\n",
       "\n",
       "        <tr>\n",
       "        \n",
       "            <td style=\"text-align: left;\"><strong>Connection method:</strong> Cluster object</td>\n",
       "            <td style=\"text-align: left;\"><strong>Cluster type:</strong> distributed.LocalCluster</td>\n",
       "        \n",
       "        </tr>\n",
       "\n",
       "        \n",
       "            <tr>\n",
       "                <td style=\"text-align: left;\">\n",
       "                    <strong>Dashboard: </strong> <a href=\"http://127.0.0.1:8787/status\" target=\"_blank\">http://127.0.0.1:8787/status</a>\n",
       "                </td>\n",
       "                <td style=\"text-align: left;\"></td>\n",
       "            </tr>\n",
       "        \n",
       "\n",
       "        </table>\n",
       "\n",
       "        \n",
       "\n",
       "        \n",
       "            <details>\n",
       "            <summary style=\"margin-bottom: 20px;\"><h3 style=\"display: inline;\">Cluster Info</h3></summary>\n",
       "            <div class=\"jp-RenderedHTMLCommon jp-RenderedHTML jp-mod-trusted jp-OutputArea-output\">\n",
       "    <div style=\"width: 24px; height: 24px; background-color: #e1e1e1; border: 3px solid #9D9D9D; border-radius: 5px; position: absolute;\">\n",
       "    </div>\n",
       "    <div style=\"margin-left: 48px;\">\n",
       "        <h3 style=\"margin-bottom: 0px; margin-top: 0px;\">LocalCluster</h3>\n",
       "        <p style=\"color: #9D9D9D; margin-bottom: 0px;\">c121d66f</p>\n",
       "        <table style=\"width: 100%; text-align: left;\">\n",
       "            <tr>\n",
       "                <td style=\"text-align: left;\">\n",
       "                    <strong>Dashboard:</strong> <a href=\"http://127.0.0.1:8787/status\" target=\"_blank\">http://127.0.0.1:8787/status</a>\n",
       "                </td>\n",
       "                <td style=\"text-align: left;\">\n",
       "                    <strong>Workers:</strong> 4\n",
       "                </td>\n",
       "            </tr>\n",
       "            <tr>\n",
       "                <td style=\"text-align: left;\">\n",
       "                    <strong>Total threads:</strong> 8\n",
       "                </td>\n",
       "                <td style=\"text-align: left;\">\n",
       "                    <strong>Total memory:</strong> 31.69 GiB\n",
       "                </td>\n",
       "            </tr>\n",
       "            \n",
       "            <tr>\n",
       "    <td style=\"text-align: left;\"><strong>Status:</strong> running</td>\n",
       "    <td style=\"text-align: left;\"><strong>Using processes:</strong> True</td>\n",
       "</tr>\n",
       "\n",
       "            \n",
       "        </table>\n",
       "\n",
       "        <details>\n",
       "            <summary style=\"margin-bottom: 20px;\">\n",
       "                <h3 style=\"display: inline;\">Scheduler Info</h3>\n",
       "            </summary>\n",
       "\n",
       "            <div style=\"\">\n",
       "    <div>\n",
       "        <div style=\"width: 24px; height: 24px; background-color: #FFF7E5; border: 3px solid #FF6132; border-radius: 5px; position: absolute;\"> </div>\n",
       "        <div style=\"margin-left: 48px;\">\n",
       "            <h3 style=\"margin-bottom: 0px;\">Scheduler</h3>\n",
       "            <p style=\"color: #9D9D9D; margin-bottom: 0px;\">Scheduler-2930bd21-4e08-4f39-bd06-2f73825697c5</p>\n",
       "            <table style=\"width: 100%; text-align: left;\">\n",
       "                <tr>\n",
       "                    <td style=\"text-align: left;\">\n",
       "                        <strong>Comm:</strong> tcp://127.0.0.1:50006\n",
       "                    </td>\n",
       "                    <td style=\"text-align: left;\">\n",
       "                        <strong>Workers:</strong> 4\n",
       "                    </td>\n",
       "                </tr>\n",
       "                <tr>\n",
       "                    <td style=\"text-align: left;\">\n",
       "                        <strong>Dashboard:</strong> <a href=\"http://127.0.0.1:8787/status\" target=\"_blank\">http://127.0.0.1:8787/status</a>\n",
       "                    </td>\n",
       "                    <td style=\"text-align: left;\">\n",
       "                        <strong>Total threads:</strong> 8\n",
       "                    </td>\n",
       "                </tr>\n",
       "                <tr>\n",
       "                    <td style=\"text-align: left;\">\n",
       "                        <strong>Started:</strong> Just now\n",
       "                    </td>\n",
       "                    <td style=\"text-align: left;\">\n",
       "                        <strong>Total memory:</strong> 31.69 GiB\n",
       "                    </td>\n",
       "                </tr>\n",
       "            </table>\n",
       "        </div>\n",
       "    </div>\n",
       "\n",
       "    <details style=\"margin-left: 48px;\">\n",
       "        <summary style=\"margin-bottom: 20px;\">\n",
       "            <h3 style=\"display: inline;\">Workers</h3>\n",
       "        </summary>\n",
       "\n",
       "        \n",
       "        <div style=\"margin-bottom: 20px;\">\n",
       "            <div style=\"width: 24px; height: 24px; background-color: #DBF5FF; border: 3px solid #4CC9FF; border-radius: 5px; position: absolute;\"> </div>\n",
       "            <div style=\"margin-left: 48px;\">\n",
       "            <details>\n",
       "                <summary>\n",
       "                    <h4 style=\"margin-bottom: 0px; display: inline;\">Worker: 0</h4>\n",
       "                </summary>\n",
       "                <table style=\"width: 100%; text-align: left;\">\n",
       "                    <tr>\n",
       "                        <td style=\"text-align: left;\">\n",
       "                            <strong>Comm: </strong> tcp://127.0.0.1:50035\n",
       "                        </td>\n",
       "                        <td style=\"text-align: left;\">\n",
       "                            <strong>Total threads: </strong> 2\n",
       "                        </td>\n",
       "                    </tr>\n",
       "                    <tr>\n",
       "                        <td style=\"text-align: left;\">\n",
       "                            <strong>Dashboard: </strong> <a href=\"http://127.0.0.1:50036/status\" target=\"_blank\">http://127.0.0.1:50036/status</a>\n",
       "                        </td>\n",
       "                        <td style=\"text-align: left;\">\n",
       "                            <strong>Memory: </strong> 7.92 GiB\n",
       "                        </td>\n",
       "                    </tr>\n",
       "                    <tr>\n",
       "                        <td style=\"text-align: left;\">\n",
       "                            <strong>Nanny: </strong> tcp://127.0.0.1:50009\n",
       "                        </td>\n",
       "                        <td style=\"text-align: left;\"></td>\n",
       "                    </tr>\n",
       "                    <tr>\n",
       "                        <td colspan=\"2\" style=\"text-align: left;\">\n",
       "                            <strong>Local directory: </strong> C:\\Users\\kerrie.WIN\\AppData\\Local\\Temp\\dask-worker-space\\worker-t1cj2d99\n",
       "                        </td>\n",
       "                    </tr>\n",
       "\n",
       "                    \n",
       "\n",
       "                    \n",
       "\n",
       "                </table>\n",
       "            </details>\n",
       "            </div>\n",
       "        </div>\n",
       "        \n",
       "        <div style=\"margin-bottom: 20px;\">\n",
       "            <div style=\"width: 24px; height: 24px; background-color: #DBF5FF; border: 3px solid #4CC9FF; border-radius: 5px; position: absolute;\"> </div>\n",
       "            <div style=\"margin-left: 48px;\">\n",
       "            <details>\n",
       "                <summary>\n",
       "                    <h4 style=\"margin-bottom: 0px; display: inline;\">Worker: 1</h4>\n",
       "                </summary>\n",
       "                <table style=\"width: 100%; text-align: left;\">\n",
       "                    <tr>\n",
       "                        <td style=\"text-align: left;\">\n",
       "                            <strong>Comm: </strong> tcp://127.0.0.1:50025\n",
       "                        </td>\n",
       "                        <td style=\"text-align: left;\">\n",
       "                            <strong>Total threads: </strong> 2\n",
       "                        </td>\n",
       "                    </tr>\n",
       "                    <tr>\n",
       "                        <td style=\"text-align: left;\">\n",
       "                            <strong>Dashboard: </strong> <a href=\"http://127.0.0.1:50026/status\" target=\"_blank\">http://127.0.0.1:50026/status</a>\n",
       "                        </td>\n",
       "                        <td style=\"text-align: left;\">\n",
       "                            <strong>Memory: </strong> 7.92 GiB\n",
       "                        </td>\n",
       "                    </tr>\n",
       "                    <tr>\n",
       "                        <td style=\"text-align: left;\">\n",
       "                            <strong>Nanny: </strong> tcp://127.0.0.1:50010\n",
       "                        </td>\n",
       "                        <td style=\"text-align: left;\"></td>\n",
       "                    </tr>\n",
       "                    <tr>\n",
       "                        <td colspan=\"2\" style=\"text-align: left;\">\n",
       "                            <strong>Local directory: </strong> C:\\Users\\kerrie.WIN\\AppData\\Local\\Temp\\dask-worker-space\\worker-vru8416j\n",
       "                        </td>\n",
       "                    </tr>\n",
       "\n",
       "                    \n",
       "\n",
       "                    \n",
       "\n",
       "                </table>\n",
       "            </details>\n",
       "            </div>\n",
       "        </div>\n",
       "        \n",
       "        <div style=\"margin-bottom: 20px;\">\n",
       "            <div style=\"width: 24px; height: 24px; background-color: #DBF5FF; border: 3px solid #4CC9FF; border-radius: 5px; position: absolute;\"> </div>\n",
       "            <div style=\"margin-left: 48px;\">\n",
       "            <details>\n",
       "                <summary>\n",
       "                    <h4 style=\"margin-bottom: 0px; display: inline;\">Worker: 2</h4>\n",
       "                </summary>\n",
       "                <table style=\"width: 100%; text-align: left;\">\n",
       "                    <tr>\n",
       "                        <td style=\"text-align: left;\">\n",
       "                            <strong>Comm: </strong> tcp://127.0.0.1:50040\n",
       "                        </td>\n",
       "                        <td style=\"text-align: left;\">\n",
       "                            <strong>Total threads: </strong> 2\n",
       "                        </td>\n",
       "                    </tr>\n",
       "                    <tr>\n",
       "                        <td style=\"text-align: left;\">\n",
       "                            <strong>Dashboard: </strong> <a href=\"http://127.0.0.1:50041/status\" target=\"_blank\">http://127.0.0.1:50041/status</a>\n",
       "                        </td>\n",
       "                        <td style=\"text-align: left;\">\n",
       "                            <strong>Memory: </strong> 7.92 GiB\n",
       "                        </td>\n",
       "                    </tr>\n",
       "                    <tr>\n",
       "                        <td style=\"text-align: left;\">\n",
       "                            <strong>Nanny: </strong> tcp://127.0.0.1:50011\n",
       "                        </td>\n",
       "                        <td style=\"text-align: left;\"></td>\n",
       "                    </tr>\n",
       "                    <tr>\n",
       "                        <td colspan=\"2\" style=\"text-align: left;\">\n",
       "                            <strong>Local directory: </strong> C:\\Users\\kerrie.WIN\\AppData\\Local\\Temp\\dask-worker-space\\worker-glskhdwj\n",
       "                        </td>\n",
       "                    </tr>\n",
       "\n",
       "                    \n",
       "\n",
       "                    \n",
       "\n",
       "                </table>\n",
       "            </details>\n",
       "            </div>\n",
       "        </div>\n",
       "        \n",
       "        <div style=\"margin-bottom: 20px;\">\n",
       "            <div style=\"width: 24px; height: 24px; background-color: #DBF5FF; border: 3px solid #4CC9FF; border-radius: 5px; position: absolute;\"> </div>\n",
       "            <div style=\"margin-left: 48px;\">\n",
       "            <details>\n",
       "                <summary>\n",
       "                    <h4 style=\"margin-bottom: 0px; display: inline;\">Worker: 3</h4>\n",
       "                </summary>\n",
       "                <table style=\"width: 100%; text-align: left;\">\n",
       "                    <tr>\n",
       "                        <td style=\"text-align: left;\">\n",
       "                            <strong>Comm: </strong> tcp://127.0.0.1:50032\n",
       "                        </td>\n",
       "                        <td style=\"text-align: left;\">\n",
       "                            <strong>Total threads: </strong> 2\n",
       "                        </td>\n",
       "                    </tr>\n",
       "                    <tr>\n",
       "                        <td style=\"text-align: left;\">\n",
       "                            <strong>Dashboard: </strong> <a href=\"http://127.0.0.1:50033/status\" target=\"_blank\">http://127.0.0.1:50033/status</a>\n",
       "                        </td>\n",
       "                        <td style=\"text-align: left;\">\n",
       "                            <strong>Memory: </strong> 7.92 GiB\n",
       "                        </td>\n",
       "                    </tr>\n",
       "                    <tr>\n",
       "                        <td style=\"text-align: left;\">\n",
       "                            <strong>Nanny: </strong> tcp://127.0.0.1:50012\n",
       "                        </td>\n",
       "                        <td style=\"text-align: left;\"></td>\n",
       "                    </tr>\n",
       "                    <tr>\n",
       "                        <td colspan=\"2\" style=\"text-align: left;\">\n",
       "                            <strong>Local directory: </strong> C:\\Users\\kerrie.WIN\\AppData\\Local\\Temp\\dask-worker-space\\worker-ydcety6b\n",
       "                        </td>\n",
       "                    </tr>\n",
       "\n",
       "                    \n",
       "\n",
       "                    \n",
       "\n",
       "                </table>\n",
       "            </details>\n",
       "            </div>\n",
       "        </div>\n",
       "        \n",
       "\n",
       "    </details>\n",
       "</div>\n",
       "\n",
       "        </details>\n",
       "    </div>\n",
       "</div>\n",
       "            </details>\n",
       "        \n",
       "\n",
       "    </div>\n",
       "</div>"
      ],
      "text/plain": [
       "<Client: 'tcp://127.0.0.1:50006' processes=4 threads=8, memory=31.69 GiB>"
      ]
     },
     "execution_count": 24,
     "metadata": {},
     "output_type": "execute_result"
    }
   ],
   "source": [
    "# use all your computer's cores simulatenously, like a mini HPC cluster\n",
    "# click on the cluster info expand arrow to get information about workers/threads/memory\n",
    "# once you start a client in ipynb, you don't have to do it again unless you restart the kernel \n",
    "client=Client()\n",
    "client"
   ]
  },
  {
   "cell_type": "code",
   "execution_count": 25,
   "metadata": {},
   "outputs": [
    {
     "data": {
      "text/plain": [
       "2.886436939239502"
      ]
     },
     "execution_count": 25,
     "metadata": {},
     "output_type": "execute_result"
    }
   ],
   "source": [
    "start=timer()\n",
    "\n",
    "# same code as for vectorized numpy, except using chunked data (meanT_npda) instead of meanT_np\n",
    "# with minimal changes to the code we can parallelize the computations\n",
    "\n",
    "# these lines are lazy, meaning they don't actually compute anything\n",
    "# they simply store each task in a what's called a dask graph, for computation later\n",
    "ann_meanT=meanT_npda.mean(axis=2)\n",
    "ann_accT=meanT_npda.sum(axis=2)\n",
    "day_warmest=meanT_npda.argmax(axis=2)+1\n",
    "day_coldest=meanT_npda.argmin(axis=2)+1       \n",
    "\n",
    "# when we want the results, we have to call compute\n",
    "ann_meanT.compute()\n",
    "ann_accT.compute()\n",
    "day_warmest.compute()\n",
    "day_coldest.compute()\n",
    "\n",
    "tasktime = timer()-start\n",
    "tasktime"
   ]
  },
  {
   "cell_type": "code",
   "execution_count": 26,
   "metadata": {},
   "outputs": [],
   "source": [
    "del ann_meanT, ann_accT, day_warmest, day_coldest"
   ]
  },
  {
   "cell_type": "markdown",
   "metadata": {},
   "source": [
    "on kerrie's Windows desktop, grids_per_degree=8, (array size = 5.64GB):\n",
    "\n",
    "vectorized, parallelized computation is the fastest, requiring only ~3 seconds\n",
    "\n",
    "\n",
    "- implementation of vectorized computation across the entire pyaez will provide the biggest speed gain\n",
    "- implementation of parallelized lazy computation on the heaviest comps will provide additional pyaez speed gains\n",
    "- implementation of additional parallelized lazy comps outside of the heaviest comps will slow pyaez down a little bit but will allow input of much larger datasets without running out of memory"
   ]
  },
  {
   "cell_type": "markdown",
   "metadata": {},
   "source": [
    "## Caveats\n",
    "\n",
    "We will only get dask speed gains for bigger data due to the overhead of the parallelization (see table below comparing times for different sized input data)\n",
    "\n",
    "grids_per_degree| array size | nchunks | fortran-style python | fortran-style python +numba | vectorized python | vectorized parallelized (dask)\n",
    "---|---|---|---|---|---|---\n",
    "2 | 360 MB | 16 | 3s | 1.5s | 0.3s | 1s   \n",
    "4 | 1.41 GB | 16 | 12.5s | 2.5s | 1.25s | 2s\n",
    "8 | 5.64 GB | 16 | 51.5s | 6.5s | 5s | 3.75s\n",
    "16 | 22.56 GB | 16 | 202.5s | 22.5s | 20s | 11s\n",
    "16 | 22.56 GB | 64 | n/a | n/a | n/a | 10s\n",
    "16 | 22.56 GB | 144 | n/a | n/a | n/a | 10s\n",
    "\n",
    "\n",
    "## Recommendation\n",
    "\n",
    "- eliminate use of loops and numba\n",
    "- implement vectorization throughout the entire code\n",
    "- implement dask for the heaviest computations\n",
    "- later, implement more dask to allow for memory improvements"
   ]
  }
 ],
 "metadata": {
  "kernelspec": {
   "display_name": "Python 3 (ipykernel)",
   "language": "python",
   "name": "python3"
  },
  "language_info": {
   "codemirror_mode": {
    "name": "ipython",
    "version": 3
   },
   "file_extension": ".py",
   "mimetype": "text/x-python",
   "name": "python",
   "nbconvert_exporter": "python",
   "pygments_lexer": "ipython3",
   "version": "3.11.3"
  },
  "vscode": {
   "interpreter": {
    "hash": "c18769bb7753205c90b6d73d9e0c8873ff657de65ecfa883c9f606a6451feb68"
   }
  }
 },
 "nbformat": 4,
 "nbformat_minor": 2
}
