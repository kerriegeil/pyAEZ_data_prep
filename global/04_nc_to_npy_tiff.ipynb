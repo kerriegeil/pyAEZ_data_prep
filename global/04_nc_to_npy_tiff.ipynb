{
 "cells": [
  {
   "cell_type": "raw",
   "metadata": {},
   "source": [
    "Author: K Geil\n",
    "Date: 6/2023\n",
    "Description: save netcdfs as npy for faster loading in pyaez"
   ]
  },
  {
   "cell_type": "markdown",
   "metadata": {},
   "source": [
    "# Set up"
   ]
  },
  {
   "cell_type": "code",
   "execution_count": 1,
   "metadata": {},
   "outputs": [],
   "source": [
    "import glob # for system ls\n",
    "from natsort import natsorted # for alphabetical sorting\n",
    "\n",
    "import xarray as xr # for reading netcdf\n",
    "# import numpy as np\n",
    "import dask.array as da\n",
    "import rioxarray as rio # for writing tif\n",
    "\n",
    "import os"
   ]
  },
  {
   "cell_type": "code",
   "execution_count": 2,
   "metadata": {},
   "outputs": [],
   "source": [
    "# these are the same for everyone on HPC Orion\n",
    "\n",
    "data_nc = '/work/hpc/datasets/un_fao/pyaez/global_1980/daily/netcdf/'\n",
    "data_npy = '/work/hpc/datasets/un_fao/pyaez/global_1980/daily/npy/'\n",
    "data_tif = '/work/hpc/datasets/un_fao/pyaez/global_1980/daily/tif/'\n",
    "data_static = '/work/hpc/datasets/un_fao/pyaez/static/netcdf/'\n",
    "\n",
    "varnames = ['Precip','Rhum','Srad','Tmax-2m','Tmin-2m','Wind-2m','mask','Elevation']"
   ]
  },
  {
   "cell_type": "markdown",
   "metadata": {},
   "source": [
    "# Main Code"
   ]
  },
  {
   "cell_type": "markdown",
   "metadata": {},
   "source": [
    "# netcdf to npy"
   ]
  },
  {
   "cell_type": "code",
   "execution_count": 8,
   "metadata": {},
   "outputs": [
    {
     "data": {
      "text/html": [
       "<table>\n",
       "    <tr>\n",
       "        <td>\n",
       "            <table style=\"border-collapse: collapse;\">\n",
       "                <thead>\n",
       "                    <tr>\n",
       "                        <td> </td>\n",
       "                        <th> Array </th>\n",
       "                        <th> Chunk </th>\n",
       "                    </tr>\n",
       "                </thead>\n",
       "                <tbody>\n",
       "                    \n",
       "                    <tr>\n",
       "                        <th> Bytes </th>\n",
       "                        <td> 12.72 GiB </td>\n",
       "                        <td> 1.59 GiB </td>\n",
       "                    </tr>\n",
       "                    \n",
       "                    <tr>\n",
       "                        <th> Shape </th>\n",
       "                        <td> (2160, 4320, 366) </td>\n",
       "                        <td> (540, 2160, 366) </td>\n",
       "                    </tr>\n",
       "                    <tr>\n",
       "                        <th> Dask graph </th>\n",
       "                        <td colspan=\"2\"> 8 chunks in 3 graph layers </td>\n",
       "                    </tr>\n",
       "                    <tr>\n",
       "                        <th> Data type </th>\n",
       "                        <td colspan=\"2\"> float32 numpy.ndarray </td>\n",
       "                    </tr>\n",
       "                </tbody>\n",
       "            </table>\n",
       "        </td>\n",
       "        <td>\n",
       "        <svg width=\"132\" height=\"205\" style=\"stroke:rgb(0,0,0);stroke-width:1\" >\n",
       "\n",
       "  <!-- Horizontal lines -->\n",
       "  <line x1=\"10\" y1=\"0\" x2=\"45\" y2=\"35\" style=\"stroke-width:2\" />\n",
       "  <line x1=\"10\" y1=\"60\" x2=\"45\" y2=\"95\" />\n",
       "  <line x1=\"10\" y1=\"120\" x2=\"45\" y2=\"155\" style=\"stroke-width:2\" />\n",
       "\n",
       "  <!-- Vertical lines -->\n",
       "  <line x1=\"10\" y1=\"0\" x2=\"10\" y2=\"120\" style=\"stroke-width:2\" />\n",
       "  <line x1=\"18\" y1=\"8\" x2=\"18\" y2=\"128\" />\n",
       "  <line x1=\"27\" y1=\"17\" x2=\"27\" y2=\"137\" />\n",
       "  <line x1=\"36\" y1=\"26\" x2=\"36\" y2=\"146\" />\n",
       "  <line x1=\"45\" y1=\"35\" x2=\"45\" y2=\"155\" style=\"stroke-width:2\" />\n",
       "\n",
       "  <!-- Colored Rectangle -->\n",
       "  <polygon points=\"10.0,0.0 45.294117647058826,35.294117647058826 45.294117647058826,155.29411764705884 10.0,120.0\" style=\"fill:#ECB172A0;stroke-width:0\"/>\n",
       "\n",
       "  <!-- Horizontal lines -->\n",
       "  <line x1=\"10\" y1=\"0\" x2=\"47\" y2=\"0\" style=\"stroke-width:2\" />\n",
       "  <line x1=\"18\" y1=\"8\" x2=\"56\" y2=\"8\" />\n",
       "  <line x1=\"27\" y1=\"17\" x2=\"65\" y2=\"17\" />\n",
       "  <line x1=\"36\" y1=\"26\" x2=\"74\" y2=\"26\" />\n",
       "  <line x1=\"45\" y1=\"35\" x2=\"82\" y2=\"35\" style=\"stroke-width:2\" />\n",
       "\n",
       "  <!-- Vertical lines -->\n",
       "  <line x1=\"10\" y1=\"0\" x2=\"45\" y2=\"35\" style=\"stroke-width:2\" />\n",
       "  <line x1=\"47\" y1=\"0\" x2=\"82\" y2=\"35\" style=\"stroke-width:2\" />\n",
       "\n",
       "  <!-- Colored Rectangle -->\n",
       "  <polygon points=\"10.0,0.0 47.659013927290275,0.0 82.9531315743491,35.294117647058826 45.294117647058826,35.294117647058826\" style=\"fill:#ECB172A0;stroke-width:0\"/>\n",
       "\n",
       "  <!-- Horizontal lines -->\n",
       "  <line x1=\"45\" y1=\"35\" x2=\"82\" y2=\"35\" style=\"stroke-width:2\" />\n",
       "  <line x1=\"45\" y1=\"95\" x2=\"82\" y2=\"95\" />\n",
       "  <line x1=\"45\" y1=\"155\" x2=\"82\" y2=\"155\" style=\"stroke-width:2\" />\n",
       "\n",
       "  <!-- Vertical lines -->\n",
       "  <line x1=\"45\" y1=\"35\" x2=\"45\" y2=\"155\" style=\"stroke-width:2\" />\n",
       "  <line x1=\"82\" y1=\"35\" x2=\"82\" y2=\"155\" style=\"stroke-width:2\" />\n",
       "\n",
       "  <!-- Colored Rectangle -->\n",
       "  <polygon points=\"45.294117647058826,35.294117647058826 82.9531315743491,35.294117647058826 82.9531315743491,155.29411764705884 45.294117647058826,155.29411764705884\" style=\"fill:#ECB172A0;stroke-width:0\"/>\n",
       "\n",
       "  <!-- Text -->\n",
       "  <text x=\"64.123625\" y=\"175.294118\" font-size=\"1.0rem\" font-weight=\"100\" text-anchor=\"middle\" >366</text>\n",
       "  <text x=\"102.953132\" y=\"95.294118\" font-size=\"1.0rem\" font-weight=\"100\" text-anchor=\"middle\" transform=\"rotate(-90,102.953132,95.294118)\">4320</text>\n",
       "  <text x=\"17.647059\" y=\"157.647059\" font-size=\"1.0rem\" font-weight=\"100\" text-anchor=\"middle\" transform=\"rotate(45,17.647059,157.647059)\">2160</text>\n",
       "</svg>\n",
       "        </td>\n",
       "    </tr>\n",
       "</table>"
      ],
      "text/plain": [
       "dask.array<transpose, shape=(2160, 4320, 366), dtype=float32, chunksize=(540, 2160, 366), chunktype=numpy.ndarray>"
      ]
     },
     "execution_count": 8,
     "metadata": {},
     "output_type": "execute_result"
    }
   ],
   "source": [
    "# each 3D array has total size ~12.7GB\n",
    "# we need to chunk these arrays so that a chunk fits into memory (~9GB per single core)\n",
    "# any chunk size less than ~9GB should work, we'll use 8 chunks --> ~1.5GB per chunk\n",
    "\n",
    "chunks={'time':-1,'lat':540,'lon':2160} # 8 chunks\n",
    "\n",
    "# look at size of the chunks\n",
    "test=xr.open_dataset(data_nc+'Tmin-2m_daily_1980_5m.nc',chunks=chunks)['Tmin-2m'].transpose('lat','lon','time').data\n",
    "test"
   ]
  },
  {
   "cell_type": "code",
   "execution_count": 9,
   "metadata": {},
   "outputs": [
    {
     "name": "stdout",
     "output_type": "stream",
     "text": [
      "reading /work/hpc/datasets/un_fao/pyaez/global_1980/daily/netcdf/Precip_daily_1980_5m.nc\n",
      "writing to /work/hpc/datasets/un_fao/pyaez/global_1980/daily/npy/Precip/0.npy\n"
     ]
    }
   ],
   "source": [
    "del test\n",
    "\n",
    "# do the nc to npy conversion for each variable\n",
    "for var in varnames[0:1]:\n",
    "    # get nc file name\n",
    "    if var not in ['mask','Elevation']:\n",
    "        f = natsorted(glob.glob(data_nc+var+'*_5m.nc'))[0]\n",
    "    else:\n",
    "        f = natsorted(glob.glob(data_static+var+'*_5m.nc'))[0]\n",
    "        \n",
    "    if f:\n",
    "        if var not in ['mask','Elevation']:\n",
    "            # read netcdf data into a dask array of numpy array chunks\n",
    "            print('reading',f)\n",
    "            data = xr.open_dataset(f,chunks=chunks)[var].transpose('lat','lon','time').data\n",
    "\n",
    "            # set up dir for writing npy\n",
    "            out_dir=data_npy+var+'/'\n",
    "            isExist = os.path.exists(out_dir)\n",
    "            if not isExist:\n",
    "                os.makedirs(out_dir)\n",
    "            # write npy data\n",
    "            print('writing to',out_dir+'0.npy')     \n",
    "            da.to_npy_stack(out_dir,data,axis=2)\n",
    "        else:\n",
    "            # read netcdf data into a dask array of numpy array chunks\n",
    "            # for the 2D arrays mask and elevation we just use a single chunk (chunks=-1)\n",
    "            print('reading',f)\n",
    "            data = xr.open_dataset(f,chunks=-1)[var].data\n",
    "\n",
    "            # set up dir for writing npy\n",
    "            out_dir=data_npy+var+'/'\n",
    "            isExist = os.path.exists(out_dir)\n",
    "            if not isExist:\n",
    "                os.makedirs(out_dir)\n",
    "\n",
    "            # write npy data\n",
    "            print('writing to',out_dir+'0.npy')     \n",
    "            da.to_npy_stack(out_dir,data,axis=0)            \n",
    "    else:\n",
    "        print('no file',f)"
   ]
  },
  {
   "cell_type": "markdown",
   "metadata": {},
   "source": [
    "# netcdf mask and elevation to tif"
   ]
  },
  {
   "cell_type": "markdown",
   "metadata": {},
   "source": [
    "### mask"
   ]
  },
  {
   "cell_type": "code",
   "execution_count": null,
   "metadata": {},
   "outputs": [],
   "source": [
    "# get file path and file name\n",
    "f = glob.glob(data_static+'mask_*_5m.nc')[0]\n",
    "filename=f.split('/')[-1]\n",
    "print(f)\n",
    "print(filename)"
   ]
  },
  {
   "cell_type": "code",
   "execution_count": null,
   "metadata": {},
   "outputs": [],
   "source": [
    "print('reading',f)\n",
    "\n",
    "# load mask from netcdf file\n",
    "data = xr.open_dataset(f)['mask']\n",
    "\n",
    "# replace nan with -999 and save as integer data\n",
    "data= data.where(data==1).fillna(-999).astype('int16')\n",
    "\n",
    "# write file\n",
    "outfile='/work/hpc/datasets/un_fao/pyaez/static/tif/'+filename[:-3]+'.tif'\n",
    "print('writing',outfile)\n",
    "data.rio.to_raster(outfile)"
   ]
  },
  {
   "cell_type": "markdown",
   "metadata": {},
   "source": [
    "### elevation"
   ]
  },
  {
   "cell_type": "code",
   "execution_count": 11,
   "metadata": {},
   "outputs": [
    {
     "name": "stdout",
     "output_type": "stream",
     "text": [
      "/work/hpc/datasets/un_fao/pyaez/static/netcdf/Elevation_2268708_5m.nc\n",
      "Elevation_2268708_5m.nc\n"
     ]
    }
   ],
   "source": [
    "# get file path and file name\n",
    "f = glob.glob(data_static+'Elevation_*_5m.nc')[0]\n",
    "filename=f.split('/')[-1]\n",
    "print(f)\n",
    "print(filename)"
   ]
  },
  {
   "cell_type": "code",
   "execution_count": 12,
   "metadata": {},
   "outputs": [
    {
     "name": "stdout",
     "output_type": "stream",
     "text": [
      "reading /work/hpc/datasets/un_fao/pyaez/static/netcdf/Elevation_2268708_5m.nc\n",
      "writing /work/hpc/datasets/un_fao/pyaez/static/tif/Elevation_2268708_5m.tif\n"
     ]
    }
   ],
   "source": [
    "print('reading',f)\n",
    "\n",
    "# load mask from netcdf file\n",
    "data = xr.open_dataset(f)['Elevation']\n",
    "\n",
    "# replace nan with -999 and save as integer data\n",
    "data= data.where(data==1).fillna(-999).astype('int16')\n",
    "\n",
    "# write file\n",
    "outfile='/work/hpc/datasets/un_fao/pyaez/static/tif/'+filename[:-3]+'.tif'\n",
    "print('writing',outfile)\n",
    "data.rio.to_raster(outfile)"
   ]
  },
  {
   "cell_type": "code",
   "execution_count": null,
   "metadata": {},
   "outputs": [],
   "source": []
  }
 ],
 "metadata": {
  "kernelspec": {
   "display_name": "xr-rio-dask",
   "language": "python",
   "name": "xr-rio-dask"
  },
  "language_info": {
   "codemirror_mode": {
    "name": "ipython",
    "version": 3
   },
   "file_extension": ".py",
   "mimetype": "text/x-python",
   "name": "python",
   "nbconvert_exporter": "python",
   "pygments_lexer": "ipython3",
   "version": "3.11.3"
  }
 },
 "nbformat": 4,
 "nbformat_minor": 4
}
