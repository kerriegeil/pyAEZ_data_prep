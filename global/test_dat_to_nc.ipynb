{
 "cells": [
  {
   "cell_type": "code",
   "execution_count": null,
   "metadata": {},
   "outputs": [],
   "source": []
  },
  {
   "cell_type": "code",
   "execution_count": 1,
   "metadata": {},
   "outputs": [],
   "source": [
    "import numpy as np\n",
    "import glob\n",
    "\n",
    "import rioxarray as rio\n",
    "import xarray as xr\n",
    "\n",
    "from natsort import natsorted \n",
    "import dask.array as da\n",
    "\n",
    "import matplotlib.pyplot as plt\n",
    "# import cartopy.crs as ccrs\n",
    "\n",
    "# import pandas as pd\n",
    "import dask\n",
    "\n",
    "from time import time, sleep\n",
    "from dask.diagnostics import ProgressBar\n",
    "from dask.distributed import progress"
   ]
  },
  {
   "cell_type": "code",
   "execution_count": 2,
   "metadata": {},
   "outputs": [
    {
     "name": "stdout",
     "output_type": "stream",
     "text": [
      "[Errno 17] File exists: '/home/kerrie/dask-worker-space-can-be-deleted'\n"
     ]
    }
   ],
   "source": [
    "import os\n",
    "\n",
    "homedir = os.environ['HOME']\n",
    "daskpath=os.path.join(homedir, \"dask-worker-space-can-be-deleted\")\n",
    "\n",
    "try: \n",
    "    os.mkdir(daskpath) \n",
    "except OSError as error: \n",
    "    print(error) "
   ]
  },
  {
   "cell_type": "markdown",
   "metadata": {},
   "source": [
    "if you start a jupyter notebook session with multiple nodes/cores\n",
    "\n",
    "you can use local cluster below\n",
    "\n",
    "setting a worker to multiple cores is the way to go\n",
    "\n",
    "the default settings with more workers less threads takes much longer to compute"
   ]
  },
  {
   "cell_type": "code",
   "execution_count": 3,
   "metadata": {},
   "outputs": [],
   "source": [
    "# from dask.distributed import Client,LocalCluster\n",
    "\n",
    "# cluster=LocalCluster(n_workers=1,\n",
    "#                     threads_per_worker=20)#,\n",
    "# #                     memory_limit='180GB')\n",
    "\n",
    "# client=Client(cluster)\n",
    "# cluster.scale(4)\n",
    "# sleep(2)\n",
    "# client"
   ]
  },
  {
   "cell_type": "code",
   "execution_count": 4,
   "metadata": {},
   "outputs": [],
   "source": [
    "client.close()"
   ]
  },
  {
   "cell_type": "markdown",
   "metadata": {},
   "source": [
    "if you start a jupyter notebook session with only a few cores\n",
    "\n",
    "you can use SLURM cluster\n",
    "\n",
    "again setting a worker to multiple cores is the way to go\n",
    "\n",
    "the default settings with more workers less threads takes much longer to compute"
   ]
  },
  {
   "cell_type": "code",
   "execution_count": 44,
   "metadata": {},
   "outputs": [
    {
     "name": "stderr",
     "output_type": "stream",
     "text": [
      "/work/hpc/users/kerrie/UN_FAO/xr-rio-dask/lib/python3.11/site-packages/distributed/node.py:182: UserWarning: Port 8787 is already in use.\n",
      "Perhaps you already have a cluster running?\n",
      "Hosting the HTTP server on port 40847 instead\n",
      "  warnings.warn(\n"
     ]
    },
    {
     "data": {
      "text/html": [
       "<div>\n",
       "    <div style=\"width: 24px; height: 24px; background-color: #e1e1e1; border: 3px solid #9D9D9D; border-radius: 5px; position: absolute;\"> </div>\n",
       "    <div style=\"margin-left: 48px;\">\n",
       "        <h3 style=\"margin-bottom: 0px;\">Client</h3>\n",
       "        <p style=\"color: #9D9D9D; margin-bottom: 0px;\">Client-d06a7f0b-ea02-11ed-aa6d-6c2b597b2466</p>\n",
       "        <table style=\"width: 100%; text-align: left;\">\n",
       "\n",
       "        <tr>\n",
       "        \n",
       "            <td style=\"text-align: left;\"><strong>Connection method:</strong> Cluster object</td>\n",
       "            <td style=\"text-align: left;\"><strong>Cluster type:</strong> dask_jobqueue.SLURMCluster</td>\n",
       "        \n",
       "        </tr>\n",
       "\n",
       "        \n",
       "            <tr>\n",
       "                <td style=\"text-align: left;\">\n",
       "                    <strong>Dashboard: </strong> <a href=\"http://172.25.1.51:40847/status\" target=\"_blank\">http://172.25.1.51:40847/status</a>\n",
       "                </td>\n",
       "                <td style=\"text-align: left;\"></td>\n",
       "            </tr>\n",
       "        \n",
       "\n",
       "        </table>\n",
       "\n",
       "        \n",
       "\n",
       "        \n",
       "            <details>\n",
       "            <summary style=\"margin-bottom: 20px;\"><h3 style=\"display: inline;\">Cluster Info</h3></summary>\n",
       "            <div class=\"jp-RenderedHTMLCommon jp-RenderedHTML jp-mod-trusted jp-OutputArea-output\">\n",
       "    <div style=\"width: 24px; height: 24px; background-color: #e1e1e1; border: 3px solid #9D9D9D; border-radius: 5px; position: absolute;\">\n",
       "    </div>\n",
       "    <div style=\"margin-left: 48px;\">\n",
       "        <h3 style=\"margin-bottom: 0px; margin-top: 0px;\">SLURMCluster</h3>\n",
       "        <p style=\"color: #9D9D9D; margin-bottom: 0px;\">bcafd7c5</p>\n",
       "        <table style=\"width: 100%; text-align: left;\">\n",
       "            <tr>\n",
       "                <td style=\"text-align: left;\">\n",
       "                    <strong>Dashboard:</strong> <a href=\"http://172.25.1.51:40847/status\" target=\"_blank\">http://172.25.1.51:40847/status</a>\n",
       "                </td>\n",
       "                <td style=\"text-align: left;\">\n",
       "                    <strong>Workers:</strong> 0\n",
       "                </td>\n",
       "            </tr>\n",
       "            <tr>\n",
       "                <td style=\"text-align: left;\">\n",
       "                    <strong>Total threads:</strong> 0\n",
       "                </td>\n",
       "                <td style=\"text-align: left;\">\n",
       "                    <strong>Total memory:</strong> 0 B\n",
       "                </td>\n",
       "            </tr>\n",
       "            \n",
       "        </table>\n",
       "\n",
       "        <details>\n",
       "            <summary style=\"margin-bottom: 20px;\">\n",
       "                <h3 style=\"display: inline;\">Scheduler Info</h3>\n",
       "            </summary>\n",
       "\n",
       "            <div style=\"\">\n",
       "    <div>\n",
       "        <div style=\"width: 24px; height: 24px; background-color: #FFF7E5; border: 3px solid #FF6132; border-radius: 5px; position: absolute;\"> </div>\n",
       "        <div style=\"margin-left: 48px;\">\n",
       "            <h3 style=\"margin-bottom: 0px;\">Scheduler</h3>\n",
       "            <p style=\"color: #9D9D9D; margin-bottom: 0px;\">Scheduler-7d061b5f-76d2-4baf-ba93-f85ff180a940</p>\n",
       "            <table style=\"width: 100%; text-align: left;\">\n",
       "                <tr>\n",
       "                    <td style=\"text-align: left;\">\n",
       "                        <strong>Comm:</strong> tcp://172.25.1.51:38629\n",
       "                    </td>\n",
       "                    <td style=\"text-align: left;\">\n",
       "                        <strong>Workers:</strong> 0\n",
       "                    </td>\n",
       "                </tr>\n",
       "                <tr>\n",
       "                    <td style=\"text-align: left;\">\n",
       "                        <strong>Dashboard:</strong> <a href=\"http://172.25.1.51:40847/status\" target=\"_blank\">http://172.25.1.51:40847/status</a>\n",
       "                    </td>\n",
       "                    <td style=\"text-align: left;\">\n",
       "                        <strong>Total threads:</strong> 0\n",
       "                    </td>\n",
       "                </tr>\n",
       "                <tr>\n",
       "                    <td style=\"text-align: left;\">\n",
       "                        <strong>Started:</strong> Just now\n",
       "                    </td>\n",
       "                    <td style=\"text-align: left;\">\n",
       "                        <strong>Total memory:</strong> 0 B\n",
       "                    </td>\n",
       "                </tr>\n",
       "            </table>\n",
       "        </div>\n",
       "    </div>\n",
       "\n",
       "    <details style=\"margin-left: 48px;\">\n",
       "        <summary style=\"margin-bottom: 20px;\">\n",
       "            <h3 style=\"display: inline;\">Workers</h3>\n",
       "        </summary>\n",
       "\n",
       "        \n",
       "\n",
       "    </details>\n",
       "</div>\n",
       "\n",
       "        </details>\n",
       "    </div>\n",
       "</div>\n",
       "            </details>\n",
       "        \n",
       "\n",
       "    </div>\n",
       "</div>"
      ],
      "text/plain": [
       "<Client: 'tcp://172.25.1.51:38629' processes=0 threads=0, memory=0 B>"
      ]
     },
     "execution_count": 44,
     "metadata": {},
     "output_type": "execute_result"
    }
   ],
   "source": [
    "# from dask.distributed import Client\n",
    "# from dask_jobqueue import SLURMCluster\n",
    "\n",
    "# cluster = SLURMCluster(\n",
    "#     cores=20,\n",
    "#     processes=1,\n",
    "#     memory=\"180GB\", #40 cores x 3GB/core\n",
    "#     queue=\"400p48h\",\n",
    "#     local_directory='$TMPDIR',\n",
    "#     walltime=\"00:05:00\",\n",
    "#     log_directory=daskpath)\n",
    "\n",
    "# client=Client(cluster)\n",
    "# cluster.scale(jobs=9)\n",
    "# sleep(10)\n",
    "# client"
   ]
  },
  {
   "cell_type": "code",
   "execution_count": 6,
   "metadata": {},
   "outputs": [
    {
     "name": "stderr",
     "output_type": "stream",
     "text": [
      "/work/hpc/users/kerrie/UN_FAO/xr-rio-dask/lib/python3.11/site-packages/distributed/node.py:182: UserWarning: Port 8787 is already in use.\n",
      "Perhaps you already have a cluster running?\n",
      "Hosting the HTTP server on port 41840 instead\n",
      "  warnings.warn(\n"
     ]
    },
    {
     "data": {
      "text/html": [
       "<div>\n",
       "    <div style=\"width: 24px; height: 24px; background-color: #e1e1e1; border: 3px solid #9D9D9D; border-radius: 5px; position: absolute;\"> </div>\n",
       "    <div style=\"margin-left: 48px;\">\n",
       "        <h3 style=\"margin-bottom: 0px;\">Client</h3>\n",
       "        <p style=\"color: #9D9D9D; margin-bottom: 0px;\">Client-a49d622a-ea8c-11ed-91d1-6c2b597b2466</p>\n",
       "        <table style=\"width: 100%; text-align: left;\">\n",
       "\n",
       "        <tr>\n",
       "        \n",
       "            <td style=\"text-align: left;\"><strong>Connection method:</strong> Cluster object</td>\n",
       "            <td style=\"text-align: left;\"><strong>Cluster type:</strong> dask_jobqueue.SLURMCluster</td>\n",
       "        \n",
       "        </tr>\n",
       "\n",
       "        \n",
       "            <tr>\n",
       "                <td style=\"text-align: left;\">\n",
       "                    <strong>Dashboard: </strong> <a href=\"http://172.25.1.51:41840/status\" target=\"_blank\">http://172.25.1.51:41840/status</a>\n",
       "                </td>\n",
       "                <td style=\"text-align: left;\"></td>\n",
       "            </tr>\n",
       "        \n",
       "\n",
       "        </table>\n",
       "\n",
       "        \n",
       "\n",
       "        \n",
       "            <details>\n",
       "            <summary style=\"margin-bottom: 20px;\"><h3 style=\"display: inline;\">Cluster Info</h3></summary>\n",
       "            <div class=\"jp-RenderedHTMLCommon jp-RenderedHTML jp-mod-trusted jp-OutputArea-output\">\n",
       "    <div style=\"width: 24px; height: 24px; background-color: #e1e1e1; border: 3px solid #9D9D9D; border-radius: 5px; position: absolute;\">\n",
       "    </div>\n",
       "    <div style=\"margin-left: 48px;\">\n",
       "        <h3 style=\"margin-bottom: 0px; margin-top: 0px;\">SLURMCluster</h3>\n",
       "        <p style=\"color: #9D9D9D; margin-bottom: 0px;\">a40feb1e</p>\n",
       "        <table style=\"width: 100%; text-align: left;\">\n",
       "            <tr>\n",
       "                <td style=\"text-align: left;\">\n",
       "                    <strong>Dashboard:</strong> <a href=\"http://172.25.1.51:41840/status\" target=\"_blank\">http://172.25.1.51:41840/status</a>\n",
       "                </td>\n",
       "                <td style=\"text-align: left;\">\n",
       "                    <strong>Workers:</strong> 0\n",
       "                </td>\n",
       "            </tr>\n",
       "            <tr>\n",
       "                <td style=\"text-align: left;\">\n",
       "                    <strong>Total threads:</strong> 0\n",
       "                </td>\n",
       "                <td style=\"text-align: left;\">\n",
       "                    <strong>Total memory:</strong> 0 B\n",
       "                </td>\n",
       "            </tr>\n",
       "            \n",
       "        </table>\n",
       "\n",
       "        <details>\n",
       "            <summary style=\"margin-bottom: 20px;\">\n",
       "                <h3 style=\"display: inline;\">Scheduler Info</h3>\n",
       "            </summary>\n",
       "\n",
       "            <div style=\"\">\n",
       "    <div>\n",
       "        <div style=\"width: 24px; height: 24px; background-color: #FFF7E5; border: 3px solid #FF6132; border-radius: 5px; position: absolute;\"> </div>\n",
       "        <div style=\"margin-left: 48px;\">\n",
       "            <h3 style=\"margin-bottom: 0px;\">Scheduler</h3>\n",
       "            <p style=\"color: #9D9D9D; margin-bottom: 0px;\">Scheduler-3ad55a89-894b-491d-ad1d-9eb406b73e67</p>\n",
       "            <table style=\"width: 100%; text-align: left;\">\n",
       "                <tr>\n",
       "                    <td style=\"text-align: left;\">\n",
       "                        <strong>Comm:</strong> tcp://172.25.1.51:38335\n",
       "                    </td>\n",
       "                    <td style=\"text-align: left;\">\n",
       "                        <strong>Workers:</strong> 0\n",
       "                    </td>\n",
       "                </tr>\n",
       "                <tr>\n",
       "                    <td style=\"text-align: left;\">\n",
       "                        <strong>Dashboard:</strong> <a href=\"http://172.25.1.51:41840/status\" target=\"_blank\">http://172.25.1.51:41840/status</a>\n",
       "                    </td>\n",
       "                    <td style=\"text-align: left;\">\n",
       "                        <strong>Total threads:</strong> 0\n",
       "                    </td>\n",
       "                </tr>\n",
       "                <tr>\n",
       "                    <td style=\"text-align: left;\">\n",
       "                        <strong>Started:</strong> Just now\n",
       "                    </td>\n",
       "                    <td style=\"text-align: left;\">\n",
       "                        <strong>Total memory:</strong> 0 B\n",
       "                    </td>\n",
       "                </tr>\n",
       "            </table>\n",
       "        </div>\n",
       "    </div>\n",
       "\n",
       "    <details style=\"margin-left: 48px;\">\n",
       "        <summary style=\"margin-bottom: 20px;\">\n",
       "            <h3 style=\"display: inline;\">Workers</h3>\n",
       "        </summary>\n",
       "\n",
       "        \n",
       "\n",
       "    </details>\n",
       "</div>\n",
       "\n",
       "        </details>\n",
       "    </div>\n",
       "</div>\n",
       "            </details>\n",
       "        \n",
       "\n",
       "    </div>\n",
       "</div>"
      ],
      "text/plain": [
       "<Client: 'tcp://172.25.1.51:38335' processes=0 threads=0, memory=0 B>"
      ]
     },
     "execution_count": 6,
     "metadata": {},
     "output_type": "execute_result"
    }
   ],
   "source": [
    "from dask.distributed import Client\n",
    "from dask_jobqueue import SLURMCluster\n",
    "\n",
    "cluster = SLURMCluster(\n",
    "    cores=20, # actual cores (not logical) can't be more cores that are available on a single node (20 for Orion)\n",
    "    processes=1, # choose 1 process, then scale to more with cluster.scale below\n",
    "    memory=\"180GB\", # cores x mem/core\n",
    "    queue=\"400p48h\", # for Orion MSU jobs (not NOAA)\n",
    "    local_directory='$TMPDIR', \n",
    "    walltime=\"00:05:00\", # set this as short as possible or you'll have to go in and kill your workers\n",
    "    log_directory=daskpath)\n",
    "\n",
    "\n",
    "client=Client(cluster)\n",
    "# cluster.scale(jobs=9)\n",
    "sleep(10)\n",
    "client"
   ]
  },
  {
   "cell_type": "code",
   "execution_count": 48,
   "metadata": {},
   "outputs": [
    {
     "data": {
      "text/html": [
       "<div>\n",
       "    <div style=\"width: 24px; height: 24px; background-color: #e1e1e1; border: 3px solid #9D9D9D; border-radius: 5px; position: absolute;\"> </div>\n",
       "    <div style=\"margin-left: 48px;\">\n",
       "        <h3 style=\"margin-bottom: 0px;\">Client</h3>\n",
       "        <p style=\"color: #9D9D9D; margin-bottom: 0px;\">Client-d06a7f0b-ea02-11ed-aa6d-6c2b597b2466</p>\n",
       "        <table style=\"width: 100%; text-align: left;\">\n",
       "\n",
       "        <tr>\n",
       "        \n",
       "            <td style=\"text-align: left;\"><strong>Connection method:</strong> Cluster object</td>\n",
       "            <td style=\"text-align: left;\"><strong>Cluster type:</strong> dask_jobqueue.SLURMCluster</td>\n",
       "        \n",
       "        </tr>\n",
       "\n",
       "        \n",
       "            <tr>\n",
       "                <td style=\"text-align: left;\">\n",
       "                    <strong>Dashboard: </strong> <a href=\"http://172.25.1.51:40847/status\" target=\"_blank\">http://172.25.1.51:40847/status</a>\n",
       "                </td>\n",
       "                <td style=\"text-align: left;\"></td>\n",
       "            </tr>\n",
       "        \n",
       "\n",
       "        </table>\n",
       "\n",
       "        \n",
       "\n",
       "        \n",
       "            <details>\n",
       "            <summary style=\"margin-bottom: 20px;\"><h3 style=\"display: inline;\">Cluster Info</h3></summary>\n",
       "            <div class=\"jp-RenderedHTMLCommon jp-RenderedHTML jp-mod-trusted jp-OutputArea-output\">\n",
       "    <div style=\"width: 24px; height: 24px; background-color: #e1e1e1; border: 3px solid #9D9D9D; border-radius: 5px; position: absolute;\">\n",
       "    </div>\n",
       "    <div style=\"margin-left: 48px;\">\n",
       "        <h3 style=\"margin-bottom: 0px; margin-top: 0px;\">SLURMCluster</h3>\n",
       "        <p style=\"color: #9D9D9D; margin-bottom: 0px;\">bcafd7c5</p>\n",
       "        <table style=\"width: 100%; text-align: left;\">\n",
       "            <tr>\n",
       "                <td style=\"text-align: left;\">\n",
       "                    <strong>Dashboard:</strong> <a href=\"http://172.25.1.51:40847/status\" target=\"_blank\">http://172.25.1.51:40847/status</a>\n",
       "                </td>\n",
       "                <td style=\"text-align: left;\">\n",
       "                    <strong>Workers:</strong> 0\n",
       "                </td>\n",
       "            </tr>\n",
       "            <tr>\n",
       "                <td style=\"text-align: left;\">\n",
       "                    <strong>Total threads:</strong> 0\n",
       "                </td>\n",
       "                <td style=\"text-align: left;\">\n",
       "                    <strong>Total memory:</strong> 0 B\n",
       "                </td>\n",
       "            </tr>\n",
       "            \n",
       "        </table>\n",
       "\n",
       "        <details>\n",
       "            <summary style=\"margin-bottom: 20px;\">\n",
       "                <h3 style=\"display: inline;\">Scheduler Info</h3>\n",
       "            </summary>\n",
       "\n",
       "            <div style=\"\">\n",
       "    <div>\n",
       "        <div style=\"width: 24px; height: 24px; background-color: #FFF7E5; border: 3px solid #FF6132; border-radius: 5px; position: absolute;\"> </div>\n",
       "        <div style=\"margin-left: 48px;\">\n",
       "            <h3 style=\"margin-bottom: 0px;\">Scheduler</h3>\n",
       "            <p style=\"color: #9D9D9D; margin-bottom: 0px;\">Scheduler-7d061b5f-76d2-4baf-ba93-f85ff180a940</p>\n",
       "            <table style=\"width: 100%; text-align: left;\">\n",
       "                <tr>\n",
       "                    <td style=\"text-align: left;\">\n",
       "                        <strong>Comm:</strong> tcp://172.25.1.51:38629\n",
       "                    </td>\n",
       "                    <td style=\"text-align: left;\">\n",
       "                        <strong>Workers:</strong> 0\n",
       "                    </td>\n",
       "                </tr>\n",
       "                <tr>\n",
       "                    <td style=\"text-align: left;\">\n",
       "                        <strong>Dashboard:</strong> <a href=\"http://172.25.1.51:40847/status\" target=\"_blank\">http://172.25.1.51:40847/status</a>\n",
       "                    </td>\n",
       "                    <td style=\"text-align: left;\">\n",
       "                        <strong>Total threads:</strong> 0\n",
       "                    </td>\n",
       "                </tr>\n",
       "                <tr>\n",
       "                    <td style=\"text-align: left;\">\n",
       "                        <strong>Started:</strong> 1 minute ago\n",
       "                    </td>\n",
       "                    <td style=\"text-align: left;\">\n",
       "                        <strong>Total memory:</strong> 0 B\n",
       "                    </td>\n",
       "                </tr>\n",
       "            </table>\n",
       "        </div>\n",
       "    </div>\n",
       "\n",
       "    <details style=\"margin-left: 48px;\">\n",
       "        <summary style=\"margin-bottom: 20px;\">\n",
       "            <h3 style=\"display: inline;\">Workers</h3>\n",
       "        </summary>\n",
       "\n",
       "        \n",
       "\n",
       "    </details>\n",
       "</div>\n",
       "\n",
       "        </details>\n",
       "    </div>\n",
       "</div>\n",
       "            </details>\n",
       "        \n",
       "\n",
       "    </div>\n",
       "</div>"
      ],
      "text/plain": [
       "<Client: 'tcp://172.25.1.51:38629' processes=0 threads=0, memory=0 B>"
      ]
     },
     "execution_count": 48,
     "metadata": {},
     "output_type": "execute_result"
    }
   ],
   "source": [
    "sleep(10)\n",
    "client"
   ]
  },
  {
   "cell_type": "code",
   "execution_count": null,
   "metadata": {},
   "outputs": [],
   "source": [
    "# print(cluster.job_script())"
   ]
  },
  {
   "cell_type": "code",
   "execution_count": null,
   "metadata": {
    "scrolled": true
   },
   "outputs": [],
   "source": [
    "# client = Client(cluster)\n",
    "# cluster.scale(jobs=3)  # scale to more jobs\n",
    "# sleep(10)              # pause while SLURM starts up the jobs\n",
    "# client"
   ]
  },
  {
   "cell_type": "code",
   "execution_count": null,
   "metadata": {},
   "outputs": [],
   "source": [
    "client.close()"
   ]
  },
  {
   "cell_type": "code",
   "execution_count": null,
   "metadata": {},
   "outputs": [],
   "source": [
    "# client"
   ]
  },
  {
   "cell_type": "code",
   "execution_count": null,
   "metadata": {},
   "outputs": [],
   "source": [
    "# from dask.distributed import Client\n",
    "# client=Client()\n",
    "# client"
   ]
  },
  {
   "cell_type": "code",
   "execution_count": 33,
   "metadata": {},
   "outputs": [],
   "source": [
    "# your notebook directory location\n",
    "# work_dir='K:/projects/rgmg/climate/UN_FAO/repo_pyAEZ_data_prep/'\n",
    "repo_dir='/work/hpc/users/kerrie/UN_FAO/repos/py_AEZ_data_prep/'\n",
    "\n",
    "# your data directory location\n",
    "# data_dir='C:/Users/kerrie/Documents/02_LocalData/DataDownload03152023/'\n",
    "# data_dir='C:/Users/kerrie.WIN/Documents/data/DataDownload03152023/'\n",
    "data_dir='/work/hpc/users/kerrie/UN_FAO/data/'\n",
    "\n",
    "# your output data file directory\n",
    "# out_dir='C:/Users/kerrie.WIN/Documents/data/pyAEZ_data_inputs_03152023/'\n",
    "# out_dir='/work/hpc/users/kerrie/UN_FAO/data/gaez_nc_files/'\n",
    "\n",
    "# maskfile='/work/hpc/users/kerrie/UN_FAO/data/orig/DataDownload03152023/ALOSmask5m_fill.rst'\n",
    "maskfile='/work/hpc/users/kerrie/UN_FAO/scripts/PXV_script/ALOSmask5m_fill.rst'\n",
    "\n",
    "# linux path of project directory (to include in file metadata)\n",
    "# this one is the same for everyone\n",
    "# source_dir='/gri/projects/rgmg/climate/UN_FAO/'\n",
    "\n",
    "# input file name components\n",
    "# dataset='AgERA5'\n",
    "# experiment='Hist'\n",
    "# year='1980'\n",
    "# months=[str(x).rjust(2,'0') for x in np.arange(1,13)]\n",
    "# gridsize='5m'\n",
    "# file_ext_d='.pxv'\n",
    "# file_exts_m=['.rst','.rdc']\n",
    "# variables=['Precip','Srad','Tmax-2m','Tmin-2m','Vapr','Wind-10m','Elevation','Mask']\n",
    "\n",
    "# some constants\n",
    "# landfrac_thresh=2500\n",
    "# month_int=np.arange(1,13)\n",
    "\n",
    "year=1980\n",
    "\n",
    "# metadata for output data files\n",
    "timeattrs={'standard_name':'time','long_name':'time','axis':'T'}\n",
    "time_encoding={'calendar':'standard','units':'days since 1900-01-01 00:00:00','_FillValue':None}\n",
    "latattrs={'standard_name':'latitude','long_name':'latitude','units':'degrees_north','axis':'Y'}\n",
    "lat_encoding={'_FillValue':None}\n",
    "lonattrs={'standard_name':'longitude','long_name':'longitude','units':'degrees_east','axis':'X'}\n",
    "lon_encoding={'_FillValue':None}"
   ]
  },
  {
   "cell_type": "code",
   "execution_count": 11,
   "metadata": {},
   "outputs": [
    {
     "data": {
      "text/html": [
       "<div><svg style=\"position: absolute; width: 0; height: 0; overflow: hidden\">\n",
       "<defs>\n",
       "<symbol id=\"icon-database\" viewBox=\"0 0 32 32\">\n",
       "<path d=\"M16 0c-8.837 0-16 2.239-16 5v4c0 2.761 7.163 5 16 5s16-2.239 16-5v-4c0-2.761-7.163-5-16-5z\"></path>\n",
       "<path d=\"M16 17c-8.837 0-16-2.239-16-5v6c0 2.761 7.163 5 16 5s16-2.239 16-5v-6c0 2.761-7.163 5-16 5z\"></path>\n",
       "<path d=\"M16 26c-8.837 0-16-2.239-16-5v6c0 2.761 7.163 5 16 5s16-2.239 16-5v-6c0 2.761-7.163 5-16 5z\"></path>\n",
       "</symbol>\n",
       "<symbol id=\"icon-file-text2\" viewBox=\"0 0 32 32\">\n",
       "<path d=\"M28.681 7.159c-0.694-0.947-1.662-2.053-2.724-3.116s-2.169-2.030-3.116-2.724c-1.612-1.182-2.393-1.319-2.841-1.319h-15.5c-1.378 0-2.5 1.121-2.5 2.5v27c0 1.378 1.122 2.5 2.5 2.5h23c1.378 0 2.5-1.122 2.5-2.5v-19.5c0-0.448-0.137-1.23-1.319-2.841zM24.543 5.457c0.959 0.959 1.712 1.825 2.268 2.543h-4.811v-4.811c0.718 0.556 1.584 1.309 2.543 2.268zM28 29.5c0 0.271-0.229 0.5-0.5 0.5h-23c-0.271 0-0.5-0.229-0.5-0.5v-27c0-0.271 0.229-0.5 0.5-0.5 0 0 15.499-0 15.5 0v7c0 0.552 0.448 1 1 1h7v19.5z\"></path>\n",
       "<path d=\"M23 26h-14c-0.552 0-1-0.448-1-1s0.448-1 1-1h14c0.552 0 1 0.448 1 1s-0.448 1-1 1z\"></path>\n",
       "<path d=\"M23 22h-14c-0.552 0-1-0.448-1-1s0.448-1 1-1h14c0.552 0 1 0.448 1 1s-0.448 1-1 1z\"></path>\n",
       "<path d=\"M23 18h-14c-0.552 0-1-0.448-1-1s0.448-1 1-1h14c0.552 0 1 0.448 1 1s-0.448 1-1 1z\"></path>\n",
       "</symbol>\n",
       "</defs>\n",
       "</svg>\n",
       "<style>/* CSS stylesheet for displaying xarray objects in jupyterlab.\n",
       " *\n",
       " */\n",
       "\n",
       ":root {\n",
       "  --xr-font-color0: var(--jp-content-font-color0, rgba(0, 0, 0, 1));\n",
       "  --xr-font-color2: var(--jp-content-font-color2, rgba(0, 0, 0, 0.54));\n",
       "  --xr-font-color3: var(--jp-content-font-color3, rgba(0, 0, 0, 0.38));\n",
       "  --xr-border-color: var(--jp-border-color2, #e0e0e0);\n",
       "  --xr-disabled-color: var(--jp-layout-color3, #bdbdbd);\n",
       "  --xr-background-color: var(--jp-layout-color0, white);\n",
       "  --xr-background-color-row-even: var(--jp-layout-color1, white);\n",
       "  --xr-background-color-row-odd: var(--jp-layout-color2, #eeeeee);\n",
       "}\n",
       "\n",
       "html[theme=dark],\n",
       "body[data-theme=dark],\n",
       "body.vscode-dark {\n",
       "  --xr-font-color0: rgba(255, 255, 255, 1);\n",
       "  --xr-font-color2: rgba(255, 255, 255, 0.54);\n",
       "  --xr-font-color3: rgba(255, 255, 255, 0.38);\n",
       "  --xr-border-color: #1F1F1F;\n",
       "  --xr-disabled-color: #515151;\n",
       "  --xr-background-color: #111111;\n",
       "  --xr-background-color-row-even: #111111;\n",
       "  --xr-background-color-row-odd: #313131;\n",
       "}\n",
       "\n",
       ".xr-wrap {\n",
       "  display: block !important;\n",
       "  min-width: 300px;\n",
       "  max-width: 700px;\n",
       "}\n",
       "\n",
       ".xr-text-repr-fallback {\n",
       "  /* fallback to plain text repr when CSS is not injected (untrusted notebook) */\n",
       "  display: none;\n",
       "}\n",
       "\n",
       ".xr-header {\n",
       "  padding-top: 6px;\n",
       "  padding-bottom: 6px;\n",
       "  margin-bottom: 4px;\n",
       "  border-bottom: solid 1px var(--xr-border-color);\n",
       "}\n",
       "\n",
       ".xr-header > div,\n",
       ".xr-header > ul {\n",
       "  display: inline;\n",
       "  margin-top: 0;\n",
       "  margin-bottom: 0;\n",
       "}\n",
       "\n",
       ".xr-obj-type,\n",
       ".xr-array-name {\n",
       "  margin-left: 2px;\n",
       "  margin-right: 10px;\n",
       "}\n",
       "\n",
       ".xr-obj-type {\n",
       "  color: var(--xr-font-color2);\n",
       "}\n",
       "\n",
       ".xr-sections {\n",
       "  padding-left: 0 !important;\n",
       "  display: grid;\n",
       "  grid-template-columns: 150px auto auto 1fr 20px 20px;\n",
       "}\n",
       "\n",
       ".xr-section-item {\n",
       "  display: contents;\n",
       "}\n",
       "\n",
       ".xr-section-item input {\n",
       "  display: none;\n",
       "}\n",
       "\n",
       ".xr-section-item input + label {\n",
       "  color: var(--xr-disabled-color);\n",
       "}\n",
       "\n",
       ".xr-section-item input:enabled + label {\n",
       "  cursor: pointer;\n",
       "  color: var(--xr-font-color2);\n",
       "}\n",
       "\n",
       ".xr-section-item input:enabled + label:hover {\n",
       "  color: var(--xr-font-color0);\n",
       "}\n",
       "\n",
       ".xr-section-summary {\n",
       "  grid-column: 1;\n",
       "  color: var(--xr-font-color2);\n",
       "  font-weight: 500;\n",
       "}\n",
       "\n",
       ".xr-section-summary > span {\n",
       "  display: inline-block;\n",
       "  padding-left: 0.5em;\n",
       "}\n",
       "\n",
       ".xr-section-summary-in:disabled + label {\n",
       "  color: var(--xr-font-color2);\n",
       "}\n",
       "\n",
       ".xr-section-summary-in + label:before {\n",
       "  display: inline-block;\n",
       "  content: '►';\n",
       "  font-size: 11px;\n",
       "  width: 15px;\n",
       "  text-align: center;\n",
       "}\n",
       "\n",
       ".xr-section-summary-in:disabled + label:before {\n",
       "  color: var(--xr-disabled-color);\n",
       "}\n",
       "\n",
       ".xr-section-summary-in:checked + label:before {\n",
       "  content: '▼';\n",
       "}\n",
       "\n",
       ".xr-section-summary-in:checked + label > span {\n",
       "  display: none;\n",
       "}\n",
       "\n",
       ".xr-section-summary,\n",
       ".xr-section-inline-details {\n",
       "  padding-top: 4px;\n",
       "  padding-bottom: 4px;\n",
       "}\n",
       "\n",
       ".xr-section-inline-details {\n",
       "  grid-column: 2 / -1;\n",
       "}\n",
       "\n",
       ".xr-section-details {\n",
       "  display: none;\n",
       "  grid-column: 1 / -1;\n",
       "  margin-bottom: 5px;\n",
       "}\n",
       "\n",
       ".xr-section-summary-in:checked ~ .xr-section-details {\n",
       "  display: contents;\n",
       "}\n",
       "\n",
       ".xr-array-wrap {\n",
       "  grid-column: 1 / -1;\n",
       "  display: grid;\n",
       "  grid-template-columns: 20px auto;\n",
       "}\n",
       "\n",
       ".xr-array-wrap > label {\n",
       "  grid-column: 1;\n",
       "  vertical-align: top;\n",
       "}\n",
       "\n",
       ".xr-preview {\n",
       "  color: var(--xr-font-color3);\n",
       "}\n",
       "\n",
       ".xr-array-preview,\n",
       ".xr-array-data {\n",
       "  padding: 0 5px !important;\n",
       "  grid-column: 2;\n",
       "}\n",
       "\n",
       ".xr-array-data,\n",
       ".xr-array-in:checked ~ .xr-array-preview {\n",
       "  display: none;\n",
       "}\n",
       "\n",
       ".xr-array-in:checked ~ .xr-array-data,\n",
       ".xr-array-preview {\n",
       "  display: inline-block;\n",
       "}\n",
       "\n",
       ".xr-dim-list {\n",
       "  display: inline-block !important;\n",
       "  list-style: none;\n",
       "  padding: 0 !important;\n",
       "  margin: 0;\n",
       "}\n",
       "\n",
       ".xr-dim-list li {\n",
       "  display: inline-block;\n",
       "  padding: 0;\n",
       "  margin: 0;\n",
       "}\n",
       "\n",
       ".xr-dim-list:before {\n",
       "  content: '(';\n",
       "}\n",
       "\n",
       ".xr-dim-list:after {\n",
       "  content: ')';\n",
       "}\n",
       "\n",
       ".xr-dim-list li:not(:last-child):after {\n",
       "  content: ',';\n",
       "  padding-right: 5px;\n",
       "}\n",
       "\n",
       ".xr-has-index {\n",
       "  font-weight: bold;\n",
       "}\n",
       "\n",
       ".xr-var-list,\n",
       ".xr-var-item {\n",
       "  display: contents;\n",
       "}\n",
       "\n",
       ".xr-var-item > div,\n",
       ".xr-var-item label,\n",
       ".xr-var-item > .xr-var-name span {\n",
       "  background-color: var(--xr-background-color-row-even);\n",
       "  margin-bottom: 0;\n",
       "}\n",
       "\n",
       ".xr-var-item > .xr-var-name:hover span {\n",
       "  padding-right: 5px;\n",
       "}\n",
       "\n",
       ".xr-var-list > li:nth-child(odd) > div,\n",
       ".xr-var-list > li:nth-child(odd) > label,\n",
       ".xr-var-list > li:nth-child(odd) > .xr-var-name span {\n",
       "  background-color: var(--xr-background-color-row-odd);\n",
       "}\n",
       "\n",
       ".xr-var-name {\n",
       "  grid-column: 1;\n",
       "}\n",
       "\n",
       ".xr-var-dims {\n",
       "  grid-column: 2;\n",
       "}\n",
       "\n",
       ".xr-var-dtype {\n",
       "  grid-column: 3;\n",
       "  text-align: right;\n",
       "  color: var(--xr-font-color2);\n",
       "}\n",
       "\n",
       ".xr-var-preview {\n",
       "  grid-column: 4;\n",
       "}\n",
       "\n",
       ".xr-index-preview {\n",
       "  grid-column: 2 / 5;\n",
       "  color: var(--xr-font-color2);\n",
       "}\n",
       "\n",
       ".xr-var-name,\n",
       ".xr-var-dims,\n",
       ".xr-var-dtype,\n",
       ".xr-preview,\n",
       ".xr-attrs dt {\n",
       "  white-space: nowrap;\n",
       "  overflow: hidden;\n",
       "  text-overflow: ellipsis;\n",
       "  padding-right: 10px;\n",
       "}\n",
       "\n",
       ".xr-var-name:hover,\n",
       ".xr-var-dims:hover,\n",
       ".xr-var-dtype:hover,\n",
       ".xr-attrs dt:hover {\n",
       "  overflow: visible;\n",
       "  width: auto;\n",
       "  z-index: 1;\n",
       "}\n",
       "\n",
       ".xr-var-attrs,\n",
       ".xr-var-data,\n",
       ".xr-index-data {\n",
       "  display: none;\n",
       "  background-color: var(--xr-background-color) !important;\n",
       "  padding-bottom: 5px !important;\n",
       "}\n",
       "\n",
       ".xr-var-attrs-in:checked ~ .xr-var-attrs,\n",
       ".xr-var-data-in:checked ~ .xr-var-data,\n",
       ".xr-index-data-in:checked ~ .xr-index-data {\n",
       "  display: block;\n",
       "}\n",
       "\n",
       ".xr-var-data > table {\n",
       "  float: right;\n",
       "}\n",
       "\n",
       ".xr-var-name span,\n",
       ".xr-var-data,\n",
       ".xr-index-name div,\n",
       ".xr-index-data,\n",
       ".xr-attrs {\n",
       "  padding-left: 25px !important;\n",
       "}\n",
       "\n",
       ".xr-attrs,\n",
       ".xr-var-attrs,\n",
       ".xr-var-data,\n",
       ".xr-index-data {\n",
       "  grid-column: 1 / -1;\n",
       "}\n",
       "\n",
       "dl.xr-attrs {\n",
       "  padding: 0;\n",
       "  margin: 0;\n",
       "  display: grid;\n",
       "  grid-template-columns: 125px auto;\n",
       "}\n",
       "\n",
       ".xr-attrs dt,\n",
       ".xr-attrs dd {\n",
       "  padding: 0;\n",
       "  margin: 0;\n",
       "  float: left;\n",
       "  padding-right: 10px;\n",
       "  width: auto;\n",
       "}\n",
       "\n",
       ".xr-attrs dt {\n",
       "  font-weight: normal;\n",
       "  grid-column: 1;\n",
       "}\n",
       "\n",
       ".xr-attrs dt:hover span {\n",
       "  display: inline-block;\n",
       "  background: var(--xr-background-color);\n",
       "  padding-right: 10px;\n",
       "}\n",
       "\n",
       ".xr-attrs dd {\n",
       "  grid-column: 2;\n",
       "  white-space: pre-wrap;\n",
       "  word-break: break-all;\n",
       "}\n",
       "\n",
       ".xr-icon-database,\n",
       ".xr-icon-file-text2,\n",
       ".xr-no-icon {\n",
       "  display: inline-block;\n",
       "  vertical-align: middle;\n",
       "  width: 1em;\n",
       "  height: 1.5em !important;\n",
       "  stroke-width: 0;\n",
       "  stroke: currentColor;\n",
       "  fill: currentColor;\n",
       "}\n",
       "</style><pre class='xr-text-repr-fallback'>&lt;xarray.DataArray &#x27;band_data&#x27; (y: 2160, x: 4320)&gt;\n",
       "[9331200 values with dtype=float32]\n",
       "Coordinates:\n",
       "  * x            (x) float64 -180.0 -179.9 -179.8 -179.7 ... 179.8 179.9 180.0\n",
       "  * y            (y) float64 89.96 89.88 89.79 89.71 ... -89.79 -89.87 -89.96\n",
       "    spatial_ref  int64 ...\n",
       "Attributes:\n",
       "    units:    unspecified</pre><div class='xr-wrap' style='display:none'><div class='xr-header'><div class='xr-obj-type'>xarray.DataArray</div><div class='xr-array-name'>'band_data'</div><ul class='xr-dim-list'><li><span class='xr-has-index'>y</span>: 2160</li><li><span class='xr-has-index'>x</span>: 4320</li></ul></div><ul class='xr-sections'><li class='xr-section-item'><div class='xr-array-wrap'><input id='section-66395510-b1ac-4231-9d42-8422af0a060c' class='xr-array-in' type='checkbox' checked><label for='section-66395510-b1ac-4231-9d42-8422af0a060c' title='Show/hide data repr'><svg class='icon xr-icon-database'><use xlink:href='#icon-database'></use></svg></label><div class='xr-array-preview xr-preview'><span>...</span></div><div class='xr-array-data'><pre>[9331200 values with dtype=float32]</pre></div></div></li><li class='xr-section-item'><input id='section-732c47b1-5284-4617-8d65-7b9ac7a7ee12' class='xr-section-summary-in' type='checkbox'  checked><label for='section-732c47b1-5284-4617-8d65-7b9ac7a7ee12' class='xr-section-summary' >Coordinates: <span>(3)</span></label><div class='xr-section-inline-details'></div><div class='xr-section-details'><ul class='xr-var-list'><li class='xr-var-item'><div class='xr-var-name'><span class='xr-has-index'>x</span></div><div class='xr-var-dims'>(x)</div><div class='xr-var-dtype'>float64</div><div class='xr-var-preview xr-preview'>-180.0 -179.9 ... 179.9 180.0</div><input id='attrs-f3bb3a95-2d8a-4f73-bcea-514f1ea758d7' class='xr-var-attrs-in' type='checkbox' disabled><label for='attrs-f3bb3a95-2d8a-4f73-bcea-514f1ea758d7' title='Show/Hide attributes'><svg class='icon xr-icon-file-text2'><use xlink:href='#icon-file-text2'></use></svg></label><input id='data-37db94c9-34ec-4209-96fa-98f292ca95c3' class='xr-var-data-in' type='checkbox'><label for='data-37db94c9-34ec-4209-96fa-98f292ca95c3' title='Show/Hide data repr'><svg class='icon xr-icon-database'><use xlink:href='#icon-database'></use></svg></label><div class='xr-var-attrs'><dl class='xr-attrs'></dl></div><div class='xr-var-data'><pre>array([-179.958333, -179.875   , -179.791667, ...,  179.791667,  179.875   ,\n",
       "        179.958333])</pre></div></li><li class='xr-var-item'><div class='xr-var-name'><span class='xr-has-index'>y</span></div><div class='xr-var-dims'>(y)</div><div class='xr-var-dtype'>float64</div><div class='xr-var-preview xr-preview'>89.96 89.88 89.79 ... -89.87 -89.96</div><input id='attrs-e6896710-6540-448d-a521-01ef882dcc68' class='xr-var-attrs-in' type='checkbox' disabled><label for='attrs-e6896710-6540-448d-a521-01ef882dcc68' title='Show/Hide attributes'><svg class='icon xr-icon-file-text2'><use xlink:href='#icon-file-text2'></use></svg></label><input id='data-2f2d4fdb-eea2-4eff-bec2-94e270232c17' class='xr-var-data-in' type='checkbox'><label for='data-2f2d4fdb-eea2-4eff-bec2-94e270232c17' title='Show/Hide data repr'><svg class='icon xr-icon-database'><use xlink:href='#icon-database'></use></svg></label><div class='xr-var-attrs'><dl class='xr-attrs'></dl></div><div class='xr-var-data'><pre>array([ 89.958333,  89.875   ,  89.791667, ..., -89.791667, -89.875   ,\n",
       "       -89.958333])</pre></div></li><li class='xr-var-item'><div class='xr-var-name'><span>spatial_ref</span></div><div class='xr-var-dims'>()</div><div class='xr-var-dtype'>int64</div><div class='xr-var-preview xr-preview'>...</div><input id='attrs-f444b9f0-d007-4544-84ca-a164a1b7f802' class='xr-var-attrs-in' type='checkbox' ><label for='attrs-f444b9f0-d007-4544-84ca-a164a1b7f802' title='Show/Hide attributes'><svg class='icon xr-icon-file-text2'><use xlink:href='#icon-file-text2'></use></svg></label><input id='data-21a6521f-e537-44db-82f2-359298cb0d17' class='xr-var-data-in' type='checkbox'><label for='data-21a6521f-e537-44db-82f2-359298cb0d17' title='Show/Hide data repr'><svg class='icon xr-icon-database'><use xlink:href='#icon-database'></use></svg></label><div class='xr-var-attrs'><dl class='xr-attrs'><dt><span>crs_wkt :</span></dt><dd>GEOGCS[&quot;WGS 84&quot;,DATUM[&quot;WGS_1984&quot;,SPHEROID[&quot;WGS 84&quot;,6378137,298.257223563,AUTHORITY[&quot;EPSG&quot;,&quot;7030&quot;]],AUTHORITY[&quot;EPSG&quot;,&quot;6326&quot;]],PRIMEM[&quot;Greenwich&quot;,0,AUTHORITY[&quot;EPSG&quot;,&quot;8901&quot;]],UNIT[&quot;degree&quot;,0.0174532925199433,AUTHORITY[&quot;EPSG&quot;,&quot;9122&quot;]],AXIS[&quot;Latitude&quot;,NORTH],AXIS[&quot;Longitude&quot;,EAST],AUTHORITY[&quot;EPSG&quot;,&quot;4326&quot;]]</dd><dt><span>semi_major_axis :</span></dt><dd>6378137.0</dd><dt><span>semi_minor_axis :</span></dt><dd>6356752.314245179</dd><dt><span>inverse_flattening :</span></dt><dd>298.257223563</dd><dt><span>reference_ellipsoid_name :</span></dt><dd>WGS 84</dd><dt><span>longitude_of_prime_meridian :</span></dt><dd>0.0</dd><dt><span>prime_meridian_name :</span></dt><dd>Greenwich</dd><dt><span>geographic_crs_name :</span></dt><dd>WGS 84</dd><dt><span>horizontal_datum_name :</span></dt><dd>World Geodetic System 1984</dd><dt><span>grid_mapping_name :</span></dt><dd>latitude_longitude</dd><dt><span>spatial_ref :</span></dt><dd>GEOGCS[&quot;WGS 84&quot;,DATUM[&quot;WGS_1984&quot;,SPHEROID[&quot;WGS 84&quot;,6378137,298.257223563,AUTHORITY[&quot;EPSG&quot;,&quot;7030&quot;]],AUTHORITY[&quot;EPSG&quot;,&quot;6326&quot;]],PRIMEM[&quot;Greenwich&quot;,0,AUTHORITY[&quot;EPSG&quot;,&quot;8901&quot;]],UNIT[&quot;degree&quot;,0.0174532925199433,AUTHORITY[&quot;EPSG&quot;,&quot;9122&quot;]],AXIS[&quot;Latitude&quot;,NORTH],AXIS[&quot;Longitude&quot;,EAST],AUTHORITY[&quot;EPSG&quot;,&quot;4326&quot;]]</dd><dt><span>GeoTransform :</span></dt><dd>-180.0 0.08333333333333333 0.0 90.0 0.0 -0.08333333333333333</dd></dl></div><div class='xr-var-data'><pre>[1 values with dtype=int64]</pre></div></li></ul></div></li><li class='xr-section-item'><input id='section-bb60fa85-ce15-47ee-904a-105abaea1326' class='xr-section-summary-in' type='checkbox'  ><label for='section-bb60fa85-ce15-47ee-904a-105abaea1326' class='xr-section-summary' >Indexes: <span>(2)</span></label><div class='xr-section-inline-details'></div><div class='xr-section-details'><ul class='xr-var-list'><li class='xr-var-item'><div class='xr-index-name'><div>x</div></div><div class='xr-index-preview'>PandasIndex</div><div></div><input id='index-99b65a4b-ecc9-497a-85a0-250854feeee1' class='xr-index-data-in' type='checkbox'/><label for='index-99b65a4b-ecc9-497a-85a0-250854feeee1' title='Show/Hide index repr'><svg class='icon xr-icon-database'><use xlink:href='#icon-database'></use></svg></label><div class='xr-index-data'><pre>PandasIndex(Index([-179.95833333333334,            -179.875, -179.79166666666669,\n",
       "       -179.70833333333334,            -179.625, -179.54166666666669,\n",
       "       -179.45833333333334,            -179.375, -179.29166666666669,\n",
       "       -179.20833333333334,\n",
       "       ...\n",
       "         179.2083333333333,  179.29166666666666,  179.37499999999997,\n",
       "         179.4583333333333,  179.54166666666666,  179.62499999999997,\n",
       "         179.7083333333333,  179.79166666666666,  179.87499999999997,\n",
       "         179.9583333333333],\n",
       "      dtype=&#x27;float64&#x27;, name=&#x27;x&#x27;, length=4320))</pre></div></li><li class='xr-var-item'><div class='xr-index-name'><div>y</div></div><div class='xr-index-preview'>PandasIndex</div><div></div><input id='index-6b965945-95ec-4dbc-bd0e-97dfe348c5ff' class='xr-index-data-in' type='checkbox'/><label for='index-6b965945-95ec-4dbc-bd0e-97dfe348c5ff' title='Show/Hide index repr'><svg class='icon xr-icon-database'><use xlink:href='#icon-database'></use></svg></label><div class='xr-index-data'><pre>PandasIndex(Index([ 89.95833333333333,             89.875,  89.79166666666666,\n",
       "        89.70833333333333,             89.625,  89.54166666666666,\n",
       "        89.45833333333333,             89.375,  89.29166666666666,\n",
       "        89.20833333333333,\n",
       "       ...\n",
       "       -89.20833333333333, -89.29166666666667, -89.37499999999999,\n",
       "       -89.45833333333333, -89.54166666666667, -89.62499999999999,\n",
       "       -89.70833333333333, -89.79166666666667, -89.87499999999999,\n",
       "       -89.95833333333333],\n",
       "      dtype=&#x27;float64&#x27;, name=&#x27;y&#x27;, length=2160))</pre></div></li></ul></div></li><li class='xr-section-item'><input id='section-1a7db167-5e6e-4a66-a490-f21fe39ebefa' class='xr-section-summary-in' type='checkbox'  checked><label for='section-1a7db167-5e6e-4a66-a490-f21fe39ebefa' class='xr-section-summary' >Attributes: <span>(1)</span></label><div class='xr-section-inline-details'></div><div class='xr-section-details'><dl class='xr-attrs'><dt><span>units :</span></dt><dd>unspecified</dd></dl></div></li></ul></div></div>"
      ],
      "text/plain": [
       "<xarray.DataArray 'band_data' (y: 2160, x: 4320)>\n",
       "[9331200 values with dtype=float32]\n",
       "Coordinates:\n",
       "  * x            (x) float64 -180.0 -179.9 -179.8 -179.7 ... 179.8 179.9 180.0\n",
       "  * y            (y) float64 89.96 89.88 89.79 89.71 ... -89.79 -89.87 -89.96\n",
       "    spatial_ref  int64 ...\n",
       "Attributes:\n",
       "    units:    unspecified"
      ]
     },
     "execution_count": 11,
     "metadata": {},
     "output_type": "execute_result"
    }
   ],
   "source": [
    "mask=xr.open_dataset(maskfile,engine='rasterio').squeeze()['band_data'] \n",
    "mask=mask.drop('band')\n",
    "\n",
    "mask"
   ]
  },
  {
   "cell_type": "code",
   "execution_count": 12,
   "metadata": {},
   "outputs": [
    {
     "data": {
      "text/plain": [
       "(2160, 4320)"
      ]
     },
     "execution_count": 12,
     "metadata": {},
     "output_type": "execute_result"
    }
   ],
   "source": [
    "ny,nx=mask.shape\n",
    "\n",
    "ny,nx"
   ]
  },
  {
   "cell_type": "code",
   "execution_count": 13,
   "metadata": {},
   "outputs": [
    {
     "data": {
      "text/plain": [
       "array([0.000e+00, 1.000e+00, 2.000e+00, ..., 9.998e+03, 9.999e+03,\n",
       "       1.000e+04], dtype=float32)"
      ]
     },
     "execution_count": 13,
     "metadata": {},
     "output_type": "execute_result"
    }
   ],
   "source": [
    "# what is the range of values in the mask\n",
    "# this can also be found in the RDC file\n",
    "# it's not 0 to 1, it's 0 to 10000\n",
    "np.unique(mask)"
   ]
  },
  {
   "cell_type": "code",
   "execution_count": 14,
   "metadata": {},
   "outputs": [
    {
     "data": {
      "text/plain": [
       "array([ 89.958336,  89.875   ,  89.791664, ..., -89.791664, -89.875   ,\n",
       "       -89.958336], dtype=float32)"
      ]
     },
     "execution_count": 14,
     "metadata": {},
     "output_type": "execute_result"
    }
   ],
   "source": [
    "yvals=mask.y.data.astype('float32')\n",
    "xvals=mask.x.data.astype('float32')\n",
    "doys=(np.arange(365)+1).astype('int32')\n",
    "yvals"
   ]
  },
  {
   "cell_type": "code",
   "execution_count": 15,
   "metadata": {},
   "outputs": [],
   "source": [
    "# create an empty arr with grid and time metadata\n",
    "# so we can chunk it with the metadata \n",
    "# and then easily concatenate everything\n",
    "\n",
    "# empty_arr=xr.DataArray(dims=['y','x','doy'],coords={'y':('y',yvals),'x':('x',xvals),'doy':('doy',doys)}).astype('float32')"
   ]
  },
  {
   "cell_type": "code",
   "execution_count": 16,
   "metadata": {},
   "outputs": [],
   "source": [
    "# landmask_any=np.where(mask>0,1,0)\n",
    "# landmask_25pct=np.where(mask>2500,1,0)"
   ]
  },
  {
   "cell_type": "code",
   "execution_count": 17,
   "metadata": {},
   "outputs": [
    {
     "data": {
      "text/plain": [
       "['/work/hpc/users/kerrie/UN_FAO/data//gaez_dat_files/global_1980/Precip365_AgERA5_Hist_1980_5m.dat',\n",
       " '/work/hpc/users/kerrie/UN_FAO/data//gaez_dat_files/global_1980/Srad365_AgERA5_Hist_1980_5m.dat',\n",
       " '/work/hpc/users/kerrie/UN_FAO/data//gaez_dat_files/global_1980/Tmax-2m365_AgERA5_Hist_1980_5m.dat',\n",
       " '/work/hpc/users/kerrie/UN_FAO/data//gaez_dat_files/global_1980/Tmin-2m365_AgERA5_Hist_1980_5m.dat',\n",
       " '/work/hpc/users/kerrie/UN_FAO/data//gaez_dat_files/global_1980/Vapr365_AgERA5_Hist_1980_5m.dat',\n",
       " '/work/hpc/users/kerrie/UN_FAO/data//gaez_dat_files/global_1980/Wind-10m365_AgERA5_Hist_1980_5m.dat']"
      ]
     },
     "execution_count": 17,
     "metadata": {},
     "output_type": "execute_result"
    }
   ],
   "source": [
    "# list of dat files to convert\n",
    "filelist=natsorted(glob.glob(data_dir+'/gaez_dat_files/global_'+str(year)+'/*'+str(year)+'*'))\n",
    "filelist"
   ]
  },
  {
   "cell_type": "code",
   "execution_count": 18,
   "metadata": {},
   "outputs": [],
   "source": [
    "# # check out a single line\n",
    "# with open (filelist[0]) as f:\n",
    "#     test=f.readline()\n",
    "\n",
    "# test"
   ]
  },
  {
   "cell_type": "code",
   "execution_count": 19,
   "metadata": {},
   "outputs": [],
   "source": [
    "# get each line as a string and remove carriage returns\n",
    "temp=open(filelist[0]).read().splitlines() \n",
    "# temp[0:2]"
   ]
  },
  {
   "cell_type": "code",
   "execution_count": 20,
   "metadata": {},
   "outputs": [],
   "source": [
    "ilatilon=temp[0::2] # grab the lines with the lat/lons (every other line)\n",
    "data=temp[1::2]  # grab the lines with the data (every other line)\n",
    "\n",
    "# ilatilon[0:3]"
   ]
  },
  {
   "cell_type": "code",
   "execution_count": 21,
   "metadata": {},
   "outputs": [
    {
     "name": "stdout",
     "output_type": "stream",
     "text": [
      "77 1794\n",
      "1 4320\n"
     ]
    }
   ],
   "source": [
    "ilat=np.array([int(i.split()[0]) for i in ilatilon]).astype('int16') # get the first number in each string as integer and put it in an array\n",
    "ilon=np.array([int(i.split()[1]) for i in ilatilon]).astype('int16') # get the second number in each string as integer and put it in an array\n",
    "\n",
    "# print(ilat.shape)\n",
    "# ilat[0:3]\n",
    "print(ilat.min(),ilat.max())\n",
    "print(ilon.min(),ilon.max())"
   ]
  },
  {
   "cell_type": "code",
   "execution_count": 22,
   "metadata": {},
   "outputs": [
    {
     "name": "stdout",
     "output_type": "stream",
     "text": [
      "-9999 10000\n"
     ]
    },
    {
     "data": {
      "text/plain": [
       "(2295358, 365)"
      ]
     },
     "execution_count": 22,
     "metadata": {},
     "output_type": "execute_result"
    }
   ],
   "source": [
    "# string data to numpy array\n",
    "# takes 30-60s to get millions of data strings into a numpy array\n",
    "# makes slicing up the data super easy\n",
    "data2D=np.loadtxt(data,dtype='int16')\n",
    "print(data2D.min(),data2D.max())\n",
    "data2D.shape"
   ]
  },
  {
   "cell_type": "markdown",
   "metadata": {},
   "source": [
    "# Testing dask Futures vs dask delayed \n",
    "\n",
    "we want to process one entire latitude at a time (1 latitude, all longitudes, all days) so we can parallelize computations\n",
    "\n",
    "on our 5m global grid, there are 2160 latitudes\n",
    "\n",
    "For futures, you first fix up your lists of inputs \n",
    "- list length 2160 \n",
    "- each item in a list is an np.array of info\n",
    "\n",
    "Then, feed your inputs to the function \n",
    "- function runs 2160 times in parallel\n",
    "- spits out a chunk of the global data\n",
    "- the chunk it spits out has dims (y=1,x=4320,t=365)"
   ]
  },
  {
   "cell_type": "code",
   "execution_count": null,
   "metadata": {},
   "outputs": [],
   "source": [
    "# this is our function\n",
    "def build_global_data_chunk(ixs,data,y,x,t):   \n",
    "    # create an array with nan at missing data grids\n",
    "    arr=xr.DataArray(dims=['y','x','doy'],coords={'y':('y',y),'x':('x',x),'doy':('doy',t)}).astype('float16')\n",
    "    # loop thru longitudes to assign each grid cell data and change -9999 to nan\n",
    "    if np.any(ixs):\n",
    "        for i,ix in enumerate(ixs):\n",
    "                arr[0:1,ix:ix+1,:]=data[i,:]\n",
    "        arr=arr.where(arr>-9999)    \n",
    "    return arr"
   ]
  },
  {
   "cell_type": "code",
   "execution_count": null,
   "metadata": {},
   "outputs": [],
   "source": [
    "# prepare all input data arrays in lists of len 2160\n",
    "lon_arrlist=[]    # the indexes of longitudes that have data at each latitude\n",
    "data_arrlist=[]   # all the data rows grouped by latitude\n",
    "yvals_arrlist=[]  # each single latitude\n",
    "xvals_arrlist=[]  # all longitudes\n",
    "doys_arrlist=[]   # all days\n",
    "\n",
    "# loop thru latitudes\n",
    "for iy in range(ny):\n",
    "    indices=np.where(ilat==iy+1)[0]  # find which data rows apply to this latitude\n",
    "    lon_arrlist.append(ilon[indices]-1)\n",
    "    data_arrlist.append(data2D[indices,:])\n",
    "    yvals_arrlist.append(yvals[iy:iy+1])\n",
    "    xvals_arrlist.append(xvals)\n",
    "    doys_arrlist.append(doys)\n",
    "    \n",
    "\n",
    "# example of what one item in each list looks like\n",
    "# note: if the latitude is all ocean, there will be empty arrays for lon and data\n",
    "lon_arrlist[76],data_arrlist[76],yvals_arrlist[76],xvals_arrlist[76],doys_arrlist[76]"
   ]
  },
  {
   "cell_type": "markdown",
   "metadata": {},
   "source": [
    "if we compute below without pre-scattering the data to the workers, we get a warning\n",
    "\n",
    "but the compute does complete\n",
    "\n",
    "on 4 workers * 20 threads = 80 total threads this takes 2min 35s "
   ]
  },
  {
   "cell_type": "code",
   "execution_count": null,
   "metadata": {},
   "outputs": [],
   "source": [
    "# this statement sets of the parallel computing, futures is a list of pointers to where things are computing on the workers\n",
    "futures=client.map(build_global_data_chunk,lon_arrlist,data_arrlist,yvals_arrlist,xvals_arrlist,doys_arrlist)\n",
    "\n",
    "# this statement pulls down the results from all workers and puts them in a list called output\n",
    "output=client.gather(futures)\n",
    "\n",
    "# show the first item in the list output, each item is a chunk of the global data in xarray data array format\n",
    "output[0]"
   ]
  },
  {
   "cell_type": "markdown",
   "metadata": {},
   "source": [
    "there's also an option to pre-spread the data across the workers\n",
    "\n",
    "on 4 workers * 20 threads = 80 total threads this also takes 2min 35s and avoids the warning"
   ]
  },
  {
   "cell_type": "code",
   "execution_count": null,
   "metadata": {},
   "outputs": [],
   "source": [
    "# these statements pre-spread the data arrays across the workers in a round robin for each variable\n",
    "scattered_lon=client.scatter(lon_arrlist)\n",
    "scattered_data=client.scatter(data_arrlist)\n",
    "scattered_yvals=client.scatter(yvals_arrlist)\n",
    "scattered_xvals=client.scatter(xvals_arrlist)\n",
    "scattered_doys=client.scatter(doys_arrlist)\n",
    "\n",
    "# same as before but operate on the scattered data\n",
    "futures=client.map(build_global_data_chunk,scattered_lon,scattered_data,scattered_yvals,scattered_xvals,scattered_doys)\n",
    "output=client.gather(futures)\n",
    "output[0]"
   ]
  },
  {
   "cell_type": "markdown",
   "metadata": {},
   "source": [
    "the last step is to concatenate all the data output chunks together into 1 large array of global data\n",
    "\n",
    "because we are using xarray with labeled dimensions, this is very easy\n",
    "\n",
    "this operation is not parallelized but only takes a few seconds"
   ]
  },
  {
   "cell_type": "code",
   "execution_count": null,
   "metadata": {},
   "outputs": [],
   "source": [
    "bigarr=xr.concat(output,dim='y')\n",
    "bigarr"
   ]
  },
  {
   "cell_type": "markdown",
   "metadata": {},
   "source": [
    "### we can also do the above slightly differently using dask delayed\n",
    "\n",
    "this time instead of prepping the inputs into lists, we operate on chunks of the data inside of a loop\n",
    "\n",
    "inside the loop we issue calls to functions that do the heavier computing tasks\n",
    "\n",
    "we delay those functions to create a dask task graph on length 2160 and then set off all the tasks to compute"
   ]
  },
  {
   "cell_type": "code",
   "execution_count": 34,
   "metadata": {},
   "outputs": [],
   "source": [
    "# similar to build_global_data_chunk function, this function builds a chunk of data for grids where data is present\n",
    "\n",
    "@dask.delayed\n",
    "def build_full_lat(ixs,data,y,x,t):\n",
    "    arr=xr.DataArray(dims=['y','x','doy'],coords={'y':('y',y),'x':('x',x),'doy':('doy',t)}).astype('float16')\n",
    "    for i,ix in enumerate(ixs):\n",
    "        arr[0:1,ix:ix+1,:]=data[i,:]\n",
    "    \n",
    "    arr=arr.where(arr>-9999)\n",
    "    \n",
    "    return arr"
   ]
  },
  {
   "cell_type": "code",
   "execution_count": 35,
   "metadata": {},
   "outputs": [],
   "source": [
    "# similar to build_global_data_chunk function, this function builds a chunk of data for grids where data is not present\n",
    "\n",
    "@dask.delayed\n",
    "def build_empty_lat(y,x,t):\n",
    "    arr=xr.DataArray(dims=['y','x','doy'],coords={'y':('y',y),'x':('x',x),'doy':('doy',t)}).astype('float16')\n",
    "    return arr"
   ]
  },
  {
   "cell_type": "markdown",
   "metadata": {},
   "source": [
    "now we write a normal not-delayed loop to call the delayed functions and collect all the delayed tasks into a list called tasklist"
   ]
  },
  {
   "cell_type": "code",
   "execution_count": 41,
   "metadata": {},
   "outputs": [],
   "source": [
    "tasklist=[]\n",
    "\n",
    "# again, loop thru latitudes\n",
    "for iy in range(ny):\n",
    "    indices=np.where(ilat==iy+1)[0] # find which data rows apply to this latitude\n",
    "    if np.any(indices):\n",
    "        result=build_full_lat((ilon[indices]-1),data2D[indices,:],yvals[iy:iy+1],xvals,doys) # lazy func call\n",
    "        tasklist.append(result) # collect list of resulting arrays\n",
    "    else:\n",
    "        result=build_empty_lat(yvals[iy:iy+1],xvals,doys)\n",
    "        tasklist.append(result)"
   ]
  },
  {
   "cell_type": "markdown",
   "metadata": {},
   "source": [
    "on 4 workers * 20 threads = 80 total threads this takes 2min 29s\n",
    "\n",
    "and we just ignore the warning"
   ]
  },
  {
   "cell_type": "code",
   "execution_count": 42,
   "metadata": {},
   "outputs": [
    {
     "data": {
      "text/html": [
       "<div><svg style=\"position: absolute; width: 0; height: 0; overflow: hidden\">\n",
       "<defs>\n",
       "<symbol id=\"icon-database\" viewBox=\"0 0 32 32\">\n",
       "<path d=\"M16 0c-8.837 0-16 2.239-16 5v4c0 2.761 7.163 5 16 5s16-2.239 16-5v-4c0-2.761-7.163-5-16-5z\"></path>\n",
       "<path d=\"M16 17c-8.837 0-16-2.239-16-5v6c0 2.761 7.163 5 16 5s16-2.239 16-5v-6c0 2.761-7.163 5-16 5z\"></path>\n",
       "<path d=\"M16 26c-8.837 0-16-2.239-16-5v6c0 2.761 7.163 5 16 5s16-2.239 16-5v-6c0 2.761-7.163 5-16 5z\"></path>\n",
       "</symbol>\n",
       "<symbol id=\"icon-file-text2\" viewBox=\"0 0 32 32\">\n",
       "<path d=\"M28.681 7.159c-0.694-0.947-1.662-2.053-2.724-3.116s-2.169-2.030-3.116-2.724c-1.612-1.182-2.393-1.319-2.841-1.319h-15.5c-1.378 0-2.5 1.121-2.5 2.5v27c0 1.378 1.122 2.5 2.5 2.5h23c1.378 0 2.5-1.122 2.5-2.5v-19.5c0-0.448-0.137-1.23-1.319-2.841zM24.543 5.457c0.959 0.959 1.712 1.825 2.268 2.543h-4.811v-4.811c0.718 0.556 1.584 1.309 2.543 2.268zM28 29.5c0 0.271-0.229 0.5-0.5 0.5h-23c-0.271 0-0.5-0.229-0.5-0.5v-27c0-0.271 0.229-0.5 0.5-0.5 0 0 15.499-0 15.5 0v7c0 0.552 0.448 1 1 1h7v19.5z\"></path>\n",
       "<path d=\"M23 26h-14c-0.552 0-1-0.448-1-1s0.448-1 1-1h14c0.552 0 1 0.448 1 1s-0.448 1-1 1z\"></path>\n",
       "<path d=\"M23 22h-14c-0.552 0-1-0.448-1-1s0.448-1 1-1h14c0.552 0 1 0.448 1 1s-0.448 1-1 1z\"></path>\n",
       "<path d=\"M23 18h-14c-0.552 0-1-0.448-1-1s0.448-1 1-1h14c0.552 0 1 0.448 1 1s-0.448 1-1 1z\"></path>\n",
       "</symbol>\n",
       "</defs>\n",
       "</svg>\n",
       "<style>/* CSS stylesheet for displaying xarray objects in jupyterlab.\n",
       " *\n",
       " */\n",
       "\n",
       ":root {\n",
       "  --xr-font-color0: var(--jp-content-font-color0, rgba(0, 0, 0, 1));\n",
       "  --xr-font-color2: var(--jp-content-font-color2, rgba(0, 0, 0, 0.54));\n",
       "  --xr-font-color3: var(--jp-content-font-color3, rgba(0, 0, 0, 0.38));\n",
       "  --xr-border-color: var(--jp-border-color2, #e0e0e0);\n",
       "  --xr-disabled-color: var(--jp-layout-color3, #bdbdbd);\n",
       "  --xr-background-color: var(--jp-layout-color0, white);\n",
       "  --xr-background-color-row-even: var(--jp-layout-color1, white);\n",
       "  --xr-background-color-row-odd: var(--jp-layout-color2, #eeeeee);\n",
       "}\n",
       "\n",
       "html[theme=dark],\n",
       "body[data-theme=dark],\n",
       "body.vscode-dark {\n",
       "  --xr-font-color0: rgba(255, 255, 255, 1);\n",
       "  --xr-font-color2: rgba(255, 255, 255, 0.54);\n",
       "  --xr-font-color3: rgba(255, 255, 255, 0.38);\n",
       "  --xr-border-color: #1F1F1F;\n",
       "  --xr-disabled-color: #515151;\n",
       "  --xr-background-color: #111111;\n",
       "  --xr-background-color-row-even: #111111;\n",
       "  --xr-background-color-row-odd: #313131;\n",
       "}\n",
       "\n",
       ".xr-wrap {\n",
       "  display: block !important;\n",
       "  min-width: 300px;\n",
       "  max-width: 700px;\n",
       "}\n",
       "\n",
       ".xr-text-repr-fallback {\n",
       "  /* fallback to plain text repr when CSS is not injected (untrusted notebook) */\n",
       "  display: none;\n",
       "}\n",
       "\n",
       ".xr-header {\n",
       "  padding-top: 6px;\n",
       "  padding-bottom: 6px;\n",
       "  margin-bottom: 4px;\n",
       "  border-bottom: solid 1px var(--xr-border-color);\n",
       "}\n",
       "\n",
       ".xr-header > div,\n",
       ".xr-header > ul {\n",
       "  display: inline;\n",
       "  margin-top: 0;\n",
       "  margin-bottom: 0;\n",
       "}\n",
       "\n",
       ".xr-obj-type,\n",
       ".xr-array-name {\n",
       "  margin-left: 2px;\n",
       "  margin-right: 10px;\n",
       "}\n",
       "\n",
       ".xr-obj-type {\n",
       "  color: var(--xr-font-color2);\n",
       "}\n",
       "\n",
       ".xr-sections {\n",
       "  padding-left: 0 !important;\n",
       "  display: grid;\n",
       "  grid-template-columns: 150px auto auto 1fr 20px 20px;\n",
       "}\n",
       "\n",
       ".xr-section-item {\n",
       "  display: contents;\n",
       "}\n",
       "\n",
       ".xr-section-item input {\n",
       "  display: none;\n",
       "}\n",
       "\n",
       ".xr-section-item input + label {\n",
       "  color: var(--xr-disabled-color);\n",
       "}\n",
       "\n",
       ".xr-section-item input:enabled + label {\n",
       "  cursor: pointer;\n",
       "  color: var(--xr-font-color2);\n",
       "}\n",
       "\n",
       ".xr-section-item input:enabled + label:hover {\n",
       "  color: var(--xr-font-color0);\n",
       "}\n",
       "\n",
       ".xr-section-summary {\n",
       "  grid-column: 1;\n",
       "  color: var(--xr-font-color2);\n",
       "  font-weight: 500;\n",
       "}\n",
       "\n",
       ".xr-section-summary > span {\n",
       "  display: inline-block;\n",
       "  padding-left: 0.5em;\n",
       "}\n",
       "\n",
       ".xr-section-summary-in:disabled + label {\n",
       "  color: var(--xr-font-color2);\n",
       "}\n",
       "\n",
       ".xr-section-summary-in + label:before {\n",
       "  display: inline-block;\n",
       "  content: '►';\n",
       "  font-size: 11px;\n",
       "  width: 15px;\n",
       "  text-align: center;\n",
       "}\n",
       "\n",
       ".xr-section-summary-in:disabled + label:before {\n",
       "  color: var(--xr-disabled-color);\n",
       "}\n",
       "\n",
       ".xr-section-summary-in:checked + label:before {\n",
       "  content: '▼';\n",
       "}\n",
       "\n",
       ".xr-section-summary-in:checked + label > span {\n",
       "  display: none;\n",
       "}\n",
       "\n",
       ".xr-section-summary,\n",
       ".xr-section-inline-details {\n",
       "  padding-top: 4px;\n",
       "  padding-bottom: 4px;\n",
       "}\n",
       "\n",
       ".xr-section-inline-details {\n",
       "  grid-column: 2 / -1;\n",
       "}\n",
       "\n",
       ".xr-section-details {\n",
       "  display: none;\n",
       "  grid-column: 1 / -1;\n",
       "  margin-bottom: 5px;\n",
       "}\n",
       "\n",
       ".xr-section-summary-in:checked ~ .xr-section-details {\n",
       "  display: contents;\n",
       "}\n",
       "\n",
       ".xr-array-wrap {\n",
       "  grid-column: 1 / -1;\n",
       "  display: grid;\n",
       "  grid-template-columns: 20px auto;\n",
       "}\n",
       "\n",
       ".xr-array-wrap > label {\n",
       "  grid-column: 1;\n",
       "  vertical-align: top;\n",
       "}\n",
       "\n",
       ".xr-preview {\n",
       "  color: var(--xr-font-color3);\n",
       "}\n",
       "\n",
       ".xr-array-preview,\n",
       ".xr-array-data {\n",
       "  padding: 0 5px !important;\n",
       "  grid-column: 2;\n",
       "}\n",
       "\n",
       ".xr-array-data,\n",
       ".xr-array-in:checked ~ .xr-array-preview {\n",
       "  display: none;\n",
       "}\n",
       "\n",
       ".xr-array-in:checked ~ .xr-array-data,\n",
       ".xr-array-preview {\n",
       "  display: inline-block;\n",
       "}\n",
       "\n",
       ".xr-dim-list {\n",
       "  display: inline-block !important;\n",
       "  list-style: none;\n",
       "  padding: 0 !important;\n",
       "  margin: 0;\n",
       "}\n",
       "\n",
       ".xr-dim-list li {\n",
       "  display: inline-block;\n",
       "  padding: 0;\n",
       "  margin: 0;\n",
       "}\n",
       "\n",
       ".xr-dim-list:before {\n",
       "  content: '(';\n",
       "}\n",
       "\n",
       ".xr-dim-list:after {\n",
       "  content: ')';\n",
       "}\n",
       "\n",
       ".xr-dim-list li:not(:last-child):after {\n",
       "  content: ',';\n",
       "  padding-right: 5px;\n",
       "}\n",
       "\n",
       ".xr-has-index {\n",
       "  font-weight: bold;\n",
       "}\n",
       "\n",
       ".xr-var-list,\n",
       ".xr-var-item {\n",
       "  display: contents;\n",
       "}\n",
       "\n",
       ".xr-var-item > div,\n",
       ".xr-var-item label,\n",
       ".xr-var-item > .xr-var-name span {\n",
       "  background-color: var(--xr-background-color-row-even);\n",
       "  margin-bottom: 0;\n",
       "}\n",
       "\n",
       ".xr-var-item > .xr-var-name:hover span {\n",
       "  padding-right: 5px;\n",
       "}\n",
       "\n",
       ".xr-var-list > li:nth-child(odd) > div,\n",
       ".xr-var-list > li:nth-child(odd) > label,\n",
       ".xr-var-list > li:nth-child(odd) > .xr-var-name span {\n",
       "  background-color: var(--xr-background-color-row-odd);\n",
       "}\n",
       "\n",
       ".xr-var-name {\n",
       "  grid-column: 1;\n",
       "}\n",
       "\n",
       ".xr-var-dims {\n",
       "  grid-column: 2;\n",
       "}\n",
       "\n",
       ".xr-var-dtype {\n",
       "  grid-column: 3;\n",
       "  text-align: right;\n",
       "  color: var(--xr-font-color2);\n",
       "}\n",
       "\n",
       ".xr-var-preview {\n",
       "  grid-column: 4;\n",
       "}\n",
       "\n",
       ".xr-index-preview {\n",
       "  grid-column: 2 / 5;\n",
       "  color: var(--xr-font-color2);\n",
       "}\n",
       "\n",
       ".xr-var-name,\n",
       ".xr-var-dims,\n",
       ".xr-var-dtype,\n",
       ".xr-preview,\n",
       ".xr-attrs dt {\n",
       "  white-space: nowrap;\n",
       "  overflow: hidden;\n",
       "  text-overflow: ellipsis;\n",
       "  padding-right: 10px;\n",
       "}\n",
       "\n",
       ".xr-var-name:hover,\n",
       ".xr-var-dims:hover,\n",
       ".xr-var-dtype:hover,\n",
       ".xr-attrs dt:hover {\n",
       "  overflow: visible;\n",
       "  width: auto;\n",
       "  z-index: 1;\n",
       "}\n",
       "\n",
       ".xr-var-attrs,\n",
       ".xr-var-data,\n",
       ".xr-index-data {\n",
       "  display: none;\n",
       "  background-color: var(--xr-background-color) !important;\n",
       "  padding-bottom: 5px !important;\n",
       "}\n",
       "\n",
       ".xr-var-attrs-in:checked ~ .xr-var-attrs,\n",
       ".xr-var-data-in:checked ~ .xr-var-data,\n",
       ".xr-index-data-in:checked ~ .xr-index-data {\n",
       "  display: block;\n",
       "}\n",
       "\n",
       ".xr-var-data > table {\n",
       "  float: right;\n",
       "}\n",
       "\n",
       ".xr-var-name span,\n",
       ".xr-var-data,\n",
       ".xr-index-name div,\n",
       ".xr-index-data,\n",
       ".xr-attrs {\n",
       "  padding-left: 25px !important;\n",
       "}\n",
       "\n",
       ".xr-attrs,\n",
       ".xr-var-attrs,\n",
       ".xr-var-data,\n",
       ".xr-index-data {\n",
       "  grid-column: 1 / -1;\n",
       "}\n",
       "\n",
       "dl.xr-attrs {\n",
       "  padding: 0;\n",
       "  margin: 0;\n",
       "  display: grid;\n",
       "  grid-template-columns: 125px auto;\n",
       "}\n",
       "\n",
       ".xr-attrs dt,\n",
       ".xr-attrs dd {\n",
       "  padding: 0;\n",
       "  margin: 0;\n",
       "  float: left;\n",
       "  padding-right: 10px;\n",
       "  width: auto;\n",
       "}\n",
       "\n",
       ".xr-attrs dt {\n",
       "  font-weight: normal;\n",
       "  grid-column: 1;\n",
       "}\n",
       "\n",
       ".xr-attrs dt:hover span {\n",
       "  display: inline-block;\n",
       "  background: var(--xr-background-color);\n",
       "  padding-right: 10px;\n",
       "}\n",
       "\n",
       ".xr-attrs dd {\n",
       "  grid-column: 2;\n",
       "  white-space: pre-wrap;\n",
       "  word-break: break-all;\n",
       "}\n",
       "\n",
       ".xr-icon-database,\n",
       ".xr-icon-file-text2,\n",
       ".xr-no-icon {\n",
       "  display: inline-block;\n",
       "  vertical-align: middle;\n",
       "  width: 1em;\n",
       "  height: 1.5em !important;\n",
       "  stroke-width: 0;\n",
       "  stroke: currentColor;\n",
       "  fill: currentColor;\n",
       "}\n",
       "</style><pre class='xr-text-repr-fallback'>&lt;xarray.DataArray (y: 1, x: 4320, doy: 365)&gt;\n",
       "array([[[nan, nan, nan, ..., nan, nan, nan],\n",
       "        [nan, nan, nan, ..., nan, nan, nan],\n",
       "        [nan, nan, nan, ..., nan, nan, nan],\n",
       "        ...,\n",
       "        [nan, nan, nan, ..., nan, nan, nan],\n",
       "        [nan, nan, nan, ..., nan, nan, nan],\n",
       "        [nan, nan, nan, ..., nan, nan, nan]]], dtype=float16)\n",
       "Coordinates:\n",
       "  * y        (y) float32 89.96\n",
       "  * x        (x) float32 -180.0 -179.9 -179.8 -179.7 ... 179.7 179.8 179.9 180.0\n",
       "  * doy      (doy) int32 1 2 3 4 5 6 7 8 9 ... 358 359 360 361 362 363 364 365</pre><div class='xr-wrap' style='display:none'><div class='xr-header'><div class='xr-obj-type'>xarray.DataArray</div><div class='xr-array-name'></div><ul class='xr-dim-list'><li><span class='xr-has-index'>y</span>: 1</li><li><span class='xr-has-index'>x</span>: 4320</li><li><span class='xr-has-index'>doy</span>: 365</li></ul></div><ul class='xr-sections'><li class='xr-section-item'><div class='xr-array-wrap'><input id='section-5da73e14-0c79-485e-8e2b-6525ab5fe74f' class='xr-array-in' type='checkbox' checked><label for='section-5da73e14-0c79-485e-8e2b-6525ab5fe74f' title='Show/hide data repr'><svg class='icon xr-icon-database'><use xlink:href='#icon-database'></use></svg></label><div class='xr-array-preview xr-preview'><span>nan nan nan nan nan nan nan nan ... nan nan nan nan nan nan nan nan</span></div><div class='xr-array-data'><pre>array([[[nan, nan, nan, ..., nan, nan, nan],\n",
       "        [nan, nan, nan, ..., nan, nan, nan],\n",
       "        [nan, nan, nan, ..., nan, nan, nan],\n",
       "        ...,\n",
       "        [nan, nan, nan, ..., nan, nan, nan],\n",
       "        [nan, nan, nan, ..., nan, nan, nan],\n",
       "        [nan, nan, nan, ..., nan, nan, nan]]], dtype=float16)</pre></div></div></li><li class='xr-section-item'><input id='section-aac04098-42d6-4e59-9b6c-ee451a38d63a' class='xr-section-summary-in' type='checkbox'  checked><label for='section-aac04098-42d6-4e59-9b6c-ee451a38d63a' class='xr-section-summary' >Coordinates: <span>(3)</span></label><div class='xr-section-inline-details'></div><div class='xr-section-details'><ul class='xr-var-list'><li class='xr-var-item'><div class='xr-var-name'><span class='xr-has-index'>y</span></div><div class='xr-var-dims'>(y)</div><div class='xr-var-dtype'>float32</div><div class='xr-var-preview xr-preview'>89.96</div><input id='attrs-6c3060d4-2584-4ae3-a63d-8d5bba49e64d' class='xr-var-attrs-in' type='checkbox' disabled><label for='attrs-6c3060d4-2584-4ae3-a63d-8d5bba49e64d' title='Show/Hide attributes'><svg class='icon xr-icon-file-text2'><use xlink:href='#icon-file-text2'></use></svg></label><input id='data-1369ea10-9e6a-458e-9d78-aa046d390354' class='xr-var-data-in' type='checkbox'><label for='data-1369ea10-9e6a-458e-9d78-aa046d390354' title='Show/Hide data repr'><svg class='icon xr-icon-database'><use xlink:href='#icon-database'></use></svg></label><div class='xr-var-attrs'><dl class='xr-attrs'></dl></div><div class='xr-var-data'><pre>array([89.958336], dtype=float32)</pre></div></li><li class='xr-var-item'><div class='xr-var-name'><span class='xr-has-index'>x</span></div><div class='xr-var-dims'>(x)</div><div class='xr-var-dtype'>float32</div><div class='xr-var-preview xr-preview'>-180.0 -179.9 ... 179.9 180.0</div><input id='attrs-afb9ce6a-f44c-4cab-860b-eb3004a6e06c' class='xr-var-attrs-in' type='checkbox' disabled><label for='attrs-afb9ce6a-f44c-4cab-860b-eb3004a6e06c' title='Show/Hide attributes'><svg class='icon xr-icon-file-text2'><use xlink:href='#icon-file-text2'></use></svg></label><input id='data-50d3a4a6-b8cc-4b34-be92-144e061232df' class='xr-var-data-in' type='checkbox'><label for='data-50d3a4a6-b8cc-4b34-be92-144e061232df' title='Show/Hide data repr'><svg class='icon xr-icon-database'><use xlink:href='#icon-database'></use></svg></label><div class='xr-var-attrs'><dl class='xr-attrs'></dl></div><div class='xr-var-data'><pre>array([-179.95833, -179.875  , -179.79167, ...,  179.79167,  179.875  ,\n",
       "        179.95833], dtype=float32)</pre></div></li><li class='xr-var-item'><div class='xr-var-name'><span class='xr-has-index'>doy</span></div><div class='xr-var-dims'>(doy)</div><div class='xr-var-dtype'>int32</div><div class='xr-var-preview xr-preview'>1 2 3 4 5 6 ... 361 362 363 364 365</div><input id='attrs-d09948b9-f27b-4869-8ec2-dc502d08a075' class='xr-var-attrs-in' type='checkbox' disabled><label for='attrs-d09948b9-f27b-4869-8ec2-dc502d08a075' title='Show/Hide attributes'><svg class='icon xr-icon-file-text2'><use xlink:href='#icon-file-text2'></use></svg></label><input id='data-a6f7c352-a02d-468a-bac3-19a347bae66f' class='xr-var-data-in' type='checkbox'><label for='data-a6f7c352-a02d-468a-bac3-19a347bae66f' title='Show/Hide data repr'><svg class='icon xr-icon-database'><use xlink:href='#icon-database'></use></svg></label><div class='xr-var-attrs'><dl class='xr-attrs'></dl></div><div class='xr-var-data'><pre>array([  1,   2,   3, ..., 363, 364, 365], dtype=int32)</pre></div></li></ul></div></li><li class='xr-section-item'><input id='section-7d203179-516c-46d6-b4e6-fefc050721d5' class='xr-section-summary-in' type='checkbox'  ><label for='section-7d203179-516c-46d6-b4e6-fefc050721d5' class='xr-section-summary' >Indexes: <span>(3)</span></label><div class='xr-section-inline-details'></div><div class='xr-section-details'><ul class='xr-var-list'><li class='xr-var-item'><div class='xr-index-name'><div>y</div></div><div class='xr-index-preview'>PandasIndex</div><div></div><input id='index-c068882b-ad89-4dce-85f9-5c4363483ea6' class='xr-index-data-in' type='checkbox'/><label for='index-c068882b-ad89-4dce-85f9-5c4363483ea6' title='Show/Hide index repr'><svg class='icon xr-icon-database'><use xlink:href='#icon-database'></use></svg></label><div class='xr-index-data'><pre>PandasIndex(Index([89.958336], dtype=&#x27;float32&#x27;, name=&#x27;y&#x27;))</pre></div></li><li class='xr-var-item'><div class='xr-index-name'><div>x</div></div><div class='xr-index-preview'>PandasIndex</div><div></div><input id='index-c9651bc5-0b70-449e-8b6e-ccba4d696212' class='xr-index-data-in' type='checkbox'/><label for='index-c9651bc5-0b70-449e-8b6e-ccba4d696212' title='Show/Hide index repr'><svg class='icon xr-icon-database'><use xlink:href='#icon-database'></use></svg></label><div class='xr-index-data'><pre>PandasIndex(Index([-179.9583282470703,           -179.875, -179.7916717529297,\n",
       "       -179.7083282470703,           -179.625, -179.5416717529297,\n",
       "       -179.4583282470703,           -179.375, -179.2916717529297,\n",
       "       -179.2083282470703,\n",
       "       ...\n",
       "        179.2083282470703,  179.2916717529297,            179.375,\n",
       "        179.4583282470703,  179.5416717529297,            179.625,\n",
       "        179.7083282470703,  179.7916717529297,            179.875,\n",
       "        179.9583282470703],\n",
       "      dtype=&#x27;float32&#x27;, name=&#x27;x&#x27;, length=4320))</pre></div></li><li class='xr-var-item'><div class='xr-index-name'><div>doy</div></div><div class='xr-index-preview'>PandasIndex</div><div></div><input id='index-a026d0ab-ae14-4847-a8e7-2af6335c6fb6' class='xr-index-data-in' type='checkbox'/><label for='index-a026d0ab-ae14-4847-a8e7-2af6335c6fb6' title='Show/Hide index repr'><svg class='icon xr-icon-database'><use xlink:href='#icon-database'></use></svg></label><div class='xr-index-data'><pre>PandasIndex(Index([  1,   2,   3,   4,   5,   6,   7,   8,   9,  10,\n",
       "       ...\n",
       "       356, 357, 358, 359, 360, 361, 362, 363, 364, 365],\n",
       "      dtype=&#x27;int32&#x27;, name=&#x27;doy&#x27;, length=365))</pre></div></li></ul></div></li><li class='xr-section-item'><input id='section-8bc65ea8-eb69-40d3-b030-4d9e948b7346' class='xr-section-summary-in' type='checkbox' disabled ><label for='section-8bc65ea8-eb69-40d3-b030-4d9e948b7346' class='xr-section-summary'  title='Expand/collapse section'>Attributes: <span>(0)</span></label><div class='xr-section-inline-details'></div><div class='xr-section-details'><dl class='xr-attrs'></dl></div></li></ul></div></div>"
      ],
      "text/plain": [
       "<xarray.DataArray (y: 1, x: 4320, doy: 365)>\n",
       "array([[[nan, nan, nan, ..., nan, nan, nan],\n",
       "        [nan, nan, nan, ..., nan, nan, nan],\n",
       "        [nan, nan, nan, ..., nan, nan, nan],\n",
       "        ...,\n",
       "        [nan, nan, nan, ..., nan, nan, nan],\n",
       "        [nan, nan, nan, ..., nan, nan, nan],\n",
       "        [nan, nan, nan, ..., nan, nan, nan]]], dtype=float16)\n",
       "Coordinates:\n",
       "  * y        (y) float32 89.96\n",
       "  * x        (x) float32 -180.0 -179.9 -179.8 -179.7 ... 179.7 179.8 179.9 180.0\n",
       "  * doy      (doy) int32 1 2 3 4 5 6 7 8 9 ... 358 359 360 361 362 363 364 365"
      ]
     },
     "execution_count": 42,
     "metadata": {},
     "output_type": "execute_result"
    }
   ],
   "source": [
    "# this statement starts the parallel computing and pulls all the results down into a list of arrays\n",
    "# note: the use of *tasklist means output will be a list len 2160 of arrays, without * the output will be len 1\n",
    "output=dask.compute(*tasklist)\n",
    "output[0]"
   ]
  },
  {
   "cell_type": "code",
   "execution_count": null,
   "metadata": {},
   "outputs": [],
   "source": [
    "bigarr=xr.concat(output,dim='y')\n",
    "bigarr"
   ]
  },
  {
   "cell_type": "markdown",
   "metadata": {},
   "source": [
    "## test running by latitude, but separating out fully missing latitudes"
   ]
  },
  {
   "cell_type": "code",
   "execution_count": null,
   "metadata": {},
   "outputs": [],
   "source": [
    "# delay all our data\n",
    "# data2D=dask.persist(data2D)\n",
    "# ilon=dask.persist(ilon)\n",
    "# xvals=dask.persist(xvals)\n",
    "# doys=dask.persist(doys)"
   ]
  },
  {
   "cell_type": "code",
   "execution_count": null,
   "metadata": {},
   "outputs": [],
   "source": [
    "ind_lists=[]\n",
    "for iy in range(ny):\n",
    "    ind_lists.append(np.where(ilat==iy+1)[0])\n",
    "    \n",
    "ind_lists[0:3]"
   ]
  },
  {
   "cell_type": "code",
   "execution_count": null,
   "metadata": {},
   "outputs": [],
   "source": [
    "import dask.bag as db\n",
    "b=db.from_sequence(ind_lists,npartitions=ny)\n",
    "b"
   ]
  },
  {
   "cell_type": "code",
   "execution_count": null,
   "metadata": {},
   "outputs": [],
   "source": [
    "scattered_data=client.scatter(data2D,broadcast=True)\n",
    "scattered_ind=client.scatter()"
   ]
  },
  {
   "cell_type": "code",
   "execution_count": null,
   "metadata": {},
   "outputs": [],
   "source": [
    "def get_data(indices,data=None,y=None,x=None,t=None):\n",
    "    data_segment=data[indices,:]\n",
    "    return data_segment\n",
    "    "
   ]
  },
  {
   "cell_type": "code",
   "execution_count": null,
   "metadata": {},
   "outputs": [],
   "source": [
    "@dask.delayed\n",
    "def build_full_lat(ixs,data,y,x,t):\n",
    "    arr=xr.DataArray(dims=['y','x','doy'],coords={'y':('y',y),'x':('x',x),'doy':('doy',t)}).astype('float16')\n",
    "    for i,ix in enumerate(ixs):\n",
    "        arr[0:1,ix:ix+1,:]=data[i,:]\n",
    "    \n",
    "    arr=arr.where(arr>-9999)\n",
    "    \n",
    "    return arr"
   ]
  },
  {
   "cell_type": "code",
   "execution_count": null,
   "metadata": {},
   "outputs": [],
   "source": [
    "@dask.delayed\n",
    "def build_empty_lat(y,x,t):\n",
    "    arr=xr.DataArray(dims=['y','x','doy'],coords={'y':('y',y),'x':('x',x),'doy':('doy',t)}).astype('float16')\n",
    "    return arr"
   ]
  },
  {
   "cell_type": "code",
   "execution_count": null,
   "metadata": {},
   "outputs": [],
   "source": [
    "tasklist=[]\n",
    "for iy in range(ny):\n",
    "    indices=np.where(ilat==iy+1)[0] # find which data rows apply to this latitude\n",
    "    if np.any(indices):\n",
    "        result=build_full_lat((ilon[indices]-1),data2D[indices,:],yvals[iy:iy+1],xvals,doys) # lazy func call\n",
    "        tasklist.append(result) # collect list of resulting arrays\n",
    "    else:\n",
    "        result=build_empty_lat(yvals[iy:iy+1],xvals,doys)\n",
    "        tasklist.append(result)"
   ]
  },
  {
   "cell_type": "code",
   "execution_count": null,
   "metadata": {},
   "outputs": [],
   "source": [
    "# progress=progress()\n",
    "# pbar.register()\n",
    "\n",
    "len(tasklist)"
   ]
  },
  {
   "cell_type": "code",
   "execution_count": null,
   "metadata": {},
   "outputs": [],
   "source": [
    "# # delay all our data\n",
    "# data2D=dask.delayed(data2D)\n",
    "# ilon=dask.delayed(ilon)\n",
    "# xvals=dask.delayed(xvals)\n",
    "# doys=dask.delayed(doys)"
   ]
  },
  {
   "cell_type": "code",
   "execution_count": null,
   "metadata": {},
   "outputs": [],
   "source": [
    "# remote_data=client.scatter([data2D,ilon,xvals,doys],broadcast=True)"
   ]
  },
  {
   "cell_type": "code",
   "execution_count": null,
   "metadata": {},
   "outputs": [],
   "source": [
    "lon_arrlist=[]\n",
    "data_arrlist=[]\n",
    "yvals_arrlist=[]\n",
    "xvals_arrlist=[]\n",
    "doys_arrlist=[]\n",
    "\n",
    "for iy in range(ny):\n",
    "    indices=np.where(ilat==iy+1)[0]\n",
    "    lon_arrlist.append(ilon[indices]-1)\n",
    "    data_arrlist.append(data2D[indices,:])\n",
    "    yvals_arrlist.append(yvals[iy:iy+1])\n",
    "    xvals_arrlist.append(xvals)\n",
    "    doys_arrlist.append(doys)\n",
    "    \n",
    "    \n",
    "lon_arrlist[0:5]    \n",
    "    "
   ]
  },
  {
   "cell_type": "code",
   "execution_count": null,
   "metadata": {},
   "outputs": [],
   "source": [
    "lon_arrlist[0],data_arrlist[0],yvals_arrlist[0],xvals_arrlist[0],doys_arrlist[0]\n"
   ]
  },
  {
   "cell_type": "code",
   "execution_count": null,
   "metadata": {},
   "outputs": [],
   "source": [
    "doys_arrlist[0].size*doys_arrlist[0].itemsize*1E-6"
   ]
  },
  {
   "cell_type": "code",
   "execution_count": null,
   "metadata": {},
   "outputs": [],
   "source": [
    "\n",
    "data_inputs=[lon_arrlist,data_arrlist,yvals_arrlist,xvals_arrlist,doys_arrlist]\n",
    "\n",
    "totalsize=0\n",
    "for dataset in data_inputs:\n",
    "    dsize=0\n",
    "    for d in dataset:\n",
    "        dsize=dsize+d.size*d.itemsize*1E-6\n",
    "    totalsize=totalsize+dsize\n",
    "    print(dsize)\n",
    "print('total =',totalsize,'MB')\n",
    "    \n",
    "# doys_arrlist[0].size*doys_arrlist[0].itemsize*1E-6"
   ]
  },
  {
   "cell_type": "code",
   "execution_count": null,
   "metadata": {},
   "outputs": [],
   "source": [
    "arr_on_worker=xr.DataArray(dims=['y','x','doy'],coords={'y':('y',yvals[0:1]),'x':('x',xvals),'doy':('doy',doys)}).astype('float16')\n",
    "arr_on_worker.nbytes*1E-6"
   ]
  },
  {
   "cell_type": "code",
   "execution_count": null,
   "metadata": {},
   "outputs": [],
   "source": [
    "scattered_data=client.scatter([lon_arrlist,data_arrlist,yvals_arrlist,xvals_arrlist,doys_arrlist])\n",
    "# remote_data=client.scatter([xvals,doys],broadcast=True)"
   ]
  },
  {
   "cell_type": "code",
   "execution_count": null,
   "metadata": {},
   "outputs": [],
   "source": [
    "scattered_data"
   ]
  },
  {
   "cell_type": "code",
   "execution_count": null,
   "metadata": {},
   "outputs": [],
   "source": [
    "def build_global_data(ixs,data,y,x,t):\n",
    "    \n",
    "    arr=xr.DataArray(dims=['y','x','doy'],coords={'y':('y',y),'x':('x',x),'doy':('doy',t)}).astype('float16')\n",
    "\n",
    "    if np.any(ixs):\n",
    "        for i,ix in enumerate(ixs):\n",
    "                arr[0:1,ix:ix+1,:]=data[i,:]\n",
    "\n",
    "        arr=arr.where(arr>-9999)    \n",
    "\n",
    "    return arr"
   ]
  },
  {
   "cell_type": "code",
   "execution_count": null,
   "metadata": {},
   "outputs": [],
   "source": [
    "scattered_lon=client.scatter(lon_arrlist)\n",
    "scattered_data=client.scatter(data_arrlist)\n",
    "scattered_yvals=client.scatter(yvals_arrlist)\n",
    "scattered_xvals=client.scatter(xvals_arrlist)\n",
    "scattered_doys=client.scatter(doys_arrlist)\n"
   ]
  },
  {
   "cell_type": "code",
   "execution_count": null,
   "metadata": {},
   "outputs": [],
   "source": [
    "scattered_lon=client.scatter(lon_arrlist)\n"
   ]
  },
  {
   "cell_type": "code",
   "execution_count": null,
   "metadata": {},
   "outputs": [],
   "source": [
    "scattered_data=client.scatter(data_arrlist)\n"
   ]
  },
  {
   "cell_type": "code",
   "execution_count": null,
   "metadata": {},
   "outputs": [],
   "source": [
    "scattered_yvals=client.scatter(yvals_arrlist)\n",
    "# scattered_yvals=client.scatter(yvals,broadcast=True)"
   ]
  },
  {
   "cell_type": "code",
   "execution_count": null,
   "metadata": {},
   "outputs": [],
   "source": [
    "scattered_xvals=client.scatter(xvals_arrlist)\n",
    "# scattered_xvals=client.scatter(xvals,broadcast=True)"
   ]
  },
  {
   "cell_type": "code",
   "execution_count": null,
   "metadata": {},
   "outputs": [],
   "source": [
    "scattered_doys=client.scatter(doys_arrlist)\n",
    "# scattered_doys=client.scatter(doys,broadcast=True)"
   ]
  },
  {
   "cell_type": "code",
   "execution_count": null,
   "metadata": {},
   "outputs": [],
   "source": [
    "# futures=client.map(build_global_data,scattered_data[:][0])\n",
    "futures=client.map(build_global_data,scattered_lon,scattered_data,scattered_yvals,scattered_xvals,scattered_doys)\n",
    "output=client.gather(futures)\n",
    "output[0]"
   ]
  },
  {
   "cell_type": "code",
   "execution_count": null,
   "metadata": {},
   "outputs": [],
   "source": [
    "futures=client.map(build_global_data,lon_arrlist,data_arrlist,yvals_arrlist,xvals_arrlist,doys_arrlist)\n",
    "output=client.gather(futures)\n",
    "output[0]"
   ]
  },
  {
   "cell_type": "code",
   "execution_count": null,
   "metadata": {},
   "outputs": [],
   "source": []
  },
  {
   "cell_type": "code",
   "execution_count": null,
   "metadata": {},
   "outputs": [],
   "source": [
    "@dask.delayed\n",
    "def build_full_lat(indices,ilon,data2D,y,x,t):\n",
    "    \n",
    "#     data=data2D[0]\n",
    "#     data=data[indices,:]\n",
    "    data=data2D[indices,:]\n",
    "    \n",
    "#     ixs=ilon[0]\n",
    "#     ixs=ixs[indices]-1\n",
    "    ixs=ilon[indices]-1\n",
    "    \n",
    "#     x=x[0]\n",
    "#     t=t[0]\n",
    "        \n",
    "    arr=xr.DataArray(dims=['y','x','doy'],coords={'y':('y',y),'x':('x',x),'doy':('doy',t)}).astype('float16')\n",
    "    for i,ix in enumerate(ixs):\n",
    "        arr[0:1,ix:ix+1,:]=data[i,:]\n",
    "    \n",
    "    arr=arr.where(arr>-9999)\n",
    "    \n",
    "    return arr"
   ]
  },
  {
   "cell_type": "code",
   "execution_count": null,
   "metadata": {},
   "outputs": [],
   "source": [
    "@dask.delayed\n",
    "def build_empty_lat(y,x,t):\n",
    "#     x=x[0]\n",
    "#     t=t[0]\n",
    "    arr=xr.DataArray(dims=['y','x','doy'],coords={'y':('y',y),'x':('x',x),'doy':('doy',t)}).astype('float16')\n",
    "    return arr"
   ]
  },
  {
   "cell_type": "code",
   "execution_count": null,
   "metadata": {},
   "outputs": [],
   "source": [
    "def build_global_data(ilat,ilon,data2D,yvals,xvals,doys):\n",
    "    tasklist=[]\n",
    "    for iy in range(yvals.shape[0]):\n",
    "        indices=np.where(ilat==iy+1)[0] # find which data rows apply to this latitude\n",
    "        if np.any(indices):\n",
    "#             result=build_full_lat((ilon[indices]-1),data2D[indices,:],yvals[iy:iy+1],xvals,doys) # lazy func call\n",
    "            result=build_full_lat(indices,ilon,data2D,yvals[iy:iy+1],xvals,doys) # lazy func call\n",
    "            output.append(result) # collect list of resulting arrays\n",
    "        else:\n",
    "            result=build_empty_lat(yvals[iy:iy+1],xvals,doys)\n",
    "            output.append(result)\n",
    "\n",
    "#     arr=xr.concat(output,dim='y')\n",
    "#     return arr\n",
    "    return tasklist"
   ]
  },
  {
   "cell_type": "code",
   "execution_count": null,
   "metadata": {},
   "outputs": [],
   "source": [
    "tasklist=[]\n",
    "for iy in range(ny):\n",
    "    indices=np.where(ilat==iy+1)[0] # find which data rows apply to this latitude\n",
    "    if np.any(indices):\n",
    "        result=build_full_lat(indices,ilon,data2D,yvals[iy:iy+1],xvals,doys) # lazy func call\n",
    "        tasklist.append(result) # collect list of resulting arrays\n",
    "    else:\n",
    "        result=build_empty_lat(yvals[iy:iy+1],xvals,doys)\n",
    "        tasklist.append(result)"
   ]
  },
  {
   "cell_type": "code",
   "execution_count": null,
   "metadata": {},
   "outputs": [],
   "source": [
    "len(tasklist)"
   ]
  },
  {
   "cell_type": "code",
   "execution_count": null,
   "metadata": {},
   "outputs": [],
   "source": [
    "# tasklist=dask.persist(tasklist)\n",
    "# output=dask.compute(*tasklist)\n",
    "# output[0]\n",
    "\n",
    "# output=dask.persist(*tasklist)\n",
    "# output[0]\n",
    "\n",
    "# output=dask.persist(*tasklist)\n",
    "# output=dask.compute(*output)\n",
    "# output[0]\n",
    "\n",
    "output=dask.compute(*tasklist)\n",
    "output[0]"
   ]
  },
  {
   "cell_type": "code",
   "execution_count": null,
   "metadata": {},
   "outputs": [],
   "source": [
    "# bigarr=xr.concat(output,dim='y')\n",
    "# bigarr"
   ]
  },
  {
   "cell_type": "code",
   "execution_count": null,
   "metadata": {},
   "outputs": [],
   "source": [
    "bigarr=xr.concat(output,dim='y')\n",
    "bigarr"
   ]
  },
  {
   "cell_type": "code",
   "execution_count": null,
   "metadata": {},
   "outputs": [],
   "source": [
    "dask.visualize(tasklist[0])"
   ]
  },
  {
   "cell_type": "code",
   "execution_count": null,
   "metadata": {},
   "outputs": [],
   "source": []
  },
  {
   "cell_type": "code",
   "execution_count": null,
   "metadata": {},
   "outputs": [],
   "source": []
  },
  {
   "cell_type": "code",
   "execution_count": null,
   "metadata": {},
   "outputs": [],
   "source": [
    "bigarr=dask.delayed(xr.concat)(output,dim='y')\n",
    "bigarr=bigarr.compute()\n",
    "bigarr"
   ]
  },
  {
   "cell_type": "code",
   "execution_count": null,
   "metadata": {},
   "outputs": [],
   "source": [
    "tasklist=build_global_data(ilat,ilon,data2D,yvals,xvals,doys,'float16')\n",
    "tasklist[0:5]"
   ]
  },
  {
   "cell_type": "code",
   "execution_count": null,
   "metadata": {},
   "outputs": [],
   "source": [
    "output=dask.compute(tasklist)\n",
    "output[0]"
   ]
  },
  {
   "cell_type": "code",
   "execution_count": null,
   "metadata": {},
   "outputs": [],
   "source": []
  },
  {
   "cell_type": "code",
   "execution_count": null,
   "metadata": {},
   "outputs": [],
   "source": []
  },
  {
   "cell_type": "code",
   "execution_count": null,
   "metadata": {},
   "outputs": [],
   "source": [
    "test=xr.concat(output,dim='y')\n",
    "test"
   ]
  },
  {
   "cell_type": "code",
   "execution_count": null,
   "metadata": {},
   "outputs": [],
   "source": [
    "bigarr=dask.delayed(xr.concat)(output,dim='y')"
   ]
  },
  {
   "cell_type": "code",
   "execution_count": null,
   "metadata": {},
   "outputs": [],
   "source": [
    "# create a long list of parallel tasks\n",
    "bigtasks=build_global_data(ilat,ilon,data2D,yvals,xvals,doys,'int16')\n",
    "bigtasks[0]"
   ]
  },
  {
   "cell_type": "code",
   "execution_count": null,
   "metadata": {},
   "outputs": [],
   "source": [
    "# execute all tasks in parallel\n",
    "biglist=dask.compute(bigtasks)\n",
    "biglist[0]"
   ]
  },
  {
   "cell_type": "code",
   "execution_count": null,
   "metadata": {},
   "outputs": [],
   "source": []
  },
  {
   "cell_type": "code",
   "execution_count": null,
   "metadata": {},
   "outputs": [],
   "source": [
    "bigtasks=dask.delayed(build_global_data)(ilat,ilon,data2D,yvals,xvals,doys,'int16')"
   ]
  },
  {
   "cell_type": "code",
   "execution_count": null,
   "metadata": {},
   "outputs": [],
   "source": []
  },
  {
   "cell_type": "code",
   "execution_count": null,
   "metadata": {},
   "outputs": [],
   "source": [
    "bigtasks"
   ]
  },
  {
   "cell_type": "code",
   "execution_count": null,
   "metadata": {},
   "outputs": [],
   "source": [
    "bigarr=bigtasks.compute()\n",
    "bigarr"
   ]
  },
  {
   "cell_type": "code",
   "execution_count": null,
   "metadata": {},
   "outputs": [],
   "source": [
    "output=[]\n",
    "for iy in range(ny):\n",
    "    indices=np.where(ilat==iy+1) # find which data rows apply to this latitude\n",
    "    if np.any(indices):\n",
    "        result=dask.delayed(build_full_lat)((ilon[indices]-1),data2D[indices,:][0,:,:],yvals[iy:iy+1],xvals,doys,'int16') # lazy func call\n",
    "        output.append(result) # collect list of resulting arrays\n",
    "    else:\n",
    "        result=dask.delayed(build_empty_lat)(yvals[iy:iy+1],xvals,doys,'int16')\n",
    "        output.append(result)"
   ]
  },
  {
   "cell_type": "code",
   "execution_count": null,
   "metadata": {},
   "outputs": [],
   "source": [
    "vars=[ilat,ilon,data2D,yvals,xvals,doys]\n",
    "\n",
    "sizes=[]\n",
    "for var in vars:\n",
    "    varsize=var.size*var.itemsize*b_to_mb\n",
    "    print(varsize)\n",
    "    sizes.append(varsize)\n",
    "\n",
    "print(\"total size = \",sum(sizes),'MB')\n",
    "\n"
   ]
  },
  {
   "cell_type": "code",
   "execution_count": null,
   "metadata": {},
   "outputs": [],
   "source": [
    "b_to_mb=1E-6\n",
    "\n",
    "iy=100\n",
    "indices=np.where(ilat==iy+1) # returns a tuple\n",
    "lon_input=ilon[indices]-1\n",
    "data_input=data2D[indices,:][0,:,:]\n",
    "y_input=yvals[iy:iy+1]\n",
    "x_input=xvals\n",
    "t_input=doys\n",
    "arr_worker=xr.DataArray(dims=['y','x','doy'],coords={'y':('y',y_input),'x':('x',x_input),'doy':('doy',t_input)}).astype(np.int16)\n",
    "\n",
    "vars=[lon_input,data_input,y_input,x_input,t_input]\n",
    "\n",
    "sizes=[]\n",
    "for var in vars:\n",
    "    varsize=var.size*var.itemsize*b_to_mb\n",
    "    print(varsize)\n",
    "    sizes.append(varsize)\n",
    "\n",
    "print(arr_worker.nbytes*b_to_mb)\n",
    "print(\"total size = \",sum(sizes),'MB')"
   ]
  },
  {
   "cell_type": "code",
   "execution_count": null,
   "metadata": {},
   "outputs": [],
   "source": []
  },
  {
   "cell_type": "code",
   "execution_count": null,
   "metadata": {},
   "outputs": [],
   "source": []
  },
  {
   "cell_type": "code",
   "execution_count": null,
   "metadata": {},
   "outputs": [],
   "source": []
  },
  {
   "cell_type": "code",
   "execution_count": null,
   "metadata": {},
   "outputs": [],
   "source": [
    "# this takes 7.5 min on 20 cores with automated dask\n",
    "# this takes xx min on 20 cores with distributed client\n",
    "bigarr=dask.delayed(xr.concat)(output,dim='y') # lazy concatenate all the results together\n",
    "bigdata=bigarr.compute() # now execute everything"
   ]
  },
  {
   "cell_type": "code",
   "execution_count": null,
   "metadata": {},
   "outputs": [],
   "source": [
    "bigdata.name='prcp'\n",
    "bigdata"
   ]
  },
  {
   "cell_type": "markdown",
   "metadata": {},
   "source": [
    "## test running by longitude (more tasks), separating out fully missing longitudes"
   ]
  },
  {
   "cell_type": "code",
   "execution_count": null,
   "metadata": {},
   "outputs": [],
   "source": [
    "def build_full_lon(iys,data,y,x,t,dtype):\n",
    "    arr=xr.DataArray(dims=['y','x','doy'],coords={'y':('y',y),'x':('x',x),'doy':('doy',t)}).astype(dtype)\n",
    "    for i,iy in enumerate(iys):\n",
    "        arr[iy:iy+1,0:1,:]=data[i,:]\n",
    "    \n",
    "    arr=arr.where(arr>-9999)\n",
    "    \n",
    "    return arr"
   ]
  },
  {
   "cell_type": "code",
   "execution_count": null,
   "metadata": {},
   "outputs": [],
   "source": [
    "def build_empty_lon(y,x,t,dtype):\n",
    "    arr=xr.DataArray(dims=['y','x','doy'],coords={'y':('y',y),'x':('x',x),'doy':('doy',t)}).astype(dtype)\n",
    "    return arr"
   ]
  },
  {
   "cell_type": "code",
   "execution_count": null,
   "metadata": {},
   "outputs": [],
   "source": [
    "output=[]\n",
    "for ix in range(nx):\n",
    "    indices=np.where(ilon==ix+1) # find which data rows apply to this latitude\n",
    "    if np.any(indices):\n",
    "        result=dask.delayed(build_full_lon)((ilat[indices]-1),data2D[indices,:][0,:,:],yvals,xvals[ix:ix+1],doys,'float32') # lazy func call\n",
    "        output.append(result) # collect list of resulting arrays\n",
    "    else:\n",
    "        result=dask.delayed(build_empty_lon)(yvals,xvals[ix:ix+1],doys,'float32')\n",
    "        output.append(result)"
   ]
  },
  {
   "cell_type": "code",
   "execution_count": null,
   "metadata": {},
   "outputs": [],
   "source": [
    "# this takes 8 min on 20 cores\n",
    "bigarr=dask.delayed(xr.concat)(output,dim='x') # lazy concatenate all the results together\n",
    "bigdata=bigarr.compute() # now execute everything"
   ]
  },
  {
   "cell_type": "markdown",
   "metadata": {},
   "source": [
    "## running by latitude"
   ]
  },
  {
   "cell_type": "code",
   "execution_count": null,
   "metadata": {},
   "outputs": [],
   "source": [
    "# build a chunk of global data array by filling cells with data or nan where there is not data\n",
    "# the chunk is 1 latitude, all longitudes, all times\n",
    "# also replace the -9999 fill value with nan\n",
    "def build_global_data(ixs,data,xrchunk):\n",
    "    for i,ix in enumerate(ixs):\n",
    "        xrchunk[0:1,ix:ix+1,:]=data[i,:]\n",
    "    \n",
    "    xrchunk=xrchunk.where(xrchunk>-9999)\n",
    "    \n",
    "    return xrchunk\n",
    "    "
   ]
  },
  {
   "cell_type": "code",
   "execution_count": null,
   "metadata": {},
   "outputs": [],
   "source": [
    "# now build a list of lazy compute tasks by call the function for every latitude\n",
    "# note: iy is the zero based index, whereas the indexes written to file from the fortran code are 1 based\n",
    "output=[]\n",
    "for iy in range(ny):\n",
    "    indices=np.where(ilat==iy+1) # find which data rows apply to this latitude\n",
    "    \n",
    "    # send the subset of data (all longitudes and days for 1 latitude at a time) to the build_global_data function\n",
    "    result=dask.delayed(build_global_data)((ilon[indices]-1),data2D[indices,:][0,:,:],empty_arr[iy:iy+1,:,:]) # lazy func call\n",
    "    output.append(result) # collect list of resulting arrays\n"
   ]
  },
  {
   "cell_type": "code",
   "execution_count": null,
   "metadata": {},
   "outputs": [],
   "source": []
  },
  {
   "cell_type": "code",
   "execution_count": null,
   "metadata": {},
   "outputs": [],
   "source": []
  },
  {
   "cell_type": "code",
   "execution_count": null,
   "metadata": {},
   "outputs": [],
   "source": [
    "# this take 9.5min on 20 cores\n",
    "# revised method takes 7.5 min on 20 cores\n",
    "bigarr=dask.delayed(xr.concat)(output,dim='y') # lazy concatenate all the results together\n",
    "# bigarr=dask.delayed(da.concatenate)(output,axis=0)\n",
    "bigdata=bigarr.compute() # now execute everything"
   ]
  },
  {
   "cell_type": "code",
   "execution_count": null,
   "metadata": {},
   "outputs": [],
   "source": [
    "# chunk dataset for writing\n",
    "# bigdata=bigdata.chunk({'y': 160, 'x': 320,'doy':365 })\n",
    "bigdata.name='prcp'\n",
    "bigdata"
   ]
  },
  {
   "cell_type": "code",
   "execution_count": null,
   "metadata": {},
   "outputs": [],
   "source": [
    "# metadata for output data files\n",
    "timeattrs={'standard_name':'doy','long_name':'day of year','axis':'T'}\n",
    "time_encoding={'_FillValue':None}\n",
    "yattrs={'standard_name':'latitude','long_name':'latitude','units':'degrees_north','axis':'Y'}\n",
    "y_encoding={'_FillValue':None}\n",
    "xattrs={'standard_name':'longitude','long_name':'longitude','units':'degrees_east','axis':'X'}\n",
    "x_encoding={'_FillValue':None}"
   ]
  },
  {
   "cell_type": "code",
   "execution_count": null,
   "metadata": {
    "scrolled": true
   },
   "outputs": [],
   "source": [
    "# variable/coordinate metadata\n",
    "varattrs={'standard_name':'prcp','long_name':'precipitation','units':'mm day-1'}\n",
    "bigdata.attrs=varattrs\n",
    "bigdata['y'].attrs=yattrs\n",
    "bigdata['x'].attrs=xattrs\n",
    "bigdata['doy'].attrs=timeattrs\n",
    "bigdata"
   ]
  },
  {
   "cell_type": "code",
   "execution_count": null,
   "metadata": {
    "scrolled": true
   },
   "outputs": [],
   "source": [
    "# testout=bigdata[0:320,0:640,:]\n",
    "# # testout.encoding['zlib']=True\n",
    "# testout.encoding['chunks']=[160,320,365]\n",
    "# testout"
   ]
  },
  {
   "cell_type": "code",
   "execution_count": null,
   "metadata": {},
   "outputs": [],
   "source": [
    "from dask.diagnostics import ProgressBar\n"
   ]
  },
  {
   "cell_type": "code",
   "execution_count": null,
   "metadata": {},
   "outputs": [],
   "source": [
    "del writejob3"
   ]
  },
  {
   "cell_type": "code",
   "execution_count": null,
   "metadata": {},
   "outputs": [],
   "source": [
    "writejob"
   ]
  },
  {
   "cell_type": "code",
   "execution_count": null,
   "metadata": {},
   "outputs": [],
   "source": [
    "writejob=bigdata.to_netcdf(data_dir+'gaez_nc_files/prcp_'+str(year)+'_5m.nc',\n",
    "            encoding={'y':y_encoding,'x':x_encoding,'doy':time_encoding,'prcp':{'zlib':True}},\n",
    "            compute=False)\n",
    "\n",
    "# with ProgressBar():\n",
    "#     print('writing output nc file')\n",
    "#     writejob.compute()"
   ]
  },
  {
   "cell_type": "code",
   "execution_count": null,
   "metadata": {},
   "outputs": [],
   "source": [
    "with ProgressBar():\n",
    "    print('writing output nc file')\n",
    "    writejob.compute()"
   ]
  },
  {
   "cell_type": "code",
   "execution_count": null,
   "metadata": {},
   "outputs": [],
   "source": [
    "np.save(data_dir+'test.npy',bigdata)"
   ]
  },
  {
   "cell_type": "code",
   "execution_count": null,
   "metadata": {},
   "outputs": [],
   "source": [
    "da.to_npy_stack(data_dir+'test_npy/',bigdata,axis=0)"
   ]
  },
  {
   "cell_type": "code",
   "execution_count": null,
   "metadata": {},
   "outputs": [],
   "source": [
    "testtest=np.load(data_dir+'test.npy')\n",
    "testtest"
   ]
  },
  {
   "cell_type": "code",
   "execution_count": null,
   "metadata": {},
   "outputs": [],
   "source": [
    "testtesttest=da.from_npy_stack(data_dir+'test_npy/')\n",
    "testtesttest\n"
   ]
  },
  {
   "cell_type": "code",
   "execution_count": null,
   "metadata": {},
   "outputs": [],
   "source": []
  },
  {
   "cell_type": "code",
   "execution_count": null,
   "metadata": {},
   "outputs": [],
   "source": []
  },
  {
   "cell_type": "code",
   "execution_count": null,
   "metadata": {},
   "outputs": [],
   "source": [
    "print(ilat.min(),ilat.max())\n",
    "print(ilon.min(),ilon.max())"
   ]
  },
  {
   "cell_type": "code",
   "execution_count": null,
   "metadata": {},
   "outputs": [],
   "source": [
    "# gdata=xr.full_like(mask,np.nan).expand_dims({'doy':np.arange(365)+1},2).copy()\n",
    "# gdata=gdata\n",
    "# gdata\n",
    "\n",
    "gdata=da.empty((ny,nx,365),dtype='float32',chunks=(1,nx,365))\n",
    "gdata[:]=np.nan\n",
    "\n",
    "gdata\n"
   ]
  },
  {
   "cell_type": "code",
   "execution_count": null,
   "metadata": {},
   "outputs": [],
   "source": [
    "gdata[0,0,0].compute()"
   ]
  },
  {
   "cell_type": "code",
   "execution_count": null,
   "metadata": {},
   "outputs": [],
   "source": []
  },
  {
   "cell_type": "code",
   "execution_count": null,
   "metadata": {},
   "outputs": [],
   "source": [
    "gdata=gdata.chunk({'y': 1, 'x': 1,'doy':365 })\n",
    "gdata"
   ]
  },
  {
   "cell_type": "code",
   "execution_count": null,
   "metadata": {},
   "outputs": [],
   "source": [
    "dgdata=gdata.to_delayed()\n",
    "dgdata"
   ]
  },
  {
   "cell_type": "code",
   "execution_count": null,
   "metadata": {},
   "outputs": [],
   "source": [
    "data2D=np.loadtxt(data)\n",
    "data2D.shape"
   ]
  },
  {
   "cell_type": "code",
   "execution_count": null,
   "metadata": {},
   "outputs": [],
   "source": [
    "# loop zero based indexes\n",
    "for i,(y,x) in enumerate(zip(ilat,ilon)):\n",
    "    if i%100000==0: print(i)\n",
    "    gdata[y-1,x-1,:]=data2D[i,:]"
   ]
  },
  {
   "cell_type": "raw",
   "metadata": {},
   "source": [
    "client=Client()"
   ]
  },
  {
   "cell_type": "code",
   "execution_count": null,
   "metadata": {},
   "outputs": [],
   "source": [
    "from dask.distributed import Client\n",
    "from dask_jobqueue import SLURMCluster\n",
    "\n",
    "# container='/lustre/project/geospatial_tutorials/wg_2020_ws/data_science_im_rs_vSCINetGeoWS_2020.sif'\n",
    "# env='py_geo'\n",
    "\n",
    "cluster = SLURMCluster(\n",
    "    cores=40,\n",
    "    processes=1,\n",
    "    memory=\"120GB\", #40 cores x 3GB/core\n",
    "    queue=\"short\",\n",
    "    local_directory='$TMPDIR',\n",
    "    walltime=\"00:10:00\",\n",
    "    log_directory=daskpath) "
   ]
  },
  {
   "cell_type": "code",
   "execution_count": null,
   "metadata": {},
   "outputs": [],
   "source": [
    "gdata"
   ]
  },
  {
   "cell_type": "code",
   "execution_count": null,
   "metadata": {},
   "outputs": [],
   "source": [
    "gdata[:,:,0].plot()"
   ]
  },
  {
   "cell_type": "code",
   "execution_count": null,
   "metadata": {},
   "outputs": [],
   "source": [
    "gdata.min(), gdata.max()"
   ]
  },
  {
   "cell_type": "code",
   "execution_count": null,
   "metadata": {},
   "outputs": [],
   "source": [
    "gdata=gdata.chunk({'y': 160, 'x': 320,'doy':365 })\n",
    "gdata"
   ]
  },
  {
   "cell_type": "code",
   "execution_count": null,
   "metadata": {},
   "outputs": [],
   "source": [
    "gdata.chunks\n"
   ]
  },
  {
   "cell_type": "code",
   "execution_count": null,
   "metadata": {},
   "outputs": [],
   "source": [
    "gdata=gdata.where(gdata>-9999.).compute()\n",
    "gdata"
   ]
  },
  {
   "cell_type": "code",
   "execution_count": null,
   "metadata": {},
   "outputs": [],
   "source": [
    "gdata[:,:,0].plot()"
   ]
  },
  {
   "cell_type": "code",
   "execution_count": null,
   "metadata": {},
   "outputs": [],
   "source": [
    "arr=np.array(ilatilon)\n",
    "out=np.char.split(arr)\n",
    "out"
   ]
  },
  {
   "cell_type": "code",
   "execution_count": null,
   "metadata": {},
   "outputs": [],
   "source": [
    "out=np.char.split(arr).astype('integer')"
   ]
  },
  {
   "cell_type": "code",
   "execution_count": null,
   "metadata": {},
   "outputs": [],
   "source": [
    "out"
   ]
  },
  {
   "cell_type": "code",
   "execution_count": null,
   "metadata": {},
   "outputs": [],
   "source": []
  },
  {
   "cell_type": "code",
   "execution_count": null,
   "metadata": {},
   "outputs": [],
   "source": [
    "ilat.shape"
   ]
  },
  {
   "cell_type": "code",
   "execution_count": null,
   "metadata": {},
   "outputs": [],
   "source": []
  }
 ],
 "metadata": {
  "kernelspec": {
   "display_name": "xr-rio-dask",
   "language": "python",
   "name": "xr-rio-dask"
  },
  "language_info": {
   "codemirror_mode": {
    "name": "ipython",
    "version": 3
   },
   "file_extension": ".py",
   "mimetype": "text/x-python",
   "name": "python",
   "nbconvert_exporter": "python",
   "pygments_lexer": "ipython3",
   "version": "3.11.3"
  }
 },
 "nbformat": 4,
 "nbformat_minor": 4
}
