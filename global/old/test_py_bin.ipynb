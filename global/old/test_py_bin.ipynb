{
 "cells": [
  {
   "cell_type": "raw",
   "id": "a86a5cb9-0a43-42a3-bf83-5d7517641a46",
   "metadata": {},
   "source": [
    "workflow\n",
    "\n",
    "read pxv data to array1D with shape (npts)\n",
    "reshape array1D to array2D, shape (npts,ndays)\n",
    "read in mask2D shape (ny,nx)\n",
    "verify npts at each day of array2D is the same as number of points in mask2D equal to 1\n",
    "reshape mask2D to mask1D of shape (nspace=ny*nx)\n",
    "#save a boolean array of where 1D mask \n",
    "drop all nodata points from mask1D and call it mask_drop, shape (npts)\n",
    "create copy of mask_drop and fill it with the first day of array2D\n",
    "do this last step for every day\n"
   ]
  },
  {
   "cell_type": "markdown",
   "id": "6c58e45d-1604-4e97-8178-69827727264d",
   "metadata": {},
   "source": [
    "note: you cannot process srad on it's own. you must process any other variable first. this is because the srad values written to the pxv files span over the fill value used (-9999). so we need to create a mask from a different variable in order to correctly identify which srad grids should be scaled and which are masked grids."
   ]
  },
  {
   "cell_type": "code",
   "execution_count": 1,
   "id": "73521876-ab5a-41f0-8277-33c6a3f26512",
   "metadata": {},
   "outputs": [],
   "source": [
    "import numpy as np\n",
    "from calendar import isleap\n",
    "import xarray as xr\n",
    "import dask.array as da\n",
    "import dask\n",
    "import rioxarray as rio\n",
    "import pandas as pd\n",
    "import os"
   ]
  },
  {
   "cell_type": "code",
   "execution_count": 2,
   "id": "df816bda-1566-4a40-8de1-ba22de8403af",
   "metadata": {},
   "outputs": [],
   "source": [
    "# client.shutdown()"
   ]
  },
  {
   "cell_type": "code",
   "execution_count": 3,
   "id": "f5f2379c-d579-4515-9b8f-34783bd1a78a",
   "metadata": {},
   "outputs": [],
   "source": [
    "# print('importing...')\n",
    "# from dask.distributed import Client,LocalCluster\n",
    "\n",
    "# print('starting client...')\n",
    "# nworkers=20\n",
    "# cluster=LocalCluster(n_workers=nworkers,threads_per_worker=1)#, memory_limit=\"4.5GiB\") # a cluster where each thread is a separate process or \"worker\"\n",
    "# client=Client(cluster)  # connect to your compute cluster\n",
    "# client.wait_for_workers(n_workers=nworkers,timeout=10) # wait up to 10s for the cluster to be fully ready, error if not ready in 10s\n",
    "# client"
   ]
  },
  {
   "cell_type": "code",
   "execution_count": 4,
   "id": "3859e2f6-997e-46bc-b03a-32b8af1237ff",
   "metadata": {},
   "outputs": [],
   "source": [
    "# things we need to know up front from Gunther\n",
    "\n",
    "# 1) global grid ny,nx including Antarctia. this is the shape of the ALOS mask\n",
    "ny_global=2160\n",
    "nx_global=4320\n",
    "\n",
    "# 2) global grid ny,nx excluding Antarctica. ny corresponds to IRmax in Gunther's fortran program\n",
    "ny=1800\n",
    "nx=nx_global\n",
    "\n",
    "# 3) data type of what's inside the pxv files (2 byte int = python np.int16)\n",
    "dtype_d=np.int16   # 2 byte integers for daily data\n",
    "dtype_m=np.float32 # 4 byte floats for monthly data\n",
    "\n",
    "# 4) fill value used in the pxv files\n",
    "fillval_d=-9999   # daily\n",
    "fillval_m=-9999.0 # monthly\n",
    "\n",
    "# 5) total number of data points in the pxv files including points set to the fillval\n",
    "npts=2295358\n",
    "\n",
    "# 6) total number of data points in the pxv files with valid data values\n",
    "# this is so we can identify which points should be masked and which shouldn't when the data range spans over the fillval\n",
    "# which is a problem for srad\n",
    "npts_valid_d=2287408  # daily files\n",
    "npts_valid_m=2268708  # monthly files\n",
    "\n",
    "# 7) scale factors for putting the data in the pxv files units in the table below\n",
    "# in alphabetical order by variable name \n",
    "scale_factors=[0.0001,1000.,0.01,0.01,0.01,0.001]\n",
    "\n",
    "# Variable\tMonthly data\tDaily deviations/distr.\tScale factor\n",
    "# Precip\t     mm/day\t         %_of_month×100\t       0.0001\n",
    "# Srad\t       J/m2/day\t            kJ/m2/day\t        1000.\n",
    "# Tmax\t         °C\t                 °C×100\t            0.01\n",
    "# Tmin\t         °C\t                 °C×100\t            0.01\n",
    "# Vapr\t         hPa\t                Pa\t            0.01\n",
    "# Wind\t        m/sec\t              mm/sec\t        0.001"
   ]
  },
  {
   "cell_type": "code",
   "execution_count": 5,
   "id": "7da41d15-99ee-4198-a47b-0cb251974dc7",
   "metadata": {},
   "outputs": [],
   "source": [
    "# other constants \n",
    "\n",
    "# pxv things\n",
    "pxv_basedir='/work/hpc/datasets/un_fao/gaez_v5/clim/AgERA5/Hist/'\n",
    "dataset='AgERA5'\n",
    "experiment='Hist'\n",
    "pxvsuf='_5m.pxv'\n",
    "connector='_'\n",
    "dailytag='365'\n",
    "sep='/'\n",
    "pxvdirnames=['prec','srad','tmax','tmin','vapr','wind']\n",
    "varnames=['Precip','Srad','Tmax-2m','Tmin-2m','Vapr','Wind-10m']\n",
    "\n",
    "# raster things\n",
    "maskfile='/work/hpc/datasets/un_fao/gaez_v5/land/ALOSmask5m_fill.rst'\n",
    "ydimname='y'\n",
    "xdimname='x'\n",
    "\n",
    "# output things\n",
    "out_basedir='/work/hpc/datasets/un_fao/pyaez/global_daily/'\n",
    "\n",
    "yyyy=2020\n",
    "varind=0"
   ]
  },
  {
   "cell_type": "markdown",
   "id": "691fb21c-bb6f-4421-9bd2-f61e839427bf",
   "metadata": {},
   "source": [
    "# First, get the mask"
   ]
  },
  {
   "cell_type": "code",
   "execution_count": 6,
   "id": "0b4342e2-7728-4135-bacb-8907a00abd14",
   "metadata": {},
   "outputs": [],
   "source": [
    "### get the mask from the rst into an array of 2 dims (x,y)\n",
    "### and check the mask has the same number of data grids as the pxv data\n",
    "\n",
    "# open the maskfile but don't include antarctica so mask has shape (y:1800,x:4320)\n",
    "ds=xr.open_dataset(maskfile,engine='rasterio').isel(y=slice(0,ny)).squeeze()\n",
    "del ds.coords['band']\n",
    "\n",
    "# clean up some metadata\n",
    "ds[xdimname]=ds[xdimname].astype(np.float32)\n",
    "ds[ydimname]=ds[ydimname].astype(np.float32)\n",
    "mask2D=ds.band_data\n",
    "\n",
    "# # convert to 0 & 1 mask\n",
    "mask2D=xr.where(mask2D>0,1,0).astype('int8')"
   ]
  },
  {
   "cell_type": "markdown",
   "id": "e3894213-6def-4b93-a742-e88e676f6157",
   "metadata": {},
   "source": [
    "# Translate monthly means from PXV to xarray data structures"
   ]
  },
  {
   "cell_type": "code",
   "execution_count": 7,
   "id": "38660368-2599-43a5-b547-29708a3314fe",
   "metadata": {},
   "outputs": [
    {
     "name": "stdout",
     "output_type": "stream",
     "text": [
      "nvalues in pxv file 27544296\n",
      "nmonths in pxv file 12\n",
      "total data points in pxv file 2295358 expecting 2295358\n",
      "total data points in mask file 2295358 expecting 2295358\n",
      "shape of numpy data array (2295358, 12)\n",
      "data min/max values -9999.0 4785.29\n",
      "apply extra mask? False\n"
     ]
    }
   ],
   "source": [
    "pxvfile_m=pxv_basedir+pxvdirnames[varind]+sep+varnames[varind]+connector+dataset+connector+experiment+connector+str(yyyy)+pxvsuf\n",
    "filename=pxvfile_m.split(sep)[-1]\n",
    "\n",
    "nmonths=12\n",
    "\n",
    "# read file to 1D array\n",
    "# monthly files have more data in them than we need so we subset the read with count=\n",
    "with open(pxvfile_m,'rb') as f:\n",
    "    array1D_m=np.fromfile(f,dtype=dtype_m,count=nmonths*npts)\n",
    "\n",
    "# limit precision here?\n",
    "# decs=4\n",
    "# array1D=np.trunc(array1D*10**decs)/(10**decs)\n",
    "\n",
    "# reshape the array to (npoints,ndays)\n",
    "nvals=array1D_m.shape[0]             # total number of data values\n",
    "npts_flt=nvals/nmonths               # number of grid points in the file, float format\n",
    "npts_int=int(nvals/nmonths)              # convert to integer\n",
    "\n",
    "# check that number of grids found in flt and int are equivalent, if not, the file was read incorrectly\n",
    "assert npts_flt*10==float(npts_int*10), f\"reading pxv file {filename} with incorrect number of days: {ndays}\"\n",
    "# check that number of grids found in the file is the number expected, if not, coordinate with Gunther\n",
    "assert npts_int==npts, f\"pxv file {filename} has {npts_int} total data points, expecting {npts} total data points\"\n",
    "print('nvalues in pxv file',nvals)\n",
    "print('nmonths in pxv file',nmonths)\n",
    "print('total data points in pxv file',npts_int,'expecting',npts)\n",
    "\n",
    "# check that number of grids found in pxv file is the same as the number of grids=1 in the mask file\n",
    "npts_mask=int(mask2D.sum().data)\n",
    "print('total data points in mask file', npts_mask,'expecting',npts)\n",
    "assert npts_int==npts_mask, f\"npts in pxv is {npts}, npts in mask is {npts_mask}\"\n",
    "\n",
    "array2D_m=array1D_m.reshape(npts,nmonths) # reshape\n",
    "\n",
    "# find out if data value range spans across the fillvalue\n",
    "# if it does, we'll need to apply an extra mask later\n",
    "flag_m=True if array2D_m.min() < fillval_m else False\n",
    "\n",
    "# check data values\n",
    "print('shape of numpy data array',array2D_m.shape)\n",
    "print('data min/max values',array2D_m.min(),array2D_m.max())\n",
    "print('apply extra mask?',flag_m)"
   ]
  },
  {
   "cell_type": "code",
   "execution_count": 8,
   "id": "81d5b36f-851b-4630-85ff-af40c3aea68e",
   "metadata": {},
   "outputs": [],
   "source": [
    "# # make sure this numpy method reads data exactly the same as the fortran method \n",
    "# temp=open('/work/hpc/datasets/un_fao/gaez_v5_intermediate/dat/Tmax-2m_AgERA5_Hist_2020_5m.dat').read().splitlines() \n",
    "# dat=temp[1::2] # grab the lines with the data (every other line)\n",
    "# data_dat=np.loadtxt(dat,dtype=dtype_m)\n",
    "\n",
    "# decs=3\n",
    "# data_dat=np.trunc(data_dat*10**decs)/(10**decs)\n",
    "# array1D=np.trunc(array1D*10**decs)/(10**decs)\n",
    "\n",
    "# for p in np.arange(data_dat.shape[0]):\n",
    "#     ind1=p*12\n",
    "#     ind2=ind1+12\n",
    "#     unique=np.unique(data_dat[p,:]-array1D[ind1:ind2])\n",
    "#     assert len(unique)==1,f'not equal at index point {p}'"
   ]
  },
  {
   "cell_type": "markdown",
   "id": "4535fbcc-491a-4d2d-8a12-ef45a900ce8e",
   "metadata": {},
   "source": [
    "now we need to match each space point of the pxv data to a grid box on the mask\n",
    "\n",
    "first we need to take each month of pxv data from 2295358 points to the full grid of 7776000 space points in 1D\n",
    "\n",
    "then we need to reshape the 7776000 space points to 2D with shape (y:1800,x:4320)"
   ]
  },
  {
   "cell_type": "code",
   "execution_count": 9,
   "id": "adcf007b-151a-4934-9cd0-f9d0fdff8dbe",
   "metadata": {},
   "outputs": [],
   "source": [
    "mask1D=mask2D.stack(space=[ydimname,xdimname]) # collapse mask to 1D: 1800*4320 = 7776000 points\n",
    "inds_data=mask1D==1  # keep track of which points are not masked out\n",
    "\n",
    "empty1D_m=mask1D.copy().astype(dtype_m)  # placeholder array for 1D space \n",
    "empty1D_m.rio.write_nodata(fillval_m,inplace=True)\n",
    "empty1D_m[:]=fillval_m\n",
    "\n",
    "empty2D_m=mask2D.copy().astype(dtype_m)  # placeholder array for 2D grid \n",
    "empty2D_m.rio.write_nodata(fillval_m,inplace=True)\n",
    "empty2D_m[:,:]=fillval_m"
   ]
  },
  {
   "cell_type": "code",
   "execution_count": 10,
   "id": "12962aba-a4e5-46d9-a739-f9390d8497a1",
   "metadata": {},
   "outputs": [],
   "source": [
    "# function to call with dask delayed\n",
    "def data_to_nd_array(i,inds,arr1D,pxv,arr2D):\n",
    "    arr1D[inds]=pxv.squeeze()  # remove singleton dim (day)\n",
    "    arr2D[:,:]=arr1D.unstack() # put 1D data onto the 2D grid\n",
    "    return arr2D.copy()"
   ]
  },
  {
   "cell_type": "code",
   "execution_count": 11,
   "id": "63851030-001d-4ca0-bbba-14e15eb78eae",
   "metadata": {},
   "outputs": [
    {
     "name": "stdout",
     "output_type": "stream",
     "text": [
      "putting 1D data on a 2D grid...\n",
      "concatenating...\n",
      "adding nans...\n",
      "total number of non-missing data points 2268708 expecting 2268708\n",
      "CPU times: user 3.54 s, sys: 1.05 s, total: 4.59 s\n",
      "Wall time: 4.09 s\n"
     ]
    }
   ],
   "source": [
    "%%time\n",
    "# dask parallel computing \n",
    "\n",
    "# first convert to pxv data to chunked dask array, 1 day per chunk \n",
    "# and save to list of delayed dask objects\n",
    "pxv_delay=da.from_array(array2D_m,chunks=(-1,1)).to_delayed().ravel() \n",
    "\n",
    "# build a list a computational tasks to be executed later\n",
    "task_list=[dask.delayed(data_to_nd_array)(imonth,inds_data,empty1D_m,pxvdata,empty2D_m) for imonth,pxvdata in enumerate(pxv_delay)] \n",
    "assert len(task_list)==nmonths, f'{len(task_list)} tasks in list, should be {nmonths}' # double check we've got 1 task per day of data\n",
    "\n",
    "# execute all computations\n",
    "print('putting 1D data on a 2D grid...')\n",
    "result_chunks_m=dask.compute(*task_list)\n",
    "\n",
    "# concatenate the resulting daily chunks along a new time dimension\n",
    "print('concatenating...')\n",
    "data3D_m=xr.concat(result_chunks_m,dim='time')\n",
    "\n",
    "# replace fillval with nan\n",
    "print('adding nans...')\n",
    "data3D_m=xr.where(data3D_m==fillval_m,np.nan,data3D_m)\n",
    "\n",
    "# check we have the correct number of non-missing data points\n",
    "data_mask_m=xr.where(np.isnan(data3D_m.data),0,1)  \n",
    "ngrids_data_m=int(data_mask_m.sum()/data_mask_m.shape[0])\n",
    "print('total number of non-missing data points',ngrids_data_m,'expecting',npts_valid_m)\n",
    "assert ngrids_data_m==npts_valid_m, f'data mask creation issue. found {ngrids_data_m} valid data points (non missing), expecting {npts_valid_m}' # double check we've got 1 task per day of data"
   ]
  },
  {
   "cell_type": "code",
   "execution_count": 12,
   "id": "7ea82f4c-0a40-4923-8503-3eb014d05f45",
   "metadata": {},
   "outputs": [
    {
     "data": {
      "text/plain": [
       "<matplotlib.collections.QuadMesh at 0x7fe46ceb79d0>"
      ]
     },
     "execution_count": 12,
     "metadata": {},
     "output_type": "execute_result"
    },
    {
     "data": {
      "image/png": "[encoded data removed]",
      "text/plain": [
       "<Figure size 640x480 with 2 Axes>"
      ]
     },
     "metadata": {},
     "output_type": "display_data"
    }
   ],
   "source": [
    "# visual check January\n",
    "data3D_m.isel(time=0).plot()"
   ]
  },
  {
   "cell_type": "markdown",
   "id": "06d9aae1-904e-47bc-a0b8-b3eb930226a1",
   "metadata": {},
   "source": [
    "# Translate daily deviations from PXV to scaled xarray data structures"
   ]
  },
  {
   "cell_type": "code",
   "execution_count": 13,
   "id": "9d3abbb9-b1b3-48c5-82f4-173b66ebf924",
   "metadata": {},
   "outputs": [
    {
     "name": "stdout",
     "output_type": "stream",
     "text": [
      "nvalues in pxv file 840101028\n",
      "ndays in pxv file 366\n",
      "total data points in pxv file 2295358 expecting 2295358\n",
      "total data points in mask file 2295358 expecting 2295358\n",
      "shape of numpy data array (2295358, 366)\n",
      "data min/max values -9999 10000\n",
      "apply extra mask? False\n"
     ]
    }
   ],
   "source": [
    "### get the data from the pxv into an array of 2 dims (space,time)\n",
    "pxvfile=pxv_basedir+pxvdirnames[varind]+sep+varnames[varind]+dailytag+connector+dataset+connector+experiment+connector+str(yyyy)+pxvsuf\n",
    "filename=pxvfile.split(sep)[-1]\n",
    "\n",
    "# read entire file into 1D array\n",
    "with open(pxvfile,'rb') as f:\n",
    "    array1D_d=np.fromfile(f,dtype=dtype_d)\n",
    "    \n",
    "# reshape the array to (npoints,ndays)\n",
    "nvals=array1D_d.shape[0]             # total number of data values\n",
    "ndays=366 if isleap(yyyy) else 365 # number of days of data at each grid point\n",
    "npts_flt=nvals/ndays               # number of grid points in the file, float format\n",
    "npts_int=int(nvals/ndays)              # convert to integer\n",
    "\n",
    "# check that number of grids found in flt and int are equivalent, if not, the file was read incorrectly\n",
    "assert npts_flt*10==float(npts_int*10), f\"reading pxv file {filename} with incorrect number of days: {ndays}\"\n",
    "# check that number of grids found in the file is the number expected, if not, coordinate with Gunther\n",
    "assert npts_int==npts, f\"pxv file {filename} has {npts_int} total data points, expecting {npts} total data points\"\n",
    "print('nvalues in pxv file',nvals)\n",
    "print('ndays in pxv file',ndays)\n",
    "print('total data points in pxv file',npts_int,'expecting',npts)\n",
    "\n",
    "# check that number of grids found in pxv file is the same as the number of grids=1 in the mask file\n",
    "npts_mask=int(mask2D.sum().data)\n",
    "print('total data points in mask file', npts_mask,'expecting',npts)\n",
    "assert npts_int==npts_mask, f\"npts in pxv is {npts}, npts in mask is {npts_mask}\"\n",
    "\n",
    "array2D_d=array1D_d.reshape(npts,ndays) # reshape\n",
    "\n",
    "# find out if data value range spans across the fillvalue\n",
    "# if it does, we'll need to apply an extra mask later\n",
    "flag_d=True if array2D_d.min() < fillval_d else False\n",
    "\n",
    "# check data values\n",
    "print('shape of numpy data array',array2D_d.shape)\n",
    "print('data min/max values',array2D_d.min(),array2D_d.max())\n",
    "print('apply extra mask?',flag_d)\n",
    "# array2D[0,:]   "
   ]
  },
  {
   "cell_type": "code",
   "execution_count": 14,
   "id": "8c92ed9b-d9cf-4a15-994d-fbbea149cc35",
   "metadata": {},
   "outputs": [],
   "source": [
    "# # make sure this numpy method reads data exactly the same as the fortran method \n",
    "# temp=open('/work/hpc/datasets/un_fao/gaez_v5_intermediate/dat/Tmax-2m365_AgERA5_Hist_2020_5m.dat').read().splitlines() \n",
    "# dat=temp[1::2] # grab the lines with the data (every other line)\n",
    "# data_dat=np.loadtxt(dat,dtype='int16')\n",
    "# for p in np.arange(array2D.shape[0]):\n",
    "#     unique=np.unique(data_dat[p,:]-array2D[p,:])\n",
    "#     assert len(unique)==1,f'not equal at index point {p}'"
   ]
  },
  {
   "cell_type": "markdown",
   "id": "05e84f9c-c2d5-4461-a644-5c686c7d6a12",
   "metadata": {},
   "source": [
    "now we need to match each space point of the pxv data to a grid box on the mask\n",
    "\n",
    "first we need to take each day of pxv data from 2295358 points to the full grid of 7776000 space points in 1D\n",
    "\n",
    "then we need to reshape the 7776000 space points to 2D with shape (y:1800,x:4320)"
   ]
  },
  {
   "cell_type": "code",
   "execution_count": 15,
   "id": "a6975a68-f6ac-463b-9ef3-e1368836eeca",
   "metadata": {},
   "outputs": [],
   "source": [
    "mask1D=mask2D.stack(space=[ydimname,xdimname]) # collapse mask to 1D: 1800*4320 = 7776000 points\n",
    "inds_data=mask1D==1  # keep track of which points are not masked out\n",
    "\n",
    "empty1D_d=mask1D.copy().astype(dtype_d)  # placeholder array for 1D space \n",
    "empty1D_d.rio.write_nodata(fillval_d,inplace=True)\n",
    "empty1D_d[:]=fillval_d\n",
    "\n",
    "empty2D_d=mask2D.copy().astype(dtype_d)  # placeholder array for 2D grid \n",
    "empty2D_d.rio.write_nodata(fillval_d,inplace=True)\n",
    "empty2D_d[:,:]=fillval_d"
   ]
  },
  {
   "cell_type": "code",
   "execution_count": 16,
   "id": "c5714dc2-09da-4630-8359-0aaf0888c132",
   "metadata": {},
   "outputs": [],
   "source": [
    "# function to call with dask delayed\n",
    "def data_to_nd_array(i,inds,arr1D,pxv,arr2D):\n",
    "    arr1D[inds]=pxv.squeeze()  # remove singleton dim (day)\n",
    "    arr2D[:,:]=arr1D.unstack() # put 1D data onto the 2D grid\n",
    "    return arr2D.copy()"
   ]
  },
  {
   "cell_type": "code",
   "execution_count": 17,
   "id": "94908edb-910c-4dc5-af9f-980f9b4c3f3b",
   "metadata": {},
   "outputs": [
    {
     "name": "stdout",
     "output_type": "stream",
     "text": [
      "putting 1D data on a 2D grid...\n"
     ]
    },
    {
     "name": "stderr",
     "output_type": "stream",
     "text": [
      "<__array_function__ internals>:200: RuntimeWarning: invalid value encountered in cast\n"
     ]
    },
    {
     "name": "stdout",
     "output_type": "stream",
     "text": [
      "concatenating...\n",
      "CPU times: user 1min 44s, sys: 21.3 s, total: 2min 6s\n",
      "Wall time: 19.7 s\n"
     ]
    }
   ],
   "source": [
    "%%time\n",
    "# dask parallel computing \n",
    "\n",
    "# first convert to pxv data to chunked dask array, 1 day per chunk \n",
    "# and save to list of delayed dask objects\n",
    "pxv_delay=da.from_array(array2D_d,chunks=(-1,1)).to_delayed().ravel() \n",
    "\n",
    "# build a list a computational tasks to be executed later\n",
    "task_list=[dask.delayed(data_to_nd_array)(iday,inds_data,empty1D_d,pxvdata,empty2D_d) for iday,pxvdata in enumerate(pxv_delay)] \n",
    "assert len(task_list)==ndays, f'{len(task_list)} tasks in list, should be {ndays}' # double check we've got 1 task per day of data\n",
    "\n",
    "# execute all computations\n",
    "print('putting 1D data on a 2D grid...')\n",
    "result_chunks_d=dask.compute(*task_list)\n",
    "\n",
    "# concatenate the resulting daily chunks along a new time dimension\n",
    "print('concatenating...')\n",
    "data3D_d=xr.concat(result_chunks_d,dim='time')"
   ]
  },
  {
   "cell_type": "code",
   "execution_count": 18,
   "id": "38b48fab-e903-4ddd-a98d-3efa68fa6d00",
   "metadata": {},
   "outputs": [
    {
     "name": "stdout",
     "output_type": "stream",
     "text": [
      "changing dtype...\n",
      "adding nans...\n",
      "scaling...\n",
      "computing additional mask...\n",
      "total number of non-missing data points 2287408 expecting 2287408\n",
      "CPU times: user 11.1 s, sys: 12 s, total: 23.2 s\n",
      "Wall time: 23.2 s\n"
     ]
    }
   ],
   "source": [
    "%%time\n",
    "# change out the fill value to nans\n",
    "# this is where we need to apply an extra mask if the valid range of the data includes the -9999 fillval\n",
    "# which is the case for srad ************ADD OTHERS HERE************************\n",
    "\n",
    "print('changing dtype...')\n",
    "data3D_d=data3D_d.astype(np.float32)\n",
    "\n",
    "# if valid data range includes fillval\n",
    "if flag_d:\n",
    "    print('processing pxv variable with data values that span over the fillval')\n",
    "    print('scaling...')\n",
    "    data3D_d=data3D_d*scale_factors[varind]    \n",
    "    print('applying additional mask...')\n",
    "    data3D_d=xr.where(data_mask,data3D_d,np.nan)\n",
    "    # verify that the masking worked\n",
    "    valid_arr=np.where(np.isnan(data3D_d.data[15,:,:]),0,1) # pick one day to verify  \n",
    "    nvalid=valid_arr.sum()\n",
    "    print('total number of non-missing data points',nvalid,'expecting',npts_valid_d)\n",
    "    assert nvalid==npts_valid_d, f'data mask application issue. found {nvalid} valid data points (non missing), expecting {npts_valid_d}'    \n",
    "\n",
    "# if valid data range doesn't include fillval\n",
    "else:\n",
    "    print('adding nans...')\n",
    "    data3D_d=xr.where(data3D_d==fillval_d,np.nan,data3D_d)\n",
    "    print('scaling...')\n",
    "    data3D_d=data3D_d*scale_factors[varind]\n",
    "\n",
    "    if varnames[varind] =='Precip':\n",
    "        print('computing additional mask...')\n",
    "        data_mask=xr.where(np.isnan(data3D_d.data),0,1)  \n",
    "        ngrids_data_d=int(data_mask.sum()/data_mask.shape[0])\n",
    "        print('total number of non-missing data points',ngrids_data_d,'expecting',npts_valid_d)\n",
    "        assert ngrids_data_d==npts_valid_d, f'data mask creation issue. found {ngrids_data_d} valid data points (non missing), expecting {npts_valid_d}' # double check we've got 1 task per day of data"
   ]
  },
  {
   "cell_type": "code",
   "execution_count": 19,
   "id": "955c9cb6-a7de-40aa-8067-a9c34dc95897",
   "metadata": {},
   "outputs": [
    {
     "data": {
      "text/plain": [
       "<matplotlib.collections.QuadMesh at 0x7fe46cc72f10>"
      ]
     },
     "execution_count": 19,
     "metadata": {},
     "output_type": "execute_result"
    },
    {
     "data": {
      "image/png": "[encoded data removed]",
      "text/plain": [
       "<Figure size 640x480 with 2 Axes>"
      ]
     },
     "metadata": {},
     "output_type": "display_data"
    }
   ],
   "source": [
    "data3D_d.isel(time=15).plot()"
   ]
  },
  {
   "cell_type": "markdown",
   "id": "6044cdca-d316-4ef9-8e5e-7b18d8b24d70",
   "metadata": {},
   "source": [
    "# Create daily data from monthly means and daily deviations"
   ]
  },
  {
   "cell_type": "code",
   "execution_count": 20,
   "id": "a147c504-6dff-459f-b4bb-e14eab3fed82",
   "metadata": {},
   "outputs": [],
   "source": [
    "chunks={'time':-1,'y':450,'x':2160}\n",
    "# chunks=(-1,450,2160)"
   ]
  },
  {
   "cell_type": "code",
   "execution_count": 21,
   "id": "fe5e2108-77ab-4da8-bb8e-381832c52315",
   "metadata": {},
   "outputs": [],
   "source": [
    "# create a time dimension for monthly and daily data\n",
    "if (yyyy>=1980) & (yyyy<=2024):\n",
    "    time_m=pd.date_range(str(yyyy)+'-01-01',str(yyyy)+'-12-31',freq='MS')\n",
    "    time_d=pd.date_range(str(yyyy)+'-01-01',str(yyyy)+'-12-31',freq='D')\n",
    "else:\n",
    "    time_m=pd.date_range('1900-01-01','1900-12-31',freq='MS')  \n",
    "    time_d=pd.date_range('1900-01-01','1900-12-31',freq='D')  \n",
    "\n",
    "# time_m,time_d"
   ]
  },
  {
   "cell_type": "code",
   "execution_count": 22,
   "id": "2a61035e-926b-4410-ac12-b000670b4c16",
   "metadata": {},
   "outputs": [],
   "source": [
    "# assign time metadata to monthly and daily data\n",
    "data3D_m=data3D_m.assign_coords(time=(\"time\",time_m))\n",
    "data3D_d=data3D_d.assign_coords(time=(\"time\",time_d))"
   ]
  },
  {
   "cell_type": "code",
   "execution_count": 23,
   "id": "ff300716-2d82-4c98-847b-b9ce8cd87c6b",
   "metadata": {},
   "outputs": [],
   "source": [
    "# data3D_m"
   ]
  },
  {
   "cell_type": "code",
   "execution_count": 24,
   "id": "42e3e482-9e60-4a0f-847e-6bf6f071c866",
   "metadata": {},
   "outputs": [],
   "source": [
    "# var_mean=da.from_array(data3D_m,chunks=chunks)\n",
    "# var_daily=da.from_array(data3D_d.data,chunks=chunks)\n",
    "# var_mean=data3D_m.chunk(chunks)\n",
    "# var_prime=data3D_d.chunk(chunks)\n",
    "# var_mean"
   ]
  },
  {
   "cell_type": "code",
   "execution_count": 26,
   "id": "57e15bad-2842-461d-9991-6e3b119cc537",
   "metadata": {},
   "outputs": [
    {
     "name": "stdout",
     "output_type": "stream",
     "text": [
      "computing daily values for Precip\n"
     ]
    }
   ],
   "source": [
    "# var_prime=data3D_d\n",
    "# var_mean=data3D_m\n",
    "\n",
    "\n",
    "\n",
    "if varnames[varind]=='Precip':\n",
    "    print('computing daily values for Precip')\n",
    "    var_acc=data3D_m.chunk(chunks)\n",
    "    var_frac=data3D_d.chunk(chunks)\n",
    "    \n",
    "    var_acc=var_acc.rename({'time':'month'})\n",
    "    months=np.arange(12)+1\n",
    "    var_acc['month']=months\n",
    "    \n",
    "    with dask.config.set(**{'array.slicing.split_large_chunks': False}):\n",
    "        var_daily=var_frac.groupby('time.month')*var_acc  # times here instead of add\n",
    "else:\n",
    "    print('computing daily values for',varnames[varind])\n",
    "    var_mean=data3D_m.chunk(chunks)\n",
    "    var_prime=data3D_d.chunk(chunks)\n",
    "    \n",
    "    var_mean=var_mean.rename({'time':'month'})\n",
    "    months=np.arange(12)+1\n",
    "    var_mean['month']=months\n",
    "        \n",
    "    with dask.config.set(**{'array.slicing.split_large_chunks': False}):\n",
    "        var_daily=var_prime.groupby('time.month') + var_mean\n",
    "    \n",
    "# var_daily"
   ]
  },
  {
   "cell_type": "code",
   "execution_count": 27,
   "id": "24b2a3de-b034-45ef-b669-ba27cc1f5adc",
   "metadata": {},
   "outputs": [],
   "source": [
    "attrs={}\n",
    "newvarname=varnames[varind]\n",
    "if varnames[varind] == 'Srad':\n",
    "    print('changing units to W/m2')\n",
    "    # attrs=ds[varname].attrs\n",
    "    attrs['units']='W/m2'\n",
    "    \n",
    "    # Convert J/m2/day to W/m2\n",
    "    s_per_day=86400\n",
    "    var_daily=var_daily/s_per_day\n",
    "    var_daily.attrs=attrs    \n",
    "    \n",
    "if varnames[varind] == 'Wind-10m':\n",
    "    # interp from 10m to 2m height\n",
    "    print('interpolating wind to 2m')\n",
    "    z=10\n",
    "    z_adjust=4.87/(np.log(67.8*z-5.42))\n",
    "    var_daily=var_daily*z_adjust\n",
    "    \n",
    "    # fix metadata\n",
    "    newvarname='Wind-2m'\n",
    "    attrs={'standard_name':newvarname,'long_name':'2m Wind Speed','units':'m/s'}\n",
    "    # ds=ds.rename({varname:newvarname})\n",
    "    var_daily.attrs=attrs    \n",
    "    # varname=newvarname"
   ]
  },
  {
   "cell_type": "code",
   "execution_count": null,
   "id": "8cacc82c-2e5e-4720-a1ac-baccb56da1a5",
   "metadata": {},
   "outputs": [],
   "source": [
    "var_daily"
   ]
  },
  {
   "cell_type": "code",
   "execution_count": 28,
   "id": "b1b2871b-4b52-4c1e-80cf-102bcba95ecb",
   "metadata": {},
   "outputs": [
    {
     "name": "stdout",
     "output_type": "stream",
     "text": [
      "dropping date 2020-02-29\n"
     ]
    },
    {
     "data": {
      "text/html": [
       "<div><svg style=\"position: absolute; width: 0; height: 0; overflow: hidden\">\n",
       "<defs>\n",
       "<symbol id=\"icon-database\" viewBox=\"0 0 32 32\">\n",
       "<path d=\"M16 0c-8.837 0-16 2.239-16 5v4c0 2.761 7.163 5 16 5s16-2.239 16-5v-4c0-2.761-7.163-5-16-5z\"></path>\n",
       "<path d=\"M16 17c-8.837 0-16-2.239-16-5v6c0 2.761 7.163 5 16 5s16-2.239 16-5v-6c0 2.761-7.163 5-16 5z\"></path>\n",
       "<path d=\"M16 26c-8.837 0-16-2.239-16-5v6c0 2.761 7.163 5 16 5s16-2.239 16-5v-6c0 2.761-7.163 5-16 5z\"></path>\n",
       "</symbol>\n",
       "<symbol id=\"icon-file-text2\" viewBox=\"0 0 32 32\">\n",
       "<path d=\"M28.681 7.159c-0.694-0.947-1.662-2.053-2.724-3.116s-2.169-2.030-3.116-2.724c-1.612-1.182-2.393-1.319-2.841-1.319h-15.5c-1.378 0-2.5 1.121-2.5 2.5v27c0 1.378 1.122 2.5 2.5 2.5h23c1.378 0 2.5-1.122 2.5-2.5v-19.5c0-0.448-0.137-1.23-1.319-2.841zM24.543 5.457c0.959 0.959 1.712 1.825 2.268 2.543h-4.811v-4.811c0.718 0.556 1.584 1.309 2.543 2.268zM28 29.5c0 0.271-0.229 0.5-0.5 0.5h-23c-0.271 0-0.5-0.229-0.5-0.5v-27c0-0.271 0.229-0.5 0.5-0.5 0 0 15.499-0 15.5 0v7c0 0.552 0.448 1 1 1h7v19.5z\"></path>\n",
       "<path d=\"M23 26h-14c-0.552 0-1-0.448-1-1s0.448-1 1-1h14c0.552 0 1 0.448 1 1s-0.448 1-1 1z\"></path>\n",
       "<path d=\"M23 22h-14c-0.552 0-1-0.448-1-1s0.448-1 1-1h14c0.552 0 1 0.448 1 1s-0.448 1-1 1z\"></path>\n",
       "<path d=\"M23 18h-14c-0.552 0-1-0.448-1-1s0.448-1 1-1h14c0.552 0 1 0.448 1 1s-0.448 1-1 1z\"></path>\n",
       "</symbol>\n",
       "</defs>\n",
       "</svg>\n",
       "<style>/* CSS stylesheet for displaying xarray objects in jupyterlab.\n",
       " *\n",
       " */\n",
       "\n",
       ":root {\n",
       "  --xr-font-color0: var(--jp-content-font-color0, rgba(0, 0, 0, 1));\n",
       "  --xr-font-color2: var(--jp-content-font-color2, rgba(0, 0, 0, 0.54));\n",
       "  --xr-font-color3: var(--jp-content-font-color3, rgba(0, 0, 0, 0.38));\n",
       "  --xr-border-color: var(--jp-border-color2, #e0e0e0);\n",
       "  --xr-disabled-color: var(--jp-layout-color3, #bdbdbd);\n",
       "  --xr-background-color: var(--jp-layout-color0, white);\n",
       "  --xr-background-color-row-even: var(--jp-layout-color1, white);\n",
       "  --xr-background-color-row-odd: var(--jp-layout-color2, #eeeeee);\n",
       "}\n",
       "\n",
       "html[theme=dark],\n",
       "body[data-theme=dark],\n",
       "body.vscode-dark {\n",
       "  --xr-font-color0: rgba(255, 255, 255, 1);\n",
       "  --xr-font-color2: rgba(255, 255, 255, 0.54);\n",
       "  --xr-font-color3: rgba(255, 255, 255, 0.38);\n",
       "  --xr-border-color: #1F1F1F;\n",
       "  --xr-disabled-color: #515151;\n",
       "  --xr-background-color: #111111;\n",
       "  --xr-background-color-row-even: #111111;\n",
       "  --xr-background-color-row-odd: #313131;\n",
       "}\n",
       "\n",
       ".xr-wrap {\n",
       "  display: block !important;\n",
       "  min-width: 300px;\n",
       "  max-width: 700px;\n",
       "}\n",
       "\n",
       ".xr-text-repr-fallback {\n",
       "  /* fallback to plain text repr when CSS is not injected (untrusted notebook) */\n",
       "  display: none;\n",
       "}\n",
       "\n",
       ".xr-header {\n",
       "  padding-top: 6px;\n",
       "  padding-bottom: 6px;\n",
       "  margin-bottom: 4px;\n",
       "  border-bottom: solid 1px var(--xr-border-color);\n",
       "}\n",
       "\n",
       ".xr-header > div,\n",
       ".xr-header > ul {\n",
       "  display: inline;\n",
       "  margin-top: 0;\n",
       "  margin-bottom: 0;\n",
       "}\n",
       "\n",
       ".xr-obj-type,\n",
       ".xr-array-name {\n",
       "  margin-left: 2px;\n",
       "  margin-right: 10px;\n",
       "}\n",
       "\n",
       ".xr-obj-type {\n",
       "  color: var(--xr-font-color2);\n",
       "}\n",
       "\n",
       ".xr-sections {\n",
       "  padding-left: 0 !important;\n",
       "  display: grid;\n",
       "  grid-template-columns: 150px auto auto 1fr 20px 20px;\n",
       "}\n",
       "\n",
       ".xr-section-item {\n",
       "  display: contents;\n",
       "}\n",
       "\n",
       ".xr-section-item input {\n",
       "  display: none;\n",
       "}\n",
       "\n",
       ".xr-section-item input + label {\n",
       "  color: var(--xr-disabled-color);\n",
       "}\n",
       "\n",
       ".xr-section-item input:enabled + label {\n",
       "  cursor: pointer;\n",
       "  color: var(--xr-font-color2);\n",
       "}\n",
       "\n",
       ".xr-section-item input:enabled + label:hover {\n",
       "  color: var(--xr-font-color0);\n",
       "}\n",
       "\n",
       ".xr-section-summary {\n",
       "  grid-column: 1;\n",
       "  color: var(--xr-font-color2);\n",
       "  font-weight: 500;\n",
       "}\n",
       "\n",
       ".xr-section-summary > span {\n",
       "  display: inline-block;\n",
       "  padding-left: 0.5em;\n",
       "}\n",
       "\n",
       ".xr-section-summary-in:disabled + label {\n",
       "  color: var(--xr-font-color2);\n",
       "}\n",
       "\n",
       ".xr-section-summary-in + label:before {\n",
       "  display: inline-block;\n",
       "  content: '►';\n",
       "  font-size: 11px;\n",
       "  width: 15px;\n",
       "  text-align: center;\n",
       "}\n",
       "\n",
       ".xr-section-summary-in:disabled + label:before {\n",
       "  color: var(--xr-disabled-color);\n",
       "}\n",
       "\n",
       ".xr-section-summary-in:checked + label:before {\n",
       "  content: '▼';\n",
       "}\n",
       "\n",
       ".xr-section-summary-in:checked + label > span {\n",
       "  display: none;\n",
       "}\n",
       "\n",
       ".xr-section-summary,\n",
       ".xr-section-inline-details {\n",
       "  padding-top: 4px;\n",
       "  padding-bottom: 4px;\n",
       "}\n",
       "\n",
       ".xr-section-inline-details {\n",
       "  grid-column: 2 / -1;\n",
       "}\n",
       "\n",
       ".xr-section-details {\n",
       "  display: none;\n",
       "  grid-column: 1 / -1;\n",
       "  margin-bottom: 5px;\n",
       "}\n",
       "\n",
       ".xr-section-summary-in:checked ~ .xr-section-details {\n",
       "  display: contents;\n",
       "}\n",
       "\n",
       ".xr-array-wrap {\n",
       "  grid-column: 1 / -1;\n",
       "  display: grid;\n",
       "  grid-template-columns: 20px auto;\n",
       "}\n",
       "\n",
       ".xr-array-wrap > label {\n",
       "  grid-column: 1;\n",
       "  vertical-align: top;\n",
       "}\n",
       "\n",
       ".xr-preview {\n",
       "  color: var(--xr-font-color3);\n",
       "}\n",
       "\n",
       ".xr-array-preview,\n",
       ".xr-array-data {\n",
       "  padding: 0 5px !important;\n",
       "  grid-column: 2;\n",
       "}\n",
       "\n",
       ".xr-array-data,\n",
       ".xr-array-in:checked ~ .xr-array-preview {\n",
       "  display: none;\n",
       "}\n",
       "\n",
       ".xr-array-in:checked ~ .xr-array-data,\n",
       ".xr-array-preview {\n",
       "  display: inline-block;\n",
       "}\n",
       "\n",
       ".xr-dim-list {\n",
       "  display: inline-block !important;\n",
       "  list-style: none;\n",
       "  padding: 0 !important;\n",
       "  margin: 0;\n",
       "}\n",
       "\n",
       ".xr-dim-list li {\n",
       "  display: inline-block;\n",
       "  padding: 0;\n",
       "  margin: 0;\n",
       "}\n",
       "\n",
       ".xr-dim-list:before {\n",
       "  content: '(';\n",
       "}\n",
       "\n",
       ".xr-dim-list:after {\n",
       "  content: ')';\n",
       "}\n",
       "\n",
       ".xr-dim-list li:not(:last-child):after {\n",
       "  content: ',';\n",
       "  padding-right: 5px;\n",
       "}\n",
       "\n",
       ".xr-has-index {\n",
       "  font-weight: bold;\n",
       "}\n",
       "\n",
       ".xr-var-list,\n",
       ".xr-var-item {\n",
       "  display: contents;\n",
       "}\n",
       "\n",
       ".xr-var-item > div,\n",
       ".xr-var-item label,\n",
       ".xr-var-item > .xr-var-name span {\n",
       "  background-color: var(--xr-background-color-row-even);\n",
       "  margin-bottom: 0;\n",
       "}\n",
       "\n",
       ".xr-var-item > .xr-var-name:hover span {\n",
       "  padding-right: 5px;\n",
       "}\n",
       "\n",
       ".xr-var-list > li:nth-child(odd) > div,\n",
       ".xr-var-list > li:nth-child(odd) > label,\n",
       ".xr-var-list > li:nth-child(odd) > .xr-var-name span {\n",
       "  background-color: var(--xr-background-color-row-odd);\n",
       "}\n",
       "\n",
       ".xr-var-name {\n",
       "  grid-column: 1;\n",
       "}\n",
       "\n",
       ".xr-var-dims {\n",
       "  grid-column: 2;\n",
       "}\n",
       "\n",
       ".xr-var-dtype {\n",
       "  grid-column: 3;\n",
       "  text-align: right;\n",
       "  color: var(--xr-font-color2);\n",
       "}\n",
       "\n",
       ".xr-var-preview {\n",
       "  grid-column: 4;\n",
       "}\n",
       "\n",
       ".xr-index-preview {\n",
       "  grid-column: 2 / 5;\n",
       "  color: var(--xr-font-color2);\n",
       "}\n",
       "\n",
       ".xr-var-name,\n",
       ".xr-var-dims,\n",
       ".xr-var-dtype,\n",
       ".xr-preview,\n",
       ".xr-attrs dt {\n",
       "  white-space: nowrap;\n",
       "  overflow: hidden;\n",
       "  text-overflow: ellipsis;\n",
       "  padding-right: 10px;\n",
       "}\n",
       "\n",
       ".xr-var-name:hover,\n",
       ".xr-var-dims:hover,\n",
       ".xr-var-dtype:hover,\n",
       ".xr-attrs dt:hover {\n",
       "  overflow: visible;\n",
       "  width: auto;\n",
       "  z-index: 1;\n",
       "}\n",
       "\n",
       ".xr-var-attrs,\n",
       ".xr-var-data,\n",
       ".xr-index-data {\n",
       "  display: none;\n",
       "  background-color: var(--xr-background-color) !important;\n",
       "  padding-bottom: 5px !important;\n",
       "}\n",
       "\n",
       ".xr-var-attrs-in:checked ~ .xr-var-attrs,\n",
       ".xr-var-data-in:checked ~ .xr-var-data,\n",
       ".xr-index-data-in:checked ~ .xr-index-data {\n",
       "  display: block;\n",
       "}\n",
       "\n",
       ".xr-var-data > table {\n",
       "  float: right;\n",
       "}\n",
       "\n",
       ".xr-var-name span,\n",
       ".xr-var-data,\n",
       ".xr-index-name div,\n",
       ".xr-index-data,\n",
       ".xr-attrs {\n",
       "  padding-left: 25px !important;\n",
       "}\n",
       "\n",
       ".xr-attrs,\n",
       ".xr-var-attrs,\n",
       ".xr-var-data,\n",
       ".xr-index-data {\n",
       "  grid-column: 1 / -1;\n",
       "}\n",
       "\n",
       "dl.xr-attrs {\n",
       "  padding: 0;\n",
       "  margin: 0;\n",
       "  display: grid;\n",
       "  grid-template-columns: 125px auto;\n",
       "}\n",
       "\n",
       ".xr-attrs dt,\n",
       ".xr-attrs dd {\n",
       "  padding: 0;\n",
       "  margin: 0;\n",
       "  float: left;\n",
       "  padding-right: 10px;\n",
       "  width: auto;\n",
       "}\n",
       "\n",
       ".xr-attrs dt {\n",
       "  font-weight: normal;\n",
       "  grid-column: 1;\n",
       "}\n",
       "\n",
       ".xr-attrs dt:hover span {\n",
       "  display: inline-block;\n",
       "  background: var(--xr-background-color);\n",
       "  padding-right: 10px;\n",
       "}\n",
       "\n",
       ".xr-attrs dd {\n",
       "  grid-column: 2;\n",
       "  white-space: pre-wrap;\n",
       "  word-break: break-all;\n",
       "}\n",
       "\n",
       ".xr-icon-database,\n",
       ".xr-icon-file-text2,\n",
       ".xr-no-icon {\n",
       "  display: inline-block;\n",
       "  vertical-align: middle;\n",
       "  width: 1em;\n",
       "  height: 1.5em !important;\n",
       "  stroke-width: 0;\n",
       "  stroke: currentColor;\n",
       "  fill: currentColor;\n",
       "}\n",
       "</style><pre class='xr-text-repr-fallback'>&lt;xarray.DataArray &#x27;band_data&#x27; (y: 1800, x: 4320, time: 365)&gt;\n",
       "dask.array&lt;transpose, shape=(1800, 4320, 365), dtype=float32, chunksize=(450, 2160, 365), chunktype=numpy.ndarray&gt;\n",
       "Coordinates:\n",
       "  * x            (x) float32 -180.0 -179.9 -179.8 -179.7 ... 179.8 179.9 180.0\n",
       "  * y            (y) float32 89.96 89.88 89.79 89.71 ... -59.79 -59.88 -59.96\n",
       "    spatial_ref  (time) int64 0 0 0 0 0 0 0 0 0 0 0 0 ... 0 0 0 0 0 0 0 0 0 0 0\n",
       "  * time         (time) datetime64[ns] 2020-01-01 2020-01-02 ... 2020-12-31\n",
       "    month        (time) int64 1 1 1 1 1 1 1 1 1 1 ... 12 12 12 12 12 12 12 12 12</pre><div class='xr-wrap' style='display:none'><div class='xr-header'><div class='xr-obj-type'>xarray.DataArray</div><div class='xr-array-name'>'band_data'</div><ul class='xr-dim-list'><li><span class='xr-has-index'>y</span>: 1800</li><li><span class='xr-has-index'>x</span>: 4320</li><li><span class='xr-has-index'>time</span>: 365</li></ul></div><ul class='xr-sections'><li class='xr-section-item'><div class='xr-array-wrap'><input id='section-58d71c93-7a50-4cf0-84d8-2b32937e6ab6' class='xr-array-in' type='checkbox' checked><label for='section-58d71c93-7a50-4cf0-84d8-2b32937e6ab6' title='Show/hide data repr'><svg class='icon xr-icon-database'><use xlink:href='#icon-database'></use></svg></label><div class='xr-array-preview xr-preview'><span>dask.array&lt;chunksize=(450, 2160, 365), meta=np.ndarray&gt;</span></div><div class='xr-array-data'><table>\n",
       "    <tr>\n",
       "        <td>\n",
       "            <table style=\"border-collapse: collapse;\">\n",
       "                <thead>\n",
       "                    <tr>\n",
       "                        <td> </td>\n",
       "                        <th> Array </th>\n",
       "                        <th> Chunk </th>\n",
       "                    </tr>\n",
       "                </thead>\n",
       "                <tbody>\n",
       "                    \n",
       "                    <tr>\n",
       "                        <th> Bytes </th>\n",
       "                        <td> 10.57 GiB </td>\n",
       "                        <td> 1.32 GiB </td>\n",
       "                    </tr>\n",
       "                    \n",
       "                    <tr>\n",
       "                        <th> Shape </th>\n",
       "                        <td> (1800, 4320, 365) </td>\n",
       "                        <td> (450, 2160, 365) </td>\n",
       "                    </tr>\n",
       "                    <tr>\n",
       "                        <th> Dask graph </th>\n",
       "                        <td colspan=\"2\"> 8 chunks in 6 graph layers </td>\n",
       "                    </tr>\n",
       "                    <tr>\n",
       "                        <th> Data type </th>\n",
       "                        <td colspan=\"2\"> float32 numpy.ndarray </td>\n",
       "                    </tr>\n",
       "                </tbody>\n",
       "            </table>\n",
       "        </td>\n",
       "        <td>\n",
       "        <svg width=\"127\" height=\"199\" style=\"stroke:rgb(0,0,0);stroke-width:1\" >\n",
       "\n",
       "  <!-- Horizontal lines -->\n",
       "  <line x1=\"10\" y1=\"0\" x2=\"39\" y2=\"29\" style=\"stroke-width:2\" />\n",
       "  <line x1=\"10\" y1=\"60\" x2=\"39\" y2=\"89\" />\n",
       "  <line x1=\"10\" y1=\"120\" x2=\"39\" y2=\"149\" style=\"stroke-width:2\" />\n",
       "\n",
       "  <!-- Vertical lines -->\n",
       "  <line x1=\"10\" y1=\"0\" x2=\"10\" y2=\"120\" style=\"stroke-width:2\" />\n",
       "  <line x1=\"17\" y1=\"7\" x2=\"17\" y2=\"127\" />\n",
       "  <line x1=\"24\" y1=\"14\" x2=\"24\" y2=\"134\" />\n",
       "  <line x1=\"32\" y1=\"22\" x2=\"32\" y2=\"142\" />\n",
       "  <line x1=\"39\" y1=\"29\" x2=\"39\" y2=\"149\" style=\"stroke-width:2\" />\n",
       "\n",
       "  <!-- Colored Rectangle -->\n",
       "  <polygon points=\"10.0,0.0 39.411764705882355,29.411764705882355 39.411764705882355,149.41176470588235 10.0,120.0\" style=\"fill:#ECB172A0;stroke-width:0\"/>\n",
       "\n",
       "  <!-- Horizontal lines -->\n",
       "  <line x1=\"10\" y1=\"0\" x2=\"47\" y2=\"0\" style=\"stroke-width:2\" />\n",
       "  <line x1=\"17\" y1=\"7\" x2=\"54\" y2=\"7\" />\n",
       "  <line x1=\"24\" y1=\"14\" x2=\"62\" y2=\"14\" />\n",
       "  <line x1=\"32\" y1=\"22\" x2=\"69\" y2=\"22\" />\n",
       "  <line x1=\"39\" y1=\"29\" x2=\"77\" y2=\"29\" style=\"stroke-width:2\" />\n",
       "\n",
       "  <!-- Vertical lines -->\n",
       "  <line x1=\"10\" y1=\"0\" x2=\"39\" y2=\"29\" style=\"stroke-width:2\" />\n",
       "  <line x1=\"47\" y1=\"0\" x2=\"77\" y2=\"29\" style=\"stroke-width:2\" />\n",
       "\n",
       "  <!-- Colored Rectangle -->\n",
       "  <polygon points=\"10.0,0.0 47.64324070835078,0.0 77.05500541423314,29.411764705882355 39.411764705882355,29.411764705882355\" style=\"fill:#ECB172A0;stroke-width:0\"/>\n",
       "\n",
       "  <!-- Horizontal lines -->\n",
       "  <line x1=\"39\" y1=\"29\" x2=\"77\" y2=\"29\" style=\"stroke-width:2\" />\n",
       "  <line x1=\"39\" y1=\"89\" x2=\"77\" y2=\"89\" />\n",
       "  <line x1=\"39\" y1=\"149\" x2=\"77\" y2=\"149\" style=\"stroke-width:2\" />\n",
       "\n",
       "  <!-- Vertical lines -->\n",
       "  <line x1=\"39\" y1=\"29\" x2=\"39\" y2=\"149\" style=\"stroke-width:2\" />\n",
       "  <line x1=\"77\" y1=\"29\" x2=\"77\" y2=\"149\" style=\"stroke-width:2\" />\n",
       "\n",
       "  <!-- Colored Rectangle -->\n",
       "  <polygon points=\"39.411764705882355,29.411764705882355 77.05500541423314,29.411764705882355 77.05500541423314,149.41176470588235 39.411764705882355,149.41176470588235\" style=\"fill:#ECB172A0;stroke-width:0\"/>\n",
       "\n",
       "  <!-- Text -->\n",
       "  <text x=\"58.233385\" y=\"169.411765\" font-size=\"1.0rem\" font-weight=\"100\" text-anchor=\"middle\" >365</text>\n",
       "  <text x=\"97.055005\" y=\"89.411765\" font-size=\"1.0rem\" font-weight=\"100\" text-anchor=\"middle\" transform=\"rotate(-90,97.055005,89.411765)\">4320</text>\n",
       "  <text x=\"14.705882\" y=\"154.705882\" font-size=\"1.0rem\" font-weight=\"100\" text-anchor=\"middle\" transform=\"rotate(45,14.705882,154.705882)\">1800</text>\n",
       "</svg>\n",
       "        </td>\n",
       "    </tr>\n",
       "</table></div></div></li><li class='xr-section-item'><input id='section-872d0d0e-7938-436c-8199-80518f8022e2' class='xr-section-summary-in' type='checkbox'  checked><label for='section-872d0d0e-7938-436c-8199-80518f8022e2' class='xr-section-summary' >Coordinates: <span>(5)</span></label><div class='xr-section-inline-details'></div><div class='xr-section-details'><ul class='xr-var-list'><li class='xr-var-item'><div class='xr-var-name'><span class='xr-has-index'>x</span></div><div class='xr-var-dims'>(x)</div><div class='xr-var-dtype'>float32</div><div class='xr-var-preview xr-preview'>-180.0 -179.9 ... 179.9 180.0</div><input id='attrs-aad1731c-0e19-40dd-bac6-9026d253dcf5' class='xr-var-attrs-in' type='checkbox' disabled><label for='attrs-aad1731c-0e19-40dd-bac6-9026d253dcf5' title='Show/Hide attributes'><svg class='icon xr-icon-file-text2'><use xlink:href='#icon-file-text2'></use></svg></label><input id='data-466aebbf-dfff-4f01-87b2-303cc8aec22f' class='xr-var-data-in' type='checkbox'><label for='data-466aebbf-dfff-4f01-87b2-303cc8aec22f' title='Show/Hide data repr'><svg class='icon xr-icon-database'><use xlink:href='#icon-database'></use></svg></label><div class='xr-var-attrs'><dl class='xr-attrs'></dl></div><div class='xr-var-data'><pre>array([-179.95833, -179.875  , -179.79167, ...,  179.79167,  179.875  ,\n",
       "        179.95833], dtype=float32)</pre></div></li><li class='xr-var-item'><div class='xr-var-name'><span class='xr-has-index'>y</span></div><div class='xr-var-dims'>(y)</div><div class='xr-var-dtype'>float32</div><div class='xr-var-preview xr-preview'>89.96 89.88 89.79 ... -59.88 -59.96</div><input id='attrs-2ccd93d6-f81b-415a-9128-e10f77aec09c' class='xr-var-attrs-in' type='checkbox' disabled><label for='attrs-2ccd93d6-f81b-415a-9128-e10f77aec09c' title='Show/Hide attributes'><svg class='icon xr-icon-file-text2'><use xlink:href='#icon-file-text2'></use></svg></label><input id='data-54ce9374-1bce-4489-892e-1ad47a87c009' class='xr-var-data-in' type='checkbox'><label for='data-54ce9374-1bce-4489-892e-1ad47a87c009' title='Show/Hide data repr'><svg class='icon xr-icon-database'><use xlink:href='#icon-database'></use></svg></label><div class='xr-var-attrs'><dl class='xr-attrs'></dl></div><div class='xr-var-data'><pre>array([ 89.958336,  89.875   ,  89.791664, ..., -59.791668, -59.875   ,\n",
       "       -59.958332], dtype=float32)</pre></div></li><li class='xr-var-item'><div class='xr-var-name'><span>spatial_ref</span></div><div class='xr-var-dims'>(time)</div><div class='xr-var-dtype'>int64</div><div class='xr-var-preview xr-preview'>0 0 0 0 0 0 0 0 ... 0 0 0 0 0 0 0 0</div><input id='attrs-694fa56f-ceaa-4a85-af1f-6d31a98e87ea' class='xr-var-attrs-in' type='checkbox' disabled><label for='attrs-694fa56f-ceaa-4a85-af1f-6d31a98e87ea' title='Show/Hide attributes'><svg class='icon xr-icon-file-text2'><use xlink:href='#icon-file-text2'></use></svg></label><input id='data-7ccc6da0-ed3e-4a70-9cef-0ff68f1d94c2' class='xr-var-data-in' type='checkbox'><label for='data-7ccc6da0-ed3e-4a70-9cef-0ff68f1d94c2' title='Show/Hide data repr'><svg class='icon xr-icon-database'><use xlink:href='#icon-database'></use></svg></label><div class='xr-var-attrs'><dl class='xr-attrs'></dl></div><div class='xr-var-data'><pre>array([0, 0, 0, 0, 0, 0, 0, 0, 0, 0, 0, 0, 0, 0, 0, 0, 0, 0, 0, 0, 0, 0,\n",
       "       0, 0, 0, 0, 0, 0, 0, 0, 0, 0, 0, 0, 0, 0, 0, 0, 0, 0, 0, 0, 0, 0,\n",
       "       0, 0, 0, 0, 0, 0, 0, 0, 0, 0, 0, 0, 0, 0, 0, 0, 0, 0, 0, 0, 0, 0,\n",
       "       0, 0, 0, 0, 0, 0, 0, 0, 0, 0, 0, 0, 0, 0, 0, 0, 0, 0, 0, 0, 0, 0,\n",
       "       0, 0, 0, 0, 0, 0, 0, 0, 0, 0, 0, 0, 0, 0, 0, 0, 0, 0, 0, 0, 0, 0,\n",
       "       0, 0, 0, 0, 0, 0, 0, 0, 0, 0, 0, 0, 0, 0, 0, 0, 0, 0, 0, 0, 0, 0,\n",
       "       0, 0, 0, 0, 0, 0, 0, 0, 0, 0, 0, 0, 0, 0, 0, 0, 0, 0, 0, 0, 0, 0,\n",
       "       0, 0, 0, 0, 0, 0, 0, 0, 0, 0, 0, 0, 0, 0, 0, 0, 0, 0, 0, 0, 0, 0,\n",
       "       0, 0, 0, 0, 0, 0, 0, 0, 0, 0, 0, 0, 0, 0, 0, 0, 0, 0, 0, 0, 0, 0,\n",
       "       0, 0, 0, 0, 0, 0, 0, 0, 0, 0, 0, 0, 0, 0, 0, 0, 0, 0, 0, 0, 0, 0,\n",
       "       0, 0, 0, 0, 0, 0, 0, 0, 0, 0, 0, 0, 0, 0, 0, 0, 0, 0, 0, 0, 0, 0,\n",
       "       0, 0, 0, 0, 0, 0, 0, 0, 0, 0, 0, 0, 0, 0, 0, 0, 0, 0, 0, 0, 0, 0,\n",
       "       0, 0, 0, 0, 0, 0, 0, 0, 0, 0, 0, 0, 0, 0, 0, 0, 0, 0, 0, 0, 0, 0,\n",
       "       0, 0, 0, 0, 0, 0, 0, 0, 0, 0, 0, 0, 0, 0, 0, 0, 0, 0, 0, 0, 0, 0,\n",
       "       0, 0, 0, 0, 0, 0, 0, 0, 0, 0, 0, 0, 0, 0, 0, 0, 0, 0, 0, 0, 0, 0,\n",
       "       0, 0, 0, 0, 0, 0, 0, 0, 0, 0, 0, 0, 0, 0, 0, 0, 0, 0, 0, 0, 0, 0,\n",
       "       0, 0, 0, 0, 0, 0, 0, 0, 0, 0, 0, 0, 0])</pre></div></li><li class='xr-var-item'><div class='xr-var-name'><span class='xr-has-index'>time</span></div><div class='xr-var-dims'>(time)</div><div class='xr-var-dtype'>datetime64[ns]</div><div class='xr-var-preview xr-preview'>2020-01-01 ... 2020-12-31</div><input id='attrs-7c1348b5-3781-4230-a94d-3646bfeef09f' class='xr-var-attrs-in' type='checkbox' disabled><label for='attrs-7c1348b5-3781-4230-a94d-3646bfeef09f' title='Show/Hide attributes'><svg class='icon xr-icon-file-text2'><use xlink:href='#icon-file-text2'></use></svg></label><input id='data-c803ab15-3df7-4086-b544-a9f295c2ed7c' class='xr-var-data-in' type='checkbox'><label for='data-c803ab15-3df7-4086-b544-a9f295c2ed7c' title='Show/Hide data repr'><svg class='icon xr-icon-database'><use xlink:href='#icon-database'></use></svg></label><div class='xr-var-attrs'><dl class='xr-attrs'></dl></div><div class='xr-var-data'><pre>array([&#x27;2020-01-01T00:00:00.000000000&#x27;, &#x27;2020-01-02T00:00:00.000000000&#x27;,\n",
       "       &#x27;2020-01-03T00:00:00.000000000&#x27;, ..., &#x27;2020-12-29T00:00:00.000000000&#x27;,\n",
       "       &#x27;2020-12-30T00:00:00.000000000&#x27;, &#x27;2020-12-31T00:00:00.000000000&#x27;],\n",
       "      dtype=&#x27;datetime64[ns]&#x27;)</pre></div></li><li class='xr-var-item'><div class='xr-var-name'><span>month</span></div><div class='xr-var-dims'>(time)</div><div class='xr-var-dtype'>int64</div><div class='xr-var-preview xr-preview'>1 1 1 1 1 1 1 ... 12 12 12 12 12 12</div><input id='attrs-9045ea93-23d7-437f-9d8c-07ceb588da08' class='xr-var-attrs-in' type='checkbox' disabled><label for='attrs-9045ea93-23d7-437f-9d8c-07ceb588da08' title='Show/Hide attributes'><svg class='icon xr-icon-file-text2'><use xlink:href='#icon-file-text2'></use></svg></label><input id='data-767880ab-a3fb-45a7-bfa9-a5d1f906b295' class='xr-var-data-in' type='checkbox'><label for='data-767880ab-a3fb-45a7-bfa9-a5d1f906b295' title='Show/Hide data repr'><svg class='icon xr-icon-database'><use xlink:href='#icon-database'></use></svg></label><div class='xr-var-attrs'><dl class='xr-attrs'></dl></div><div class='xr-var-data'><pre>array([ 1,  1,  1, ..., 12, 12, 12])</pre></div></li></ul></div></li><li class='xr-section-item'><input id='section-8ad7fb38-1aba-4cd2-9a02-c7b1e3e955e7' class='xr-section-summary-in' type='checkbox'  ><label for='section-8ad7fb38-1aba-4cd2-9a02-c7b1e3e955e7' class='xr-section-summary' >Indexes: <span>(3)</span></label><div class='xr-section-inline-details'></div><div class='xr-section-details'><ul class='xr-var-list'><li class='xr-var-item'><div class='xr-index-name'><div>x</div></div><div class='xr-index-preview'>PandasIndex</div><div></div><input id='index-080a3ecb-a148-4f68-a9c7-591a81219fa1' class='xr-index-data-in' type='checkbox'/><label for='index-080a3ecb-a148-4f68-a9c7-591a81219fa1' title='Show/Hide index repr'><svg class='icon xr-icon-database'><use xlink:href='#icon-database'></use></svg></label><div class='xr-index-data'><pre>PandasIndex(Index([-179.9583282470703,           -179.875, -179.7916717529297,\n",
       "       -179.7083282470703,           -179.625, -179.5416717529297,\n",
       "       -179.4583282470703,           -179.375, -179.2916717529297,\n",
       "       -179.2083282470703,\n",
       "       ...\n",
       "        179.2083282470703,  179.2916717529297,            179.375,\n",
       "        179.4583282470703,  179.5416717529297,            179.625,\n",
       "        179.7083282470703,  179.7916717529297,            179.875,\n",
       "        179.9583282470703],\n",
       "      dtype=&#x27;float32&#x27;, name=&#x27;x&#x27;, length=4320))</pre></div></li><li class='xr-var-item'><div class='xr-index-name'><div>y</div></div><div class='xr-index-preview'>PandasIndex</div><div></div><input id='index-79ba27c1-8ffa-4b18-b059-83bedbb98692' class='xr-index-data-in' type='checkbox'/><label for='index-79ba27c1-8ffa-4b18-b059-83bedbb98692' title='Show/Hide index repr'><svg class='icon xr-icon-database'><use xlink:href='#icon-database'></use></svg></label><div class='xr-index-data'><pre>PandasIndex(Index([ 89.95833587646484,             89.875,  89.79166412353516,\n",
       "        89.70833587646484,             89.625,  89.54166412353516,\n",
       "        89.45833587646484,             89.375,  89.29166412353516,\n",
       "        89.20833587646484,\n",
       "       ...\n",
       "       -59.20833206176758, -59.29166793823242,            -59.375,\n",
       "       -59.45833206176758, -59.54166793823242,            -59.625,\n",
       "       -59.70833206176758, -59.79166793823242,            -59.875,\n",
       "       -59.95833206176758],\n",
       "      dtype=&#x27;float32&#x27;, name=&#x27;y&#x27;, length=1800))</pre></div></li><li class='xr-var-item'><div class='xr-index-name'><div>time</div></div><div class='xr-index-preview'>PandasIndex</div><div></div><input id='index-2dba19b7-2c8a-470b-921c-0cce642cede2' class='xr-index-data-in' type='checkbox'/><label for='index-2dba19b7-2c8a-470b-921c-0cce642cede2' title='Show/Hide index repr'><svg class='icon xr-icon-database'><use xlink:href='#icon-database'></use></svg></label><div class='xr-index-data'><pre>PandasIndex(DatetimeIndex([&#x27;2020-01-01&#x27;, &#x27;2020-01-02&#x27;, &#x27;2020-01-03&#x27;, &#x27;2020-01-04&#x27;,\n",
       "               &#x27;2020-01-05&#x27;, &#x27;2020-01-06&#x27;, &#x27;2020-01-07&#x27;, &#x27;2020-01-08&#x27;,\n",
       "               &#x27;2020-01-09&#x27;, &#x27;2020-01-10&#x27;,\n",
       "               ...\n",
       "               &#x27;2020-12-22&#x27;, &#x27;2020-12-23&#x27;, &#x27;2020-12-24&#x27;, &#x27;2020-12-25&#x27;,\n",
       "               &#x27;2020-12-26&#x27;, &#x27;2020-12-27&#x27;, &#x27;2020-12-28&#x27;, &#x27;2020-12-29&#x27;,\n",
       "               &#x27;2020-12-30&#x27;, &#x27;2020-12-31&#x27;],\n",
       "              dtype=&#x27;datetime64[ns]&#x27;, name=&#x27;time&#x27;, length=365, freq=None))</pre></div></li></ul></div></li><li class='xr-section-item'><input id='section-5f8ec2d7-dff4-4184-aaa6-64b13be5bacd' class='xr-section-summary-in' type='checkbox' disabled ><label for='section-5f8ec2d7-dff4-4184-aaa6-64b13be5bacd' class='xr-section-summary'  title='Expand/collapse section'>Attributes: <span>(0)</span></label><div class='xr-section-inline-details'></div><div class='xr-section-details'><dl class='xr-attrs'></dl></div></li></ul></div></div>"
      ],
      "text/plain": [
       "<xarray.DataArray 'band_data' (y: 1800, x: 4320, time: 365)>\n",
       "dask.array<transpose, shape=(1800, 4320, 365), dtype=float32, chunksize=(450, 2160, 365), chunktype=numpy.ndarray>\n",
       "Coordinates:\n",
       "  * x            (x) float32 -180.0 -179.9 -179.8 -179.7 ... 179.8 179.9 180.0\n",
       "  * y            (y) float32 89.96 89.88 89.79 89.71 ... -59.79 -59.88 -59.96\n",
       "    spatial_ref  (time) int64 0 0 0 0 0 0 0 0 0 0 0 0 ... 0 0 0 0 0 0 0 0 0 0 0\n",
       "  * time         (time) datetime64[ns] 2020-01-01 2020-01-02 ... 2020-12-31\n",
       "    month        (time) int64 1 1 1 1 1 1 1 1 1 1 ... 12 12 12 12 12 12 12 12 12"
      ]
     },
     "execution_count": 28,
     "metadata": {},
     "output_type": "execute_result"
    }
   ],
   "source": [
    "try:\n",
    "    if (yyyy>=1980) & (yyyy<=2024):\n",
    "        dropdate=str(yyyy)+'-02-29'\n",
    "    else: \n",
    "        dropdate='1900-02-29'\n",
    "    with dask.config.set(**{'array.slicing.split_large_chunks': False}):\n",
    "        data_out = var_daily.drop_sel(time=dropdate).transpose('y','x','time')#.data\n",
    "    print('dropping date',dropdate)\n",
    "except:\n",
    "    with dask.config.set(**{'array.slicing.split_large_chunks': False}):\n",
    "        data_out = var_daily.drop_sel(time=dropdate).transpose('y','x','time')#.data\n",
    "data_out"
   ]
  },
  {
   "cell_type": "code",
   "execution_count": null,
   "id": "d5913a39-5668-4608-9abe-9957a4393025",
   "metadata": {},
   "outputs": [],
   "source": [
    "# %%time\n",
    "# data_out=data_out.compute()\n",
    "# data_out"
   ]
  },
  {
   "cell_type": "code",
   "execution_count": 29,
   "id": "7b39b547-23a3-4858-a040-49dc7579c345",
   "metadata": {},
   "outputs": [
    {
     "data": {
      "text/plain": [
       "<matplotlib.collections.QuadMesh at 0x7fe46ca2f7d0>"
      ]
     },
     "execution_count": 29,
     "metadata": {},
     "output_type": "execute_result"
    },
    {
     "data": {
      "image/png": "[encoded data removed]",
      "text/plain": [
       "<Figure size 640x480 with 2 Axes>"
      ]
     },
     "metadata": {},
     "output_type": "display_data"
    }
   ],
   "source": [
    "# import matplotlib.pyplot as plt\n",
    "# plt.imshow(data_out[:,:,15],interpolation='none')\n",
    "# plt.colorbar()\n",
    "data_out.isel(time=15).plot()"
   ]
  },
  {
   "cell_type": "code",
   "execution_count": 30,
   "id": "6e72460e-929c-4ea2-99cf-c5f83a90ec2c",
   "metadata": {},
   "outputs": [
    {
     "data": {
      "text/plain": [
       "(0.0, 588.38184)"
      ]
     },
     "execution_count": 30,
     "metadata": {},
     "output_type": "execute_result"
    }
   ],
   "source": [
    "np.nanmin(data_out.data).compute(),np.nanmax(data_out.data).compute()"
   ]
  },
  {
   "cell_type": "code",
   "execution_count": 31,
   "id": "b5c9ce76-0f4d-4f75-8426-a82b9a743eae",
   "metadata": {},
   "outputs": [
    {
     "name": "stdout",
     "output_type": "stream",
     "text": [
      "writing to /work/hpc/datasets/un_fao/pyaez/global_daily/testing/2020/Precip/0.npy\n",
      "CPU times: user 12.7 s, sys: 22.1 s, total: 34.8 s\n",
      "Wall time: 23.7 s\n"
     ]
    }
   ],
   "source": [
    "%%time\n",
    "out_dir=out_basedir+'testing/'+str(yyyy)+sep+newvarname+sep\n",
    "\n",
    "# set up dir for writing npy\n",
    "# out_dir=npy_dir+year+'/'+var_out+'\n",
    "isExist = os.path.exists(out_dir)\n",
    "if not isExist:\n",
    "    os.makedirs(out_dir)\n",
    "            \n",
    "print('writing to',out_dir+'0.npy')     \n",
    "da.to_npy_stack(out_dir,data_out.data,axis=2)    "
   ]
  },
  {
   "cell_type": "code",
   "execution_count": 32,
   "id": "fc34cddb-3bdb-465f-a84b-46d46e433195",
   "metadata": {},
   "outputs": [],
   "source": [
    "# precipitation = np.load(out_dir+'0.npy')"
   ]
  },
  {
   "cell_type": "code",
   "execution_count": 33,
   "id": "9f1a5e6d-b744-4cc6-9c77-2588657e19a5",
   "metadata": {},
   "outputs": [
    {
     "data": {
      "text/plain": [
       "<matplotlib.colorbar.Colorbar at 0x7fe46c658ad0>"
      ]
     },
     "execution_count": 33,
     "metadata": {},
     "output_type": "execute_result"
    },
    {
     "data": {
      "image/png": "[encoded data removed]",
      "text/plain": [
       "<Figure size 640x480 with 2 Axes>"
      ]
     },
     "metadata": {},
     "output_type": "display_data"
    }
   ],
   "source": [
    "# import matplotlib.pyplot as plt\n",
    "# plt.imshow(precipitation[:,:,15],interpolation='none')\n",
    "# plt.colorbar(shrink=0.8)"
   ]
  },
  {
   "cell_type": "code",
   "execution_count": null,
   "id": "f4d337ea-219e-4704-98d4-8f342f9c4997",
   "metadata": {},
   "outputs": [],
   "source": []
  },
  {
   "cell_type": "code",
   "execution_count": null,
   "id": "b4f50db5-3569-4e83-97f8-a1017402a07b",
   "metadata": {},
   "outputs": [],
   "source": []
  },
  {
   "cell_type": "code",
   "execution_count": null,
   "id": "0299939f-f314-4730-8906-b3b4fa268937",
   "metadata": {},
   "outputs": [],
   "source": []
  },
  {
   "cell_type": "code",
   "execution_count": null,
   "id": "d24662b3-1bdf-4f24-9348-a997691273cb",
   "metadata": {},
   "outputs": [],
   "source": []
  },
  {
   "cell_type": "code",
   "execution_count": null,
   "id": "294e6e81-40ce-4b17-a8c3-e745396ff4cd",
   "metadata": {},
   "outputs": [],
   "source": []
  },
  {
   "cell_type": "code",
   "execution_count": null,
   "id": "3f798947-57fc-4a0a-85f9-eb4ca384f78a",
   "metadata": {},
   "outputs": [],
   "source": []
  },
  {
   "cell_type": "code",
   "execution_count": null,
   "id": "4a1edc57-4107-4eb0-a2c7-a570cc8e378a",
   "metadata": {},
   "outputs": [],
   "source": []
  },
  {
   "cell_type": "code",
   "execution_count": null,
   "id": "0d2e6ebe-dc51-499c-9090-38eb55dd8725",
   "metadata": {},
   "outputs": [],
   "source": []
  },
  {
   "cell_type": "code",
   "execution_count": null,
   "id": "268ed341-f951-4b7a-a918-fd762251a8f5",
   "metadata": {},
   "outputs": [],
   "source": [
    "# function to lazy calculate daily values as daily_value = daily_deviation + monthly_mean\n",
    "def calc_daily_ds(v):\n",
    "    # get data \n",
    "    var_prime=xr.open_dataset(ddfile,chunks=chunks)[v] # daily devs\n",
    "    var_mean=xr.open_dataset(mfile,chunks=chunks)[v] # monthly means\n",
    "    \n",
    "    # save variable metadata and rework for the groupby below\n",
    "    varattrs=var_mean.attrs\n",
    "    del varattrs['description']\n",
    "    var_mean=var_mean.rename({'time':'month'})\n",
    "    months=np.arange(12)+1\n",
    "    var_mean['month']=months\n",
    "\n",
    "    # lazy compute\n",
    "    with dask.config.set(**{'array.slicing.split_large_chunks': False}):    \n",
    "        var_daily=var_prime.groupby('time.month') + var_mean\n",
    "    \n",
    "    # clean up variable metadata\n",
    "    var_daily=var_daily.drop('month')\n",
    "    var_daily.attrs=varattrs\n",
    "\n",
    "    # convert array to dataset and set global attributes\n",
    "    ds=var_daily.to_dataset()\n",
    "    ds=ds.assign_attrs({'source_data':source_data,'source_code':source_code})    \n",
    "    return ds  \n",
    "\n",
    "# function to lazy calculate daily_value = fraction_of_monthly_total * monthly_total\n",
    "def calc_daily_precip_ds(v):\n",
    "    # get data \n",
    "    var_frac=xr.open_dataset(ddfile,chunks=chunks)[v] # daily frac\n",
    "    var_acc=xr.open_dataset(mfile,chunks=chunks)[v] # monthly acc   \n",
    "    \n",
    "    # save variable metadata and rework for the groupby below\n",
    "    varattrs=var_acc.attrs\n",
    "    del varattrs['description']\n",
    "    var_acc=var_acc.rename({'time':'month'})\n",
    "    months=np.arange(12)+1\n",
    "    var_acc['month']=months\n",
    "\n",
    "    # lazy compute\n",
    "    with dask.config.set(**{'array.slicing.split_large_chunks': False}):        \n",
    "        var_daily=var_frac.groupby('time.month')*var_acc  # times here instead of add\n",
    "    \n",
    "    # clean up variable metadata\n",
    "    var_daily=var_daily.drop('month')\n",
    "    var_daily.attrs=varattrs\n",
    "\n",
    "    # convert array to dataset and set global attributes\n",
    "    ds=var_daily.to_dataset()\n",
    "    ds=ds.assign_attrs({'source_data':source_data,'source_code':source_code})\n",
    "    return ds  "
   ]
  },
  {
   "cell_type": "code",
   "execution_count": null,
   "id": "582a675d-7f73-4383-8650-0155408cb39f",
   "metadata": {},
   "outputs": [],
   "source": []
  },
  {
   "cell_type": "code",
   "execution_count": null,
   "id": "346f0a14-a3e4-4f1b-98dd-a277661fc34b",
   "metadata": {},
   "outputs": [],
   "source": [
    "# print('reading file')\n",
    "# tds=xr.open_dataset('/work/hpc/datasets/un_fao/gaez_v5_intermediate/netcdf/Tmax-2m_Hist_DailyDev_2020_5m.nc')\n",
    "# print('eliminating outlier')\n",
    "# tds['Tmax-2m']=xr.where(tds['Tmax-2m']>40,np.nan,tds['Tmax-2m'])\n",
    "# print('plotting')\n",
    "# tds['Tmax-2m'].isel(time=0).plot()"
   ]
  },
  {
   "cell_type": "code",
   "execution_count": null,
   "id": "f5ae38be-4235-45b8-a0b2-818f7a80e6ce",
   "metadata": {},
   "outputs": [],
   "source": [
    "# visual check\n",
    "# data3D.attrs['_FillValue']=-9999\n",
    "# data3D=data3D.fillna(-9999)\n",
    "data3D.isel(time=0).plot()"
   ]
  },
  {
   "cell_type": "code",
   "execution_count": null,
   "id": "125eedf8-73c0-4039-87fd-553ab3df12bb",
   "metadata": {},
   "outputs": [],
   "source": []
  },
  {
   "cell_type": "code",
   "execution_count": null,
   "id": "18a97704-00cf-4752-9e44-36c7ff583d42",
   "metadata": {},
   "outputs": [],
   "source": []
  },
  {
   "cell_type": "code",
   "execution_count": null,
   "id": "3ad56564-762a-4278-9321-4b5e19230b30",
   "metadata": {},
   "outputs": [],
   "source": []
  },
  {
   "cell_type": "code",
   "execution_count": null,
   "id": "e0ab2575-4658-41b6-914a-cdd922d126c7",
   "metadata": {},
   "outputs": [],
   "source": []
  },
  {
   "cell_type": "code",
   "execution_count": null,
   "id": "abf54484-cc5a-4cf4-926b-5f3c2c40826e",
   "metadata": {},
   "outputs": [],
   "source": []
  },
  {
   "cell_type": "code",
   "execution_count": null,
   "id": "b56504d5-22b8-4846-baea-d2e91a71b295",
   "metadata": {},
   "outputs": [],
   "source": []
  },
  {
   "cell_type": "code",
   "execution_count": null,
   "id": "b25e7271-80d8-4a37-ac97-4acbcbde8ef0",
   "metadata": {},
   "outputs": [],
   "source": []
  },
  {
   "cell_type": "code",
   "execution_count": null,
   "id": "8fc0d44f-1f13-469d-be55-dc17a11a0827",
   "metadata": {},
   "outputs": [],
   "source": []
  },
  {
   "cell_type": "code",
   "execution_count": null,
   "id": "e2bbc161-989d-4a2f-91da-7be6353ab517",
   "metadata": {},
   "outputs": [],
   "source": [
    "# ds=xr.open_dataset(maskfile,engine='rasterio').isel(y=slice(0,1800)) # 1800 from Gunther\n",
    "# ds"
   ]
  },
  {
   "cell_type": "code",
   "execution_count": null,
   "id": "5de4abab-8ae7-425f-bdd9-80d78357863a",
   "metadata": {},
   "outputs": [],
   "source": [
    "mask1D=mask2D.stack(space=['y','x'])\n",
    "# mask1D"
   ]
  },
  {
   "cell_type": "code",
   "execution_count": null,
   "id": "792f1ed6-7b58-45b7-84ce-320f58c93c22",
   "metadata": {},
   "outputs": [],
   "source": [
    "inds_data=mask1D==1\n",
    "# inds_data"
   ]
  },
  {
   "cell_type": "code",
   "execution_count": null,
   "id": "1e0adfd2-b91c-48de-8960-8cb75e7d66a0",
   "metadata": {},
   "outputs": [],
   "source": [
    "mask1D_drop=mask1D[mask1D>0]\n",
    "# mask_drop"
   ]
  },
  {
   "cell_type": "code",
   "execution_count": null,
   "id": "b0502cc0-540e-4575-9bf0-cb483998b418",
   "metadata": {},
   "outputs": [],
   "source": [
    "# newarr_drop=mask_drop.copy().astype('int16')\n",
    "# newarr_drop[:]=array2D[:,0]\n",
    "# newarr_drop"
   ]
  },
  {
   "cell_type": "code",
   "execution_count": null,
   "id": "f96d2b33-88ed-4bd6-80b6-0567bb5866b7",
   "metadata": {},
   "outputs": [],
   "source": [
    "# newarr2D=mask.copy().astype('int16')\n",
    "# newarr2D[ind\n",
    "newarr1D=mask1D.copy().astype('int16')#.astype('float32')\n",
    "# newarr1D=xr.where(newarr1D==0,-9999,newarr1D)#np.nan,newarr1D)\n",
    "newarr1D[:]=-9999\n",
    "# newarr1D[inds_data]=array2D[:,0]#newarr_drop # here giving labels to the pxv data\n",
    "# newarr1D"
   ]
  },
  {
   "cell_type": "code",
   "execution_count": null,
   "id": "0d4052d7-c43d-4212-a575-bf7bd65915be",
   "metadata": {},
   "outputs": [],
   "source": [
    "# create 3D array to store data values\n",
    "data2D=mask2D.copy()\n",
    "# data3D=data2D.expand_dims(dim={'time':ndays},axis=2).astype('int16')#.dtype#[:]=None\n",
    "# data3D[:]=-9999\n",
    "# data3D"
   ]
  },
  {
   "cell_type": "code",
   "execution_count": null,
   "id": "a9c45500-e197-4607-ad77-618975923cc9",
   "metadata": {},
   "outputs": [],
   "source": [
    "# # testing\n",
    "# newarr1D[:]=-9999\n",
    "# newarr1D[inds_data]=array2D[:,0] \n",
    "# data3D[:,:,0]=newarr1D.unstack()\n",
    "\n",
    "import dask.array as da"
   ]
  },
  {
   "cell_type": "code",
   "execution_count": null,
   "id": "44c2ab8c-39d2-4f08-ae7a-3ac6d35462bd",
   "metadata": {},
   "outputs": [],
   "source": [
    "array2D_da=da.from_array(array2D,chunks=(-1,1))\n",
    "array2D_da"
   ]
  },
  {
   "cell_type": "code",
   "execution_count": null,
   "id": "86d76948-03b0-45be-815c-2ebab24da935",
   "metadata": {},
   "outputs": [],
   "source": [
    "# inds_da=da.from_array(inds_data\n",
    "data3D_da=da.from_array(data3D,chunks=(-1,-1,1))\n",
    "data3D_da"
   ]
  },
  {
   "cell_type": "code",
   "execution_count": null,
   "id": "bd322885-b715-4bf7-9fa1-406f8c0f1c2b",
   "metadata": {},
   "outputs": [],
   "source": [
    "def data_to_nd_array(iday,inds_data,arr1D,pdata,data_out):\n",
    "    # arr1D[inds_data]=pxvdata[:,iday]\n",
    "    # data_out[:,:,iday]=arr1D.unstack()\n",
    "    arr1D[inds_data]=pdata.squeeze()\n",
    "    data_out=data_out.squeeze()\n",
    "    data_out[:,:]=arr1D.unstack()\n",
    "    # data_out[:,:,iday:iday]=arr1D.unstack()\n",
    "    return data_out.copy()\n",
    "    "
   ]
  },
  {
   "cell_type": "code",
   "execution_count": null,
   "id": "fc38cceb-502a-40cc-96d0-4fc7369337e2",
   "metadata": {},
   "outputs": [],
   "source": [
    "import dask\n",
    "# inds_delay=dask.delayed(inds_data.data.copy())\n",
    "# newarr1D_delay=dask.delayed(newarr1D.data.copy())\n",
    "# pxvdata_delay=dask.delayed(array2D)\n",
    "pxvdata_delay=array2D_da.to_delayed().ravel() \n",
    "# data3D_delay=dask.delayed(data3D.data.copy())\n",
    "data3D_delay=data3D_da.to_delayed().ravel()\n",
    "# data3D_delay"
   ]
  },
  {
   "cell_type": "code",
   "execution_count": null,
   "id": "00a62bef-ba08-426d-bf1d-a5446ffa7209",
   "metadata": {},
   "outputs": [],
   "source": [
    "days=np.arange(366)\n",
    "# days_da=days.from_array(days,chunks=\n",
    "# len(days)"
   ]
  },
  {
   "cell_type": "code",
   "execution_count": null,
   "id": "c9c7811c-cd09-4edb-9749-6728576ec85f",
   "metadata": {},
   "outputs": [],
   "source": [
    "zipvars=zip(days,pxvdata_delay,data3D_delay)\n",
    "# for one,two,three in zipvars:\n",
    "#     print(one,two,three)"
   ]
  },
  {
   "cell_type": "code",
   "execution_count": null,
   "id": "e292a4c8-4e38-4cd8-8e68-3d6cbe2e7c91",
   "metadata": {},
   "outputs": [],
   "source": [
    "# tasklist=[data_to_nd_array for iday in np.arange(ndays)]\n",
    "# task_list=[dask.delayed(data_to_nd_array)(iday,inds_delay,newarr1D_delay,pxvdata_delay[:,iday],data3D[:,:,iday:iday]) for iday in np.arange(ndays)] \n",
    "task_list=[dask.delayed(data_to_nd_array)(iday,inds_data,newarr1D,pxvdata,dataout) for iday,pxvdata,dataout in zipvars] \n",
    "len(task_list)"
   ]
  },
  {
   "cell_type": "code",
   "execution_count": null,
   "id": "beb80c7a-0c79-4a1e-9a67-097ad38543e3",
   "metadata": {},
   "outputs": [],
   "source": [
    "result_chunks=dask.compute(*task_list)\n",
    "result_chunks[0]"
   ]
  },
  {
   "cell_type": "code",
   "execution_count": null,
   "id": "d816e83e-5764-4f75-801b-f18749213891",
   "metadata": {},
   "outputs": [],
   "source": [
    "data3D=xr.concat(result_chunks,dim='time')\n",
    "data3D"
   ]
  },
  {
   "cell_type": "code",
   "execution_count": null,
   "id": "ec43766a-feab-4f66-9ba4-cec70ea6b2a8",
   "metadata": {},
   "outputs": [],
   "source": [
    "data3D.isel(time=0).plot()"
   ]
  },
  {
   "cell_type": "code",
   "execution_count": null,
   "id": "6d818f49-5036-401f-af77-1efbf047563d",
   "metadata": {},
   "outputs": [],
   "source": [
    "# unstack all days of 1D data onto the grid\n",
    "for iday in np.arange(ndays):\n",
    "    if iday%30==0: print('processing day',iday+1)\n",
    "    newarr1D[:]=-9999  # wipe the 1D array\n",
    "    newarr1D[inds_data]=array2D[:,iday]  # 1D pxv data to 1D labeled data\n",
    "    data3D[:,:,iday]=newarr1D.unstack()  # data to 3D (lat,lon,time)\n",
    "data3D    "
   ]
  },
  {
   "cell_type": "code",
   "execution_count": null,
   "id": "954ac0be-29d6-430f-b453-924803cf2154",
   "metadata": {},
   "outputs": [],
   "source": [
    "data3D=data3D.astype(np.float32)\n",
    "# data3D"
   ]
  },
  {
   "cell_type": "code",
   "execution_count": null,
   "id": "742c6245-2ec1-42cc-8abf-a531b547963c",
   "metadata": {},
   "outputs": [],
   "source": [
    "# data3D=data3D.where(data3D!=-9999)\n",
    "# data3D.dtype\n",
    "data3D=xr.where(data3D==-9999,np.float32(np.nan),data3D)\n",
    "data3D"
   ]
  },
  {
   "cell_type": "code",
   "execution_count": null,
   "id": "bee6de5d-3783-486f-8f9b-f363a78ff53e",
   "metadata": {},
   "outputs": [],
   "source": [
    "data3D.isel(time=0).plot()"
   ]
  },
  {
   "cell_type": "code",
   "execution_count": null,
   "id": "e8b38cef-028e-45ae-8d5c-264bc2d57539",
   "metadata": {},
   "outputs": [],
   "source": []
  },
  {
   "cell_type": "code",
   "execution_count": null,
   "id": "e3fa34c6-2396-4dd4-a85a-90dac2a281e1",
   "metadata": {},
   "outputs": [],
   "source": []
  },
  {
   "cell_type": "code",
   "execution_count": null,
   "id": "eef7159c-07be-48f9-bc95-9198052db72a",
   "metadata": {},
   "outputs": [],
   "source": []
  },
  {
   "cell_type": "code",
   "execution_count": null,
   "id": "603f52ce-0e8a-4c26-8d25-987305699372",
   "metadata": {},
   "outputs": [],
   "source": []
  },
  {
   "cell_type": "code",
   "execution_count": null,
   "id": "94085247-4f79-4b79-bece-4ee738bf5c2f",
   "metadata": {},
   "outputs": [],
   "source": [
    "newarr2D=newarr1D.unstack() # putting pxv data on the full grid\n",
    "newarr2D"
   ]
  },
  {
   "cell_type": "code",
   "execution_count": null,
   "id": "5c02d929-1561-437e-b88c-caff4a1d2989",
   "metadata": {},
   "outputs": [],
   "source": [
    "newarr2D=newarr2D.where(newarr2D!=-9999)\n",
    "newarr2D"
   ]
  },
  {
   "cell_type": "code",
   "execution_count": null,
   "id": "a3e436eb-c7ce-4774-a16e-f8152edc76cb",
   "metadata": {},
   "outputs": [],
   "source": [
    "newarr2D.plot()"
   ]
  },
  {
   "cell_type": "code",
   "execution_count": null,
   "id": "02eddbdb-6517-4c8e-9cea-615c7a92f060",
   "metadata": {},
   "outputs": [],
   "source": [
    "# mask.plot()"
   ]
  },
  {
   "cell_type": "code",
   "execution_count": null,
   "id": "830c0a02-c154-4542-8587-99324fc0e30c",
   "metadata": {},
   "outputs": [],
   "source": [
    "# np.float32(mask.y[0].data),np.float32(mask.x[0].data)"
   ]
  },
  {
   "cell_type": "code",
   "execution_count": null,
   "id": "b8605b42-4faf-42bd-bf2e-7957f3489a14",
   "metadata": {},
   "outputs": [],
   "source": [
    "# # mask=mask.where(mask>0)\n",
    "# mask=mask.dropna('y')\n",
    "# mask=mask.dropna('x')\n",
    "# mask"
   ]
  },
  {
   "cell_type": "code",
   "execution_count": null,
   "id": "e6842618-e204-4433-a7d8-941c9572b5e3",
   "metadata": {},
   "outputs": [],
   "source": [
    "# mask3D=mask.expand_dims(dim={'time':ndays},axis=2)\n",
    "# mask3D"
   ]
  },
  {
   "cell_type": "code",
   "execution_count": null,
   "id": "14faad86-ecae-4752-8de2-863fcd3c37de",
   "metadata": {},
   "outputs": [],
   "source": [
    "# mask1D=mask3D.stack(space=['y','x','time'])\n",
    "# mask1D"
   ]
  },
  {
   "cell_type": "code",
   "execution_count": null,
   "id": "cd0435be-8b7f-414d-9380-40c206df34d4",
   "metadata": {},
   "outputs": [],
   "source": []
  },
  {
   "cell_type": "code",
   "execution_count": null,
   "id": "0a370234-8c67-4b5a-b3e9-54a296484647",
   "metadata": {},
   "outputs": [],
   "source": []
  },
  {
   "cell_type": "code",
   "execution_count": null,
   "id": "7af2f850-a8e8-47f1-af80-3bb56614c1a5",
   "metadata": {},
   "outputs": [],
   "source": []
  },
  {
   "cell_type": "code",
   "execution_count": null,
   "id": "e5e664db-5f60-4172-a1cb-75a0d9242bb2",
   "metadata": {},
   "outputs": [],
   "source": [
    "test=mask.stack(space=['y','x'])\n",
    "test"
   ]
  },
  {
   "cell_type": "code",
   "execution_count": null,
   "id": "05851ad5-5e42-4007-bfa3-2d67afe5b7d6",
   "metadata": {},
   "outputs": [],
   "source": [
    "test2D=test.expand_dims(dim={'time':ndays},axis=1)\n",
    "test2D"
   ]
  },
  {
   "cell_type": "code",
   "execution_count": null,
   "id": "b269fceb-b482-446e-90e1-a047584c3c0a",
   "metadata": {},
   "outputs": [],
   "source": [
    "inds_data=test2D.isnull()\n",
    "inds_data"
   ]
  },
  {
   "cell_type": "code",
   "execution_count": null,
   "id": "2d2a1725-b30a-4287-b1f9-77182aa07137",
   "metadata": {},
   "outputs": [],
   "source": [
    "newarr=xr.full_like(test2D,0)\n",
    "newarr"
   ]
  },
  {
   "cell_type": "code",
   "execution_count": null,
   "id": "f9d77602-fcbc-4a91-9fec-99a609e7fdc3",
   "metadata": {},
   "outputs": [],
   "source": [
    "newarr[inds_data==True]=array2D\n",
    "newarr"
   ]
  },
  {
   "cell_type": "code",
   "execution_count": null,
   "id": "84325c09-bf06-48af-99d9-abcc12096c6a",
   "metadata": {},
   "outputs": [],
   "source": []
  },
  {
   "cell_type": "code",
   "execution_count": null,
   "id": "39fafd33-ba58-414a-85f9-6174db149d41",
   "metadata": {},
   "outputs": [],
   "source": []
  },
  {
   "cell_type": "code",
   "execution_count": null,
   "id": "77ae7f1f-653a-4831-ae98-80aec1bb95c8",
   "metadata": {},
   "outputs": [],
   "source": [
    "inds_data=test.isnull()\n",
    "# inds_nodata=test[test.null()]\n",
    "inds_data"
   ]
  },
  {
   "cell_type": "code",
   "execution_count": null,
   "id": "19b70686-cdc1-43bc-93ce-29be33c65bed",
   "metadata": {},
   "outputs": [],
   "source": []
  },
  {
   "cell_type": "code",
   "execution_count": null,
   "id": "3e040b4d-3c23-445d-a9be-b9e9560e4f9c",
   "metadata": {},
   "outputs": [],
   "source": [
    "# mask=mask.dropna('x',how='all')\n",
    "# mask\n",
    "test=test.dropna('space')\n",
    "test"
   ]
  },
  {
   "cell_type": "code",
   "execution_count": null,
   "id": "71bdb553-8dab-456f-9ba6-d9a4d538d6b6",
   "metadata": {},
   "outputs": [],
   "source": [
    "test2D=test.expand_dims(dim={'time':ndays},axis=1)\n",
    "test2D"
   ]
  },
  {
   "cell_type": "code",
   "execution_count": null,
   "id": "40514521-00a5-4169-a2e9-84f2f192f7ce",
   "metadata": {},
   "outputs": [],
   "source": [
    "newarr=xr.full_like(test2D,0)\n",
    "newarr"
   ]
  },
  {
   "cell_type": "code",
   "execution_count": null,
   "id": "fc7b353b-3e5a-457e-ad61-21b79d0c512e",
   "metadata": {},
   "outputs": [],
   "source": [
    "newarr[:,:]=array2D\n",
    "newarr"
   ]
  },
  {
   "cell_type": "code",
   "execution_count": null,
   "id": "2880887d-7888-4040-a707-7a85a68d09f3",
   "metadata": {},
   "outputs": [],
   "source": []
  },
  {
   "cell_type": "code",
   "execution_count": null,
   "id": "924025fc-07b8-4564-89ef-f24a9a9cac0f",
   "metadata": {},
   "outputs": [],
   "source": []
  },
  {
   "cell_type": "code",
   "execution_count": null,
   "id": "1daa2a0f-6fae-40d2-8176-ec824082cfad",
   "metadata": {},
   "outputs": [],
   "source": []
  },
  {
   "cell_type": "code",
   "execution_count": null,
   "id": "f77c7019-4041-494e-a1ea-2992f61c73d5",
   "metadata": {},
   "outputs": [],
   "source": [
    "lasttest=newarr.unstack()\n",
    "lasttest"
   ]
  },
  {
   "cell_type": "code",
   "execution_count": null,
   "id": "8b04aad5-e361-4556-be59-0d031ced2438",
   "metadata": {},
   "outputs": [],
   "source": [
    "lasttest.isel(time=0).plot()"
   ]
  },
  {
   "cell_type": "code",
   "execution_count": null,
   "id": "0cb3d633-53ac-4ca6-8c8a-dedd363dc2b8",
   "metadata": {},
   "outputs": [],
   "source": []
  }
 ],
 "metadata": {
  "kernelspec": {
   "display_name": "dataprep",
   "language": "python",
   "name": "dataprep"
  },
  "language_info": {
   "codemirror_mode": {
    "name": "ipython",
    "version": 3
   },
   "file_extension": ".py",
   "mimetype": "text/x-python",
   "name": "python",
   "nbconvert_exporter": "python",
   "pygments_lexer": "ipython3",
   "version": "3.11.4"
  }
 },
 "nbformat": 4,
 "nbformat_minor": 5
}
